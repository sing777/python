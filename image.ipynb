{
 "cells": [
  {
   "cell_type": "code",
   "execution_count": null,
   "id": "68c6e994-2e20-4a1e-a93f-921d4b2a104b",
   "metadata": {},
   "outputs": [],
   "source": [
    "# OCR\n"
   ]
  },
  {
   "cell_type": "code",
   "execution_count": 1,
   "id": "79d95fe0-15c6-49d9-83cf-c35cb430c18f",
   "metadata": {},
   "outputs": [],
   "source": [
    "import pytesseract"
   ]
  },
  {
   "cell_type": "code",
   "execution_count": 2,
   "id": "735ebffe-8c7a-4a6d-8eac-3ef5ffc8e1e1",
   "metadata": {},
   "outputs": [],
   "source": [
    "path = r'C:\\Program Files\\Tesseract-OCR\\tesseract.exe'\n",
    "\n",
    "pytesseract.pytesseract.tesseract_cmd = path"
   ]
  },
  {
   "cell_type": "code",
   "execution_count": 4,
   "id": "3b0fde56-8acc-4e9c-87e1-3a47eee5a8cd",
   "metadata": {},
   "outputs": [
    {
     "name": "stdout",
     "output_type": "stream",
     "text": [
      "&\n",
      "\n",
      "ster ferst\n",
      "\n",
      "INCOME TAX DEPARTMENT. J\n",
      "D MANIKANDAN\n",
      "DURAISAMY\n",
      "16/07/1986\n",
      "ari eld:\n",
      "BNZPM2501F\n",
      "/\n",
      "\n",
      " \n",
      "\n",
      "Signature £ ¥\n",
      "\f",
      "\n"
     ]
    }
   ],
   "source": [
    "data = pytesseract.image_to_string('pan1.jpg')\n",
    "print(data)"
   ]
  },
  {
   "cell_type": "code",
   "execution_count": 5,
   "id": "0e5923a1-c90b-4b48-9f4c-87e0f2ebb4b4",
   "metadata": {},
   "outputs": [],
   "source": [
    "import re"
   ]
  },
  {
   "cell_type": "code",
   "execution_count": 6,
   "id": "bd95522e-903b-4ec9-8399-3aab62fc8875",
   "metadata": {},
   "outputs": [
    {
     "data": {
      "text/plain": [
       "['BNZPM2501F']"
      ]
     },
     "execution_count": 6,
     "metadata": {},
     "output_type": "execute_result"
    }
   ],
   "source": [
    "pan_num = re.findall(r'[A-Z]{5}\\d{4}[A-Z]',data)\n",
    "pan_num"
   ]
  },
  {
   "cell_type": "code",
   "execution_count": 7,
   "id": "3fb80c31-2030-44eb-8c94-ece8e60e1f6c",
   "metadata": {},
   "outputs": [
    {
     "data": {
      "text/plain": [
       "['16/07/1986']"
      ]
     },
     "execution_count": 7,
     "metadata": {},
     "output_type": "execute_result"
    }
   ],
   "source": [
    "dob = re.findall(r'\\d{2}/\\d{2}/\\d{4}',data)\n",
    "dob"
   ]
  },
  {
   "cell_type": "code",
   "execution_count": 8,
   "id": "7e9041cf-3c3c-4792-b718-81294d66f063",
   "metadata": {},
   "outputs": [],
   "source": [
    "import os "
   ]
  },
  {
   "cell_type": "code",
   "execution_count": 19,
   "id": "42dee3bc-60e9-49b4-b3a7-bead652dc106",
   "metadata": {},
   "outputs": [
    {
     "name": "stdout",
     "output_type": "stream",
     "text": [
      "file_name=pan1.jpg\n",
      "C:\\Users\\Shridhar\\Desktop\\V\\03_17_web_scraping\\pan_card_data\\pan1.jpg\n",
      "&\n",
      "\n",
      "ster ferst\n",
      "\n",
      "INCOME TAX DEPARTMENT. J\n",
      "D MANIKANDAN\n",
      "DURAISAMY\n",
      "16/07/1986\n",
      "ari eld:\n",
      "BNZPM2501F\n",
      "/\n",
      "\n",
      " \n",
      "\n",
      "Signature £ ¥\n",
      "\f",
      "\n",
      "file_name=pan2.jpeg\n",
      "C:\\Users\\Shridhar\\Desktop\\V\\03_17_web_scraping\\pan_card_data\\pan2.jpeg\n",
      " \n",
      "\n",
      "Sete He | sl ye\n",
      "INCOME TAX DEPARTMENT OR G\n",
      "\n",
      "aa ae\n",
      "\n",
      "Permane ni a ua Number Card\n",
      "\n",
      "_ BLAPTO864M\n",
      "\n",
      " \n",
      " \n",
      "\n",
      "_—\n",
      "\n",
      "   \n",
      " \n",
      "\n",
      "TANKNATH\n",
      "\n",
      "ferat wT ATH / Father's Name\n",
      "MOTIKHAR.\n",
      "\n",
      "cava a} arg / Date of Birth eoraar\n",
      "01/01/1965 geet\n",
      "% ‘gemaAt/ Signature\n",
      "\f",
      "\n",
      "file_name=pan3.jpeg\n",
      "C:\\Users\\Shridhar\\Desktop\\V\\03_17_web_scraping\\pan_card_data\\pan3.jpeg\n",
      " \n",
      "\n",
      "INCOME TAX DEPARTMENT GOVT. OF Uhl\n",
      "MONIKA MAHADEV SHINDE\n",
      "MAHADEV SHINDE\n",
      "31/10/1992\n",
      "\n",
      "Permanent Account Number\n",
      "\n",
      "EJAPS0276M *\n",
      "MonuIkA 74 <sHINDE\n",
      "\n",
      " \n",
      "\f",
      "\n",
      "file_name=pan4.jpg\n",
      "C:\\Users\\Shridhar\\Desktop\\V\\03_17_web_scraping\\pan_card_data\\pan4.jpg\n",
      " \n",
      "\n",
      "street ANd Ua\n",
      "\n",
      " \n",
      "\n",
      "    \n",
      "\n",
      "INCOMETAX DEPARTMENT GOVT. OF INDIA\n",
      "e hapa\n",
      "\n",
      "Fs enTPN1629a :\n",
      "\n",
      "a\n",
      "\n",
      "NaSIMUDDIN\n",
      "\n",
      " \n",
      "\n",
      "a Mother's Name\n",
      "NAPISA KHATUN\n",
      "\n",
      " \n",
      "\f",
      "\n",
      "file_name=pan5.jpg\n",
      "C:\\Users\\Shridhar\\Desktop\\V\\03_17_web_scraping\\pan_card_data\\pan5.jpg\n",
      "Fe ~~\n",
      "sTaax feat AR Uy\n",
      "INCOMETAXDERARIMENT gi) GOVT. OF FINDIA\n",
      "PREMSANKAR\n",
      "\n",
      "VANAMAMALAIPERUMAL\n",
      "\n",
      "09/07/1986\n",
      "Permanent Account Number:\n",
      "\n",
      "BJDPP6011M\n",
      "y Me ee\n",
      "\n",
      ". Signature\n",
      "\n",
      " \n",
      "\n",
      " \n",
      "\f",
      "\n"
     ]
    }
   ],
   "source": [
    "folder_path = r\"C:\\Users\\Shridhar\\Desktop\\V\\03_17_web_scraping\\pan_card_data\"\n",
    "file_name = os.listdir(folder_path)\n",
    "for file in file_name:\n",
    "    print(f\"file_name={file}\")\n",
    "    image_path = os.path.join(folder_path,file)\n",
    "    print(image_path)\n",
    "    data = pytesseract.image_to_string(image_path)\n",
    "    print(data)\n",
    "    \n",
    "    pan_num = re.findall(r'[A-Z]{5}\\d{4}[A-Z]',data)\n",
    "    pan_num\n",
    "    \n",
    "    dob = re.findall(r'\\d{2}/\\d{2}/\\d{4}',data)\n",
    "    dob"
   ]
  },
  {
   "cell_type": "code",
   "execution_count": 31,
   "id": "6669f4e7-5137-4b15-8bf5-eac63304690e",
   "metadata": {},
   "outputs": [
    {
     "name": "stdout",
     "output_type": "stream",
     "text": [
      "&\n",
      "\n",
      "ster ferst\n",
      "\n",
      "INCOME TAX DEPARTMENT. J\n",
      "D MANIKANDAN\n",
      "DURAISAMY\n",
      "16/07/1986\n",
      "ari eld:\n",
      "BNZPM2501F\n",
      "/\n",
      "\n",
      " \n",
      "\n",
      "Signature £ ¥\n",
      "\f",
      "\n",
      "['BNZPM2501F']\n",
      "['16/07/1986']\n",
      " \n",
      "\n",
      "Sete He | sl ye\n",
      "INCOME TAX DEPARTMENT OR G\n",
      "\n",
      "aa ae\n",
      "\n",
      "Permane ni a ua Number Card\n",
      "\n",
      "_ BLAPTO864M\n",
      "\n",
      " \n",
      " \n",
      "\n",
      "_—\n",
      "\n",
      "   \n",
      " \n",
      "\n",
      "TANKNATH\n",
      "\n",
      "ferat wT ATH / Father's Name\n",
      "MOTIKHAR.\n",
      "\n",
      "cava a} arg / Date of Birth eoraar\n",
      "01/01/1965 geet\n",
      "% ‘gemaAt/ Signature\n",
      "\f",
      "\n",
      "[]\n",
      "['01/01/1965']\n",
      " \n",
      "\n",
      "INCOME TAX DEPARTMENT GOVT. OF Uhl\n",
      "MONIKA MAHADEV SHINDE\n",
      "MAHADEV SHINDE\n",
      "31/10/1992\n",
      "\n",
      "Permanent Account Number\n",
      "\n",
      "EJAPS0276M *\n",
      "MonuIkA 74 <sHINDE\n",
      "\n",
      " \n",
      "\f",
      "\n",
      "['EJAPS0276M']\n",
      "['31/10/1992']\n",
      " \n",
      "\n",
      "street ANd Ua\n",
      "\n",
      " \n",
      "\n",
      "    \n",
      "\n",
      "INCOMETAX DEPARTMENT GOVT. OF INDIA\n",
      "e hapa\n",
      "\n",
      "Fs enTPN1629a :\n",
      "\n",
      "a\n",
      "\n",
      "NaSIMUDDIN\n",
      "\n",
      " \n",
      "\n",
      "a Mother's Name\n",
      "NAPISA KHATUN\n",
      "\n",
      " \n",
      "\f",
      "\n",
      "[]\n",
      "[]\n",
      "Fe ~~\n",
      "sTaax feat AR Uy\n",
      "INCOMETAXDERARIMENT gi) GOVT. OF FINDIA\n",
      "PREMSANKAR\n",
      "\n",
      "VANAMAMALAIPERUMAL\n",
      "\n",
      "09/07/1986\n",
      "Permanent Account Number:\n",
      "\n",
      "BJDPP6011M\n",
      "y Me ee\n",
      "\n",
      ". Signature\n",
      "\n",
      " \n",
      "\n",
      " \n",
      "\f",
      "\n",
      "['BJDPP6011M']\n",
      "['09/07/1986']\n"
     ]
    }
   ],
   "source": [
    "folder_path = r\"C:\\Users\\Shridhar\\Desktop\\V\\03_17_web_scraping\\pan_card_data\"\n",
    "file_name = os.listdir(folder_path)\n",
    "for file in file_name:\n",
    "    # print(f\"file_name={file}\")\n",
    "    image_path = os.path.join(folder_path,file)\n",
    "    # print(image_path)\n",
    "    data = pytesseract.image_to_string(image_path)\n",
    "    print(data)\n",
    "    \n",
    "    pan_num = re.findall(r'[A-Z]{5}\\d{4}[A-Z]',data)\n",
    "    print(pan_num)\n",
    "    \n",
    "    dob = re.findall(r'\\d{2}/\\d{2}/\\d{4}',data)\n",
    "    print(dob)"
   ]
  },
  {
   "cell_type": "code",
   "execution_count": 26,
   "id": "3287aa18-6ade-4727-888c-b28a9199decb",
   "metadata": {},
   "outputs": [
    {
     "name": "stdout",
     "output_type": "stream",
     "text": [
      "['BNZPM2501F']\n",
      "['16/07/1986']\n",
      "[]\n",
      "['01/01/1965']\n",
      "['EJAPS0276M']\n",
      "['31/10/1992']\n",
      "[]\n",
      "[]\n",
      "['BJDPP6011M']\n",
      "['09/07/1986']\n",
      "['BNZPM2501F', '', 'EJAPS0276M', '', 'BJDPP6011M']\n",
      "['16/07/1986', '01/01/1965', '31/10/1992', '', '09/07/1986']\n"
     ]
    }
   ],
   "source": [
    "folder_path = r\"C:\\Users\\Shridhar\\Desktop\\V\\03_17_web_scraping\\pan_card_data\"\n",
    "file_name = os.listdir(folder_path)\n",
    "pan_list,dob_list = [],[]\n",
    "for file in file_name:\n",
    "    # print(f\"file_name={file}\")\n",
    "    image_path = os.path.join(folder_path,file)\n",
    "    # print(image_path)\n",
    "    data = pytesseract.image_to_string(image_path)\n",
    "    # print(data)\n",
    "    \n",
    "    pan_num = re.findall(r'[A-Z]{5}\\d{4}[A-Z]',data)\n",
    "    print(pan_num)\n",
    "    if pan_num:\n",
    "        pan_list.append(pan_num[0])\n",
    "    else:\n",
    "        pan_list.append('')\n",
    "    \n",
    "    dob = re.findall(r'\\d{2}/\\d{2}/\\d{4}',data)\n",
    "    print(dob)\n",
    "    if dob:\n",
    "        dob_list.append(dob[0])\n",
    "    else:\n",
    "        dob_list.append('')\n",
    "        \n",
    "        \n",
    "        \n",
    "print(pan_list)\n",
    "print(dob_list)"
   ]
  },
  {
   "cell_type": "code",
   "execution_count": 27,
   "id": "9dc133e0-08b8-4a92-a472-3ea4069cc732",
   "metadata": {},
   "outputs": [
    {
     "data": {
      "text/plain": [
       "{'pan_num': ['BNZPM2501F', '', 'EJAPS0276M', '', 'BJDPP6011M'],\n",
       " 'DOB': ['16/07/1986', '01/01/1965', '31/10/1992', '', '09/07/1986']}"
      ]
     },
     "execution_count": 27,
     "metadata": {},
     "output_type": "execute_result"
    }
   ],
   "source": [
    "dict1 = {'pan_num':pan_list,\n",
    "        'DOB':dob_list}\n",
    "dict1"
   ]
  },
  {
   "cell_type": "code",
   "execution_count": 28,
   "id": "532e19e4-b1cd-4539-bc9a-8a8810decae4",
   "metadata": {},
   "outputs": [],
   "source": [
    "import pandas as pd"
   ]
  },
  {
   "cell_type": "code",
   "execution_count": 29,
   "id": "2b949802-5d79-4add-afa4-67c14435c8da",
   "metadata": {},
   "outputs": [
    {
     "data": {
      "text/html": [
       "<div>\n",
       "<style scoped>\n",
       "    .dataframe tbody tr th:only-of-type {\n",
       "        vertical-align: middle;\n",
       "    }\n",
       "\n",
       "    .dataframe tbody tr th {\n",
       "        vertical-align: top;\n",
       "    }\n",
       "\n",
       "    .dataframe thead th {\n",
       "        text-align: right;\n",
       "    }\n",
       "</style>\n",
       "<table border=\"1\" class=\"dataframe\">\n",
       "  <thead>\n",
       "    <tr style=\"text-align: right;\">\n",
       "      <th></th>\n",
       "      <th>pan_num</th>\n",
       "      <th>DOB</th>\n",
       "    </tr>\n",
       "  </thead>\n",
       "  <tbody>\n",
       "    <tr>\n",
       "      <th>0</th>\n",
       "      <td>BNZPM2501F</td>\n",
       "      <td>16/07/1986</td>\n",
       "    </tr>\n",
       "    <tr>\n",
       "      <th>1</th>\n",
       "      <td></td>\n",
       "      <td>01/01/1965</td>\n",
       "    </tr>\n",
       "    <tr>\n",
       "      <th>2</th>\n",
       "      <td>EJAPS0276M</td>\n",
       "      <td>31/10/1992</td>\n",
       "    </tr>\n",
       "    <tr>\n",
       "      <th>3</th>\n",
       "      <td></td>\n",
       "      <td></td>\n",
       "    </tr>\n",
       "    <tr>\n",
       "      <th>4</th>\n",
       "      <td>BJDPP6011M</td>\n",
       "      <td>09/07/1986</td>\n",
       "    </tr>\n",
       "  </tbody>\n",
       "</table>\n",
       "</div>"
      ],
      "text/plain": [
       "      pan_num         DOB\n",
       "0  BNZPM2501F  16/07/1986\n",
       "1              01/01/1965\n",
       "2  EJAPS0276M  31/10/1992\n",
       "3                        \n",
       "4  BJDPP6011M  09/07/1986"
      ]
     },
     "execution_count": 29,
     "metadata": {},
     "output_type": "execute_result"
    }
   ],
   "source": [
    "df = pd.DataFrame(dict1)\n",
    "df"
   ]
  },
  {
   "cell_type": "code",
   "execution_count": 30,
   "id": "47ae769c-2a43-4052-a410-3bc9cb8ffb8b",
   "metadata": {},
   "outputs": [],
   "source": [
    "df.to_csv('pan_result.csv')"
   ]
  },
  {
   "cell_type": "code",
   "execution_count": null,
   "id": "310398cb-1411-4ac7-8755-1866dd555106",
   "metadata": {},
   "outputs": [],
   "source": []
  }
 ],
 "metadata": {
  "kernelspec": {
   "display_name": "Python 3 (ipykernel)",
   "language": "python",
   "name": "python3"
  },
  "language_info": {
   "codemirror_mode": {
    "name": "ipython",
    "version": 3
   },
   "file_extension": ".py",
   "mimetype": "text/x-python",
   "name": "python",
   "nbconvert_exporter": "python",
   "pygments_lexer": "ipython3",
   "version": "3.9.7"
  }
 },
 "nbformat": 4,
 "nbformat_minor": 5
}
