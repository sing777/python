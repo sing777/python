{
 "cells": [
  {
   "cell_type": "code",
   "execution_count": null,
   "id": "0c3c8677",
   "metadata": {},
   "outputs": [],
   "source": []
  },
  {
   "cell_type": "markdown",
   "id": "daae9377",
   "metadata": {},
   "source": [
    "<!-- reshape() -->"
   ]
  },
  {
   "cell_type": "code",
   "execution_count": null,
   "id": "2e92090e",
   "metadata": {},
   "outputs": [],
   "source": [
    "array = np.array([1,2,3,4,5,6,7,8,9,10,11,12])\n",
    "new_array = array.reshape(3,4)\n",
    "print(new_array)"
   ]
  },
  {
   "cell_type": "code",
   "execution_count": null,
   "id": "9a0688fc",
   "metadata": {},
   "outputs": [],
   "source": []
  },
  {
   "cell_type": "code",
   "execution_count": null,
   "id": "c90ee7af",
   "metadata": {},
   "outputs": [],
   "source": [
    "array = np.array([1,2,3,4,5,6,7,8,9,10,11,12])\n",
    "display_array(array)\n",
    "\n",
    "new_array = array.reshape(2,2,3)\n",
    "\n",
    "display_array(new_array)"
   ]
  },
  {
   "cell_type": "code",
   "execution_count": null,
   "id": "e65d00aa",
   "metadata": {},
   "outputs": [],
   "source": [
    "# ACCESS ELEMENTS IN ARRAY\n",
    "import numpy as np\n",
    "array = np.array([[1,2,3,4,5,6],[7,8,9,10,11,12]])\n",
    "\n",
    "for i in array:\n",
    "    for j in i:\n",
    "        print(j)\n",
    "print(array.ndim) "
   ]
  },
  {
   "cell_type": "code",
   "execution_count": null,
   "id": "d3f34402",
   "metadata": {},
   "outputs": [],
   "source": []
  },
  {
   "cell_type": "code",
   "execution_count": null,
   "id": "1f33447c",
   "metadata": {},
   "outputs": [],
   "source": [
    "# nditer()\n",
    "array = np.array([[[2,3],[4,5]],[[6,7],[8,9]]])\n",
    "\n",
    "array_iter = np.nditer(array)\n",
    "print(array_iter)\n",
    "\n",
    "print(next(array_iter))\n",
    "\n",
    "\n",
    "print(next(array_iter))"
   ]
  },
  {
   "cell_type": "code",
   "execution_count": null,
   "id": "23775361",
   "metadata": {},
   "outputs": [],
   "source": []
  },
  {
   "cell_type": "code",
   "execution_count": null,
   "id": "6bf14873",
   "metadata": {},
   "outputs": [],
   "source": [
    "# ndenumerate()\n",
    "arr = np.array([2,3,4,5,6])\n",
    "\n",
    "for index,value in np.ndenumerate(arr):\n",
    "    print(index,value)"
   ]
  },
  {
   "cell_type": "code",
   "execution_count": null,
   "id": "437198d5",
   "metadata": {},
   "outputs": [],
   "source": []
  },
  {
   "cell_type": "code",
   "execution_count": null,
   "id": "205b21d7",
   "metadata": {},
   "outputs": [],
   "source": [
    "# zeroes()\n",
    "arr = np.zeros((7,7), dtype=int)\n",
    "\n",
    "arr"
   ]
  },
  {
   "cell_type": "code",
   "execution_count": null,
   "id": "af5dec12",
   "metadata": {},
   "outputs": [],
   "source": [
    "# arrange()"
   ]
  },
  {
   "cell_type": "code",
   "execution_count": null,
   "id": "f121617d-c884-42f9-aa45-0082d78e0f3d",
   "metadata": {
    "id": "f121617d-c884-42f9-aa45-0082d78e0f3d",
    "outputId": "697e5462-6af8-47c5-93ee-497c136f5358"
   },
   "outputs": [
    {
     "data": {
      "text/plain": [
       "[5, 6, 7, 8, 9]"
      ]
     },
     "execution_count": 1,
     "metadata": {},
     "output_type": "execute_result"
    }
   ],
   "source": [
    "var = list(range(5,10))\n",
    "var"
   ]
  },
  {
   "cell_type": "code",
   "execution_count": 1,
   "id": "277d4a2e-ab8f-4e3b-9bb5-28e78050b427",
   "metadata": {
    "id": "277d4a2e-ab8f-4e3b-9bb5-28e78050b427",
    "outputId": "bcd8734f-09da-4941-d607-f027f39bda38"
   },
   "outputs": [
    {
     "data": {
      "text/plain": [
       "array([2, 3, 4, 5, 6])"
      ]
     },
     "execution_count": 1,
     "metadata": {},
     "output_type": "execute_result"
    }
   ],
   "source": [
    "import numpy as np\n",
    "arr = np.array([2,3,4,5,6])\n",
    "arr"
   ]
  },
  {
   "cell_type": "code",
   "execution_count": null,
   "id": "d4a6da16-f236-49d3-bd4d-ee16a91157a2",
   "metadata": {
    "id": "d4a6da16-f236-49d3-bd4d-ee16a91157a2",
    "outputId": "f902d03a-7cb0-45b2-80b9-55bcaf44eb15"
   },
   "outputs": [
    {
     "data": {
      "text/plain": [
       "array([2, 3, 4, 5, 6])"
      ]
     },
     "execution_count": 4,
     "metadata": {},
     "output_type": "execute_result"
    }
   ],
   "source": [
    "arr = np.arange(2,7) ## last element is not icluded \n",
    "arr"
   ]
  },
  {
   "cell_type": "code",
   "execution_count": null,
   "id": "f7ab5e3d-386d-4300-b8aa-77072206328c",
   "metadata": {
    "id": "f7ab5e3d-386d-4300-b8aa-77072206328c",
    "outputId": "c2608337-1fbd-4d96-8796-f8b91e6d48a4"
   },
   "outputs": [
    {
     "data": {
      "text/plain": [
       "array([2, 5])"
      ]
     },
     "execution_count": 5,
     "metadata": {},
     "output_type": "execute_result"
    }
   ],
   "source": [
    "arr = np.arange(2,7,3) ## last element is not icluded \n",
    "arr"
   ]
  },
  {
   "cell_type": "code",
   "execution_count": null,
   "id": "d98731f9-7563-486c-b28c-421df8d592f2",
   "metadata": {
    "id": "d98731f9-7563-486c-b28c-421df8d592f2",
    "outputId": "952232cd-ecb1-472e-8f13-4cb751142680"
   },
   "outputs": [
    {
     "data": {
      "text/plain": [
       "array([ 0,  2,  4,  6,  8, 10, 12, 14, 16, 18])"
      ]
     },
     "execution_count": 6,
     "metadata": {},
     "output_type": "execute_result"
    }
   ],
   "source": [
    "arr = np.arange(0,20,2) ## last element is not icluded \n",
    "arr"
   ]
  },
  {
   "cell_type": "code",
   "execution_count": null,
   "id": "b7dd8e92-afa1-4591-9869-0499daa6ea05",
   "metadata": {
    "id": "b7dd8e92-afa1-4591-9869-0499daa6ea05",
    "outputId": "2038c344-06bd-4954-f559-8256442df582"
   },
   "outputs": [
    {
     "data": {
      "text/plain": [
       "array([ 1,  3,  5,  7,  9, 11, 13, 15, 17, 19])"
      ]
     },
     "execution_count": 7,
     "metadata": {},
     "output_type": "execute_result"
    }
   ],
   "source": [
    "arr = np.arange(1,20,2) ## last element is not icluded \n",
    "arr"
   ]
  },
  {
   "cell_type": "code",
   "execution_count": null,
   "id": "b742a5ef-5125-4b7a-aa48-09e94601881d",
   "metadata": {
    "id": "b742a5ef-5125-4b7a-aa48-09e94601881d",
    "outputId": "8730c24c-3712-47d1-e21f-0178feca1478"
   },
   "outputs": [
    {
     "data": {
      "text/plain": [
       "array([20, 19, 18, 17, 16, 15, 14, 13, 12, 11, 10,  9,  8,  7,  6,  5,  4,\n",
       "        3,  2])"
      ]
     },
     "execution_count": 8,
     "metadata": {},
     "output_type": "execute_result"
    }
   ],
   "source": [
    "arr = np.arange(20,1,-1) ## last element is not icluded \n",
    "arr"
   ]
  },
  {
   "cell_type": "code",
   "execution_count": null,
   "id": "3805101b-5308-480c-98d8-def4fd7b3e71",
   "metadata": {
    "id": "3805101b-5308-480c-98d8-def4fd7b3e71",
    "outputId": "b50c04dc-58b3-4d5c-befa-00e190845144"
   },
   "outputs": [
    {
     "data": {
      "text/plain": [
       "array([-10,  -9,  -8,  -7,  -6,  -5,  -4,  -3,  -2,  -1,   0,   1,   2,\n",
       "         3,   4])"
      ]
     },
     "execution_count": 9,
     "metadata": {},
     "output_type": "execute_result"
    }
   ],
   "source": [
    "arr = np.arange(-10,5) ## last element is not icluded \n",
    "arr"
   ]
  },
  {
   "cell_type": "markdown",
   "id": "b63097ae-3d36-49aa-bce0-5914c5a8720c",
   "metadata": {
    "id": "b63097ae-3d36-49aa-bce0-5914c5a8720c"
   },
   "source": [
    "## linspace()"
   ]
  },
  {
   "cell_type": "code",
   "execution_count": null,
   "id": "043714ee-d314-444c-b2d7-92e3f511f558",
   "metadata": {
    "id": "043714ee-d314-444c-b2d7-92e3f511f558"
   },
   "outputs": [],
   "source": [
    "linspace() >> return an array evenly spaced values\n",
    "\n",
    "\n",
    "syntax:\n",
    "np.linspace(start,end, num = 50)"
   ]
  },
  {
   "cell_type": "code",
   "execution_count": 8,
   "id": "9a3801cb-d2f7-4c53-afb5-1d143c35a6ad",
   "metadata": {
    "id": "9a3801cb-d2f7-4c53-afb5-1d143c35a6ad",
    "outputId": "a4ca4951-ccc5-41f6-b472-4f4084711d95"
   },
   "outputs": [
    {
     "data": {
      "text/plain": [
       "(array([ 1.,  2.,  3.,  4.,  5.,  6.,  7.,  8.,  9., 10., 11., 12., 13.,\n",
       "        14., 15., 16., 17., 18., 19., 20., 21., 22., 23., 24., 25., 26.,\n",
       "        27., 28., 29., 30., 31., 32., 33., 34., 35., 36., 37., 38., 39.,\n",
       "        40., 41., 42., 43., 44., 45., 46., 47., 48., 49., 50.]),\n",
       " 1.0)"
      ]
     },
     "execution_count": 8,
     "metadata": {},
     "output_type": "execute_result"
    }
   ],
   "source": [
    "arr = np.linspace(1,50, num= 50,retstep=True)\n",
    "arr"
   ]
  },
  {
   "cell_type": "code",
   "execution_count": null,
   "id": "36950ffa-3c05-433c-9400-8eba4376e78f",
   "metadata": {
    "id": "36950ffa-3c05-433c-9400-8eba4376e78f",
    "outputId": "66f66090-83c4-471c-eaa8-5804871e7c2b"
   },
   "outputs": [
    {
     "data": {
      "text/plain": [
       "array([ 1.        ,  1.18367347,  1.36734694,  1.55102041,  1.73469388,\n",
       "        1.91836735,  2.10204082,  2.28571429,  2.46938776,  2.65306122,\n",
       "        2.83673469,  3.02040816,  3.20408163,  3.3877551 ,  3.57142857,\n",
       "        3.75510204,  3.93877551,  4.12244898,  4.30612245,  4.48979592,\n",
       "        4.67346939,  4.85714286,  5.04081633,  5.2244898 ,  5.40816327,\n",
       "        5.59183673,  5.7755102 ,  5.95918367,  6.14285714,  6.32653061,\n",
       "        6.51020408,  6.69387755,  6.87755102,  7.06122449,  7.24489796,\n",
       "        7.42857143,  7.6122449 ,  7.79591837,  7.97959184,  8.16326531,\n",
       "        8.34693878,  8.53061224,  8.71428571,  8.89795918,  9.08163265,\n",
       "        9.26530612,  9.44897959,  9.63265306,  9.81632653, 10.        ])"
      ]
     },
     "execution_count": 11,
     "metadata": {},
     "output_type": "execute_result"
    }
   ],
   "source": [
    "arr = np.linspace(1,10, num= 50 )\n",
    "arr"
   ]
  },
  {
   "cell_type": "code",
   "execution_count": null,
   "id": "0232493e-56f5-4b3f-8ac8-1f9376bce067",
   "metadata": {
    "id": "0232493e-56f5-4b3f-8ac8-1f9376bce067",
    "outputId": "7ff1bdab-7668-4215-a689-e80cabb2bdba"
   },
   "outputs": [
    {
     "data": {
      "text/plain": [
       "array([10.        , 10.20408163, 10.40816327, 10.6122449 , 10.81632653,\n",
       "       11.02040816, 11.2244898 , 11.42857143, 11.63265306, 11.83673469,\n",
       "       12.04081633, 12.24489796, 12.44897959, 12.65306122, 12.85714286,\n",
       "       13.06122449, 13.26530612, 13.46938776, 13.67346939, 13.87755102,\n",
       "       14.08163265, 14.28571429, 14.48979592, 14.69387755, 14.89795918,\n",
       "       15.10204082, 15.30612245, 15.51020408, 15.71428571, 15.91836735,\n",
       "       16.12244898, 16.32653061, 16.53061224, 16.73469388, 16.93877551,\n",
       "       17.14285714, 17.34693878, 17.55102041, 17.75510204, 17.95918367,\n",
       "       18.16326531, 18.36734694, 18.57142857, 18.7755102 , 18.97959184,\n",
       "       19.18367347, 19.3877551 , 19.59183673, 19.79591837, 20.        ])"
      ]
     },
     "execution_count": 12,
     "metadata": {},
     "output_type": "execute_result"
    }
   ],
   "source": [
    "arr = np.linspace(10,20)\n",
    "arr"
   ]
  },
  {
   "cell_type": "code",
   "execution_count": 6,
   "id": "f26c4a08-80d6-46a1-a965-6eb2a91e7e26",
   "metadata": {
    "id": "f26c4a08-80d6-46a1-a965-6eb2a91e7e26",
    "outputId": "24153f90-1930-4ac3-85c9-1f6f587a2ef9"
   },
   "outputs": [
    {
     "data": {
      "text/plain": [
       "array([1.        , 1.00020408, 1.00040816, 1.00061224, 1.00081633,\n",
       "       1.00102041, 1.00122449, 1.00142857, 1.00163265, 1.00183673,\n",
       "       1.00204082, 1.0022449 , 1.00244898, 1.00265306, 1.00285714,\n",
       "       1.00306122, 1.00326531, 1.00346939, 1.00367347, 1.00387755,\n",
       "       1.00408163, 1.00428571, 1.0044898 , 1.00469388, 1.00489796,\n",
       "       1.00510204, 1.00530612, 1.0055102 , 1.00571429, 1.00591837,\n",
       "       1.00612245, 1.00632653, 1.00653061, 1.00673469, 1.00693878,\n",
       "       1.00714286, 1.00734694, 1.00755102, 1.0077551 , 1.00795918,\n",
       "       1.00816327, 1.00836735, 1.00857143, 1.00877551, 1.00897959,\n",
       "       1.00918367, 1.00938776, 1.00959184, 1.00979592, 1.01      ])"
      ]
     },
     "execution_count": 6,
     "metadata": {},
     "output_type": "execute_result"
    }
   ],
   "source": [
    "arr = np.linspace(1,1.01 )\n",
    "arr"
   ]
  },
  {
   "cell_type": "code",
   "execution_count": null,
   "id": "dbca6242-e3c8-46dc-a21f-0471ba21c85a",
   "metadata": {
    "id": "dbca6242-e3c8-46dc-a21f-0471ba21c85a",
    "outputId": "514a87fd-a8e4-40b8-94c6-ebafc04febe9"
   },
   "outputs": [
    {
     "data": {
      "text/plain": [
       "(array([10. , 12.5, 15. , 17.5, 20. ]), 2.5)"
      ]
     },
     "execution_count": 14,
     "metadata": {},
     "output_type": "execute_result"
    }
   ],
   "source": [
    "arr = np.linspace(10,20 , num = 5,retstep=True)\n",
    "arr"
   ]
  },
  {
   "cell_type": "code",
   "execution_count": null,
   "id": "faf1360f-0659-4021-a321-a7c50d044df5",
   "metadata": {
    "id": "faf1360f-0659-4021-a321-a7c50d044df5",
    "outputId": "2bde588a-3e79-4708-bdf3-93ec4ba0ed7b"
   },
   "outputs": [
    {
     "data": {
      "text/plain": [
       "(array([100.        , 100.75376884, 101.50753769, 102.26130653,\n",
       "        103.01507538, 103.76884422, 104.52261307, 105.27638191,\n",
       "        106.03015075, 106.7839196 , 107.53768844, 108.29145729,\n",
       "        109.04522613, 109.79899497, 110.55276382, 111.30653266,\n",
       "        112.06030151, 112.81407035, 113.5678392 , 114.32160804,\n",
       "        115.07537688, 115.82914573, 116.58291457, 117.33668342,\n",
       "        118.09045226, 118.84422111, 119.59798995, 120.35175879,\n",
       "        121.10552764, 121.85929648, 122.61306533, 123.36683417,\n",
       "        124.12060302, 124.87437186, 125.6281407 , 126.38190955,\n",
       "        127.13567839, 127.88944724, 128.64321608, 129.39698492,\n",
       "        130.15075377, 130.90452261, 131.65829146, 132.4120603 ,\n",
       "        133.16582915, 133.91959799, 134.67336683, 135.42713568,\n",
       "        136.18090452, 136.93467337, 137.68844221, 138.44221106,\n",
       "        139.1959799 , 139.94974874, 140.70351759, 141.45728643,\n",
       "        142.21105528, 142.96482412, 143.71859296, 144.47236181,\n",
       "        145.22613065, 145.9798995 , 146.73366834, 147.48743719,\n",
       "        148.24120603, 148.99497487, 149.74874372, 150.50251256,\n",
       "        151.25628141, 152.01005025, 152.7638191 , 153.51758794,\n",
       "        154.27135678, 155.02512563, 155.77889447, 156.53266332,\n",
       "        157.28643216, 158.04020101, 158.79396985, 159.54773869,\n",
       "        160.30150754, 161.05527638, 161.80904523, 162.56281407,\n",
       "        163.31658291, 164.07035176, 164.8241206 , 165.57788945,\n",
       "        166.33165829, 167.08542714, 167.83919598, 168.59296482,\n",
       "        169.34673367, 170.10050251, 170.85427136, 171.6080402 ,\n",
       "        172.36180905, 173.11557789, 173.86934673, 174.62311558,\n",
       "        175.37688442, 176.13065327, 176.88442211, 177.63819095,\n",
       "        178.3919598 , 179.14572864, 179.89949749, 180.65326633,\n",
       "        181.40703518, 182.16080402, 182.91457286, 183.66834171,\n",
       "        184.42211055, 185.1758794 , 185.92964824, 186.68341709,\n",
       "        187.43718593, 188.19095477, 188.94472362, 189.69849246,\n",
       "        190.45226131, 191.20603015, 191.95979899, 192.71356784,\n",
       "        193.46733668, 194.22110553, 194.97487437, 195.72864322,\n",
       "        196.48241206, 197.2361809 , 197.98994975, 198.74371859,\n",
       "        199.49748744, 200.25125628, 201.00502513, 201.75879397,\n",
       "        202.51256281, 203.26633166, 204.0201005 , 204.77386935,\n",
       "        205.52763819, 206.28140704, 207.03517588, 207.78894472,\n",
       "        208.54271357, 209.29648241, 210.05025126, 210.8040201 ,\n",
       "        211.55778894, 212.31155779, 213.06532663, 213.81909548,\n",
       "        214.57286432, 215.32663317, 216.08040201, 216.83417085,\n",
       "        217.5879397 , 218.34170854, 219.09547739, 219.84924623,\n",
       "        220.60301508, 221.35678392, 222.11055276, 222.86432161,\n",
       "        223.61809045, 224.3718593 , 225.12562814, 225.87939698,\n",
       "        226.63316583, 227.38693467, 228.14070352, 228.89447236,\n",
       "        229.64824121, 230.40201005, 231.15577889, 231.90954774,\n",
       "        232.66331658, 233.41708543, 234.17085427, 234.92462312,\n",
       "        235.67839196, 236.4321608 , 237.18592965, 237.93969849,\n",
       "        238.69346734, 239.44723618, 240.20100503, 240.95477387,\n",
       "        241.70854271, 242.46231156, 243.2160804 , 243.96984925,\n",
       "        244.72361809, 245.47738693, 246.23115578, 246.98492462,\n",
       "        247.73869347, 248.49246231, 249.24623116, 250.        ]),\n",
       " 0.7537688442211056)"
      ]
     },
     "execution_count": 15,
     "metadata": {},
     "output_type": "execute_result"
    }
   ],
   "source": [
    "arr = np.linspace(100,250 , num = 200,retstep=True)\n",
    "arr"
   ]
  },
  {
   "cell_type": "markdown",
   "id": "4a8230a9-0530-4b5b-a361-91f0a5825c6f",
   "metadata": {
    "id": "4a8230a9-0530-4b5b-a361-91f0a5825c6f"
   },
   "source": [
    "## eye ()"
   ]
  },
  {
   "cell_type": "code",
   "execution_count": null,
   "id": "1c624aaf-3e6b-4dde-9442-55184f478c03",
   "metadata": {
    "id": "1c624aaf-3e6b-4dde-9442-55184f478c03"
   },
   "outputs": [],
   "source": [
    "eye() >> return an array with ones on diagonal and zeros elsewhere\n",
    "\n",
    "syntax: \n",
    "    \n",
    "np.eye(shape,dtype)\n"
   ]
  },
  {
   "cell_type": "code",
   "execution_count": null,
   "id": "a7b40b71-ebb2-416f-b540-84e4ce7be067",
   "metadata": {
    "id": "a7b40b71-ebb2-416f-b540-84e4ce7be067",
    "outputId": "f43beb12-3b39-4847-e3a6-9b93d8121749"
   },
   "outputs": [
    {
     "data": {
      "text/plain": [
       "array([[1., 0., 0., 0., 0.],\n",
       "       [0., 1., 0., 0., 0.],\n",
       "       [0., 0., 1., 0., 0.],\n",
       "       [0., 0., 0., 1., 0.],\n",
       "       [0., 0., 0., 0., 1.]])"
      ]
     },
     "execution_count": 16,
     "metadata": {},
     "output_type": "execute_result"
    }
   ],
   "source": [
    "arr = np.eye(5)\n",
    "arr"
   ]
  },
  {
   "cell_type": "code",
   "execution_count": null,
   "id": "16aaab4e-1244-4d3b-a1f8-f376c330c89b",
   "metadata": {
    "id": "16aaab4e-1244-4d3b-a1f8-f376c330c89b",
    "outputId": "4a048102-6e71-4d6a-d6c0-b32796b11509"
   },
   "outputs": [
    {
     "data": {
      "text/plain": [
       "array([[1, 0, 0, 0, 0],\n",
       "       [0, 1, 0, 0, 0],\n",
       "       [0, 0, 1, 0, 0],\n",
       "       [0, 0, 0, 1, 0],\n",
       "       [0, 0, 0, 0, 1]])"
      ]
     },
     "execution_count": 17,
     "metadata": {},
     "output_type": "execute_result"
    }
   ],
   "source": [
    "arr = np.eye(5,dtype=int)\n",
    "arr"
   ]
  },
  {
   "cell_type": "code",
   "execution_count": 17,
   "id": "adf37399-167d-44dc-aab8-fd57eb046f8d",
   "metadata": {
    "id": "adf37399-167d-44dc-aab8-fd57eb046f8d",
    "outputId": "f55e5ad9-25e4-4c58-e190-479264e197c2"
   },
   "outputs": [
    {
     "data": {
      "text/plain": [
       "array([[1, 0, 0, 0],\n",
       "       [0, 1, 0, 0],\n",
       "       [0, 0, 1, 0],\n",
       "       [0, 0, 0, 1],\n",
       "       [0, 0, 0, 0]])"
      ]
     },
     "execution_count": 17,
     "metadata": {},
     "output_type": "execute_result"
    }
   ],
   "source": [
    "arr = np.eye(5,4,dtype=int)\n",
    "arr"
   ]
  },
  {
   "cell_type": "markdown",
   "id": "19e3d62a-a107-4cdc-89b5-fbd0b3a36026",
   "metadata": {
    "id": "19e3d62a-a107-4cdc-89b5-fbd0b3a36026"
   },
   "source": [
    "## identity()"
   ]
  },
  {
   "cell_type": "code",
   "execution_count": null,
   "id": "7034e4a2-6703-42ff-af34-4caa158e8622",
   "metadata": {
    "id": "7034e4a2-6703-42ff-af34-4caa158e8622"
   },
   "outputs": [],
   "source": [
    "identity() >> return array with rows = columns >> ones at diagonal & zeros elsewhere\n",
    "\n",
    "syntax:\n",
    "np.identity(shape,dtype)"
   ]
  },
  {
   "cell_type": "code",
   "execution_count": null,
   "id": "5d7b58e3-ecb8-4ecc-9a41-9bdff9481592",
   "metadata": {
    "id": "5d7b58e3-ecb8-4ecc-9a41-9bdff9481592",
    "outputId": "84164828-2f75-48f0-ae32-12613891fc36"
   },
   "outputs": [
    {
     "data": {
      "text/plain": [
       "array([[1., 0., 0., 0., 0.],\n",
       "       [0., 1., 0., 0., 0.],\n",
       "       [0., 0., 1., 0., 0.],\n",
       "       [0., 0., 0., 1., 0.],\n",
       "       [0., 0., 0., 0., 1.]])"
      ]
     },
     "execution_count": 20,
     "metadata": {},
     "output_type": "execute_result"
    }
   ],
   "source": [
    "arr = np.identity(5)\n",
    "arr"
   ]
  },
  {
   "cell_type": "code",
   "execution_count": null,
   "id": "265075a3-6688-41bf-a4c2-478459b09001",
   "metadata": {
    "id": "265075a3-6688-41bf-a4c2-478459b09001",
    "outputId": "04a65869-a0d6-4392-f182-7f8b774a87fb"
   },
   "outputs": [
    {
     "data": {
      "text/plain": [
       "array([[1, 0, 0, 0, 0],\n",
       "       [0, 1, 0, 0, 0],\n",
       "       [0, 0, 1, 0, 0],\n",
       "       [0, 0, 0, 1, 0],\n",
       "       [0, 0, 0, 0, 1]])"
      ]
     },
     "execution_count": 21,
     "metadata": {},
     "output_type": "execute_result"
    }
   ],
   "source": [
    "arr = np.identity(5,dtype=int)\n",
    "arr"
   ]
  },
  {
   "cell_type": "code",
   "execution_count": 9,
   "id": "a0d8649b-b2e3-4036-b410-34191c5b0ba9",
   "metadata": {
    "id": "a0d8649b-b2e3-4036-b410-34191c5b0ba9",
    "outputId": "f7b1dbb6-588b-4a48-b749-3090fd84be7d"
   },
   "outputs": [
    {
     "ename": "TypeError",
     "evalue": "identity() got multiple values for argument 'dtype'",
     "output_type": "error",
     "traceback": [
      "\u001b[1;31m---------------------------------------------------------------------------\u001b[0m",
      "\u001b[1;31mTypeError\u001b[0m                                 Traceback (most recent call last)",
      "\u001b[1;32m~\\AppData\\Local\\Temp/ipykernel_27284/3562988468.py\u001b[0m in \u001b[0;36m<module>\u001b[1;34m\u001b[0m\n\u001b[1;32m----> 1\u001b[1;33m \u001b[0marr\u001b[0m \u001b[1;33m=\u001b[0m \u001b[0mnp\u001b[0m\u001b[1;33m.\u001b[0m\u001b[0midentity\u001b[0m\u001b[1;33m(\u001b[0m\u001b[1;36m5\u001b[0m\u001b[1;33m,\u001b[0m\u001b[1;36m3\u001b[0m\u001b[1;33m,\u001b[0m\u001b[0mdtype\u001b[0m\u001b[1;33m=\u001b[0m\u001b[0mint\u001b[0m\u001b[1;33m)\u001b[0m\u001b[1;33m\u001b[0m\u001b[1;33m\u001b[0m\u001b[0m\n\u001b[0m\u001b[0;32m      2\u001b[0m \u001b[0marr\u001b[0m\u001b[1;33m\u001b[0m\u001b[1;33m\u001b[0m\u001b[0m\n",
      "\u001b[1;31mTypeError\u001b[0m: identity() got multiple values for argument 'dtype'"
     ]
    }
   ],
   "source": [
    "arr = np.identity(5,3,dtype=int)\n",
    "arr"
   ]
  },
  {
   "cell_type": "markdown",
   "id": "27da1c68-7f1e-41cd-9afa-fa1ee3940a85",
   "metadata": {
    "id": "27da1c68-7f1e-41cd-9afa-fa1ee3940a85"
   },
   "source": [
    "# Random "
   ]
  },
  {
   "cell_type": "code",
   "execution_count": null,
   "id": "032c7497-983f-4466-97de-dc202e5f07a2",
   "metadata": {
    "id": "032c7497-983f-4466-97de-dc202e5f07a2"
   },
   "outputs": [],
   "source": [
    "used to generate random values / numbers \n",
    "\n",
    "1. rand()\n",
    "2. randint()\n",
    "3. randn()"
   ]
  },
  {
   "cell_type": "markdown",
   "id": "56faa731-1a65-4f0c-8375-1f870eed5393",
   "metadata": {
    "id": "56faa731-1a65-4f0c-8375-1f870eed5393"
   },
   "source": [
    "## rand()"
   ]
  },
  {
   "cell_type": "code",
   "execution_count": null,
   "id": "514d80cd-33da-4db2-8f9c-bc34403029c4",
   "metadata": {
    "id": "514d80cd-33da-4db2-8f9c-bc34403029c4"
   },
   "outputs": [],
   "source": [
    "Return a values between 0 to 1 \n",
    "\n",
    "syntax:\n",
    "    \n",
    "np.random.rand(no) ## no of values we are going to get from 0 to 1"
   ]
  },
  {
   "cell_type": "code",
   "execution_count": null,
   "id": "e33ab645-61ca-4ee9-ae9a-e41a2b2491c2",
   "metadata": {
    "id": "e33ab645-61ca-4ee9-ae9a-e41a2b2491c2",
    "outputId": "43363296-147b-4220-ebe8-fa2149a6411b"
   },
   "outputs": [
    {
     "data": {
      "text/plain": [
       "array([0.5166304 , 0.97703903, 0.28156632, 0.76617895, 0.70633949])"
      ]
     },
     "execution_count": 24,
     "metadata": {},
     "output_type": "execute_result"
    }
   ],
   "source": [
    "arr = np.random.rand(5)\n",
    "arr"
   ]
  },
  {
   "cell_type": "code",
   "execution_count": null,
   "id": "14645e92-494f-4d5c-9dda-7d8a726db0aa",
   "metadata": {
    "id": "14645e92-494f-4d5c-9dda-7d8a726db0aa",
    "outputId": "55fbde29-1ac3-48af-96ac-fcf0d6fef75b"
   },
   "outputs": [
    {
     "data": {
      "text/plain": [
       "array([0.94284985, 0.80532959, 0.64441021, 0.04487778, 0.36097378,\n",
       "       0.02701235, 0.03636432, 0.73228108, 0.52643563, 0.454799  ,\n",
       "       0.01799456, 0.01219595, 0.46542458, 0.10964219, 0.71918603,\n",
       "       0.06804372, 0.99780273, 0.99093966, 0.62490182, 0.44336635,\n",
       "       0.68147719, 0.10168042, 0.21121752, 0.42677526, 0.37781778])"
      ]
     },
     "execution_count": 25,
     "metadata": {},
     "output_type": "execute_result"
    }
   ],
   "source": [
    "arr = np.random.rand(25)\n",
    "arr"
   ]
  },
  {
   "cell_type": "code",
   "execution_count": null,
   "id": "3c5deeab-4cf9-4e10-986d-cdef2b35c55e",
   "metadata": {
    "id": "3c5deeab-4cf9-4e10-986d-cdef2b35c55e",
    "outputId": "71a431b3-d746-4892-eaeb-8e2bf2829fe4"
   },
   "outputs": [
    {
     "data": {
      "text/plain": [
       "array([[0.57995293, 0.14986554, 0.64812152, 0.91287476, 0.28743806],\n",
       "       [0.54206244, 0.83159652, 0.72238555, 0.93705473, 0.10816679],\n",
       "       [0.09935219, 0.77382807, 0.17770653, 0.53461098, 0.07708247],\n",
       "       [0.21112966, 0.30395788, 0.92714286, 0.6028492 , 0.25338386],\n",
       "       [0.98854793, 0.96390627, 0.86997828, 0.20609712, 0.38514572]])"
      ]
     },
     "execution_count": 26,
     "metadata": {},
     "output_type": "execute_result"
    }
   ],
   "source": [
    "arr = np.random.rand(5,5)\n",
    "arr"
   ]
  },
  {
   "cell_type": "markdown",
   "id": "5644c01b-ffb2-474e-a68c-b4e20a3c5732",
   "metadata": {
    "id": "5644c01b-ffb2-474e-a68c-b4e20a3c5732"
   },
   "source": [
    "## 2. randint()"
   ]
  },
  {
   "cell_type": "code",
   "execution_count": null,
   "id": "f85d8362-3dac-4b1f-8c59-d5bdff9b417a",
   "metadata": {
    "id": "f85d8362-3dac-4b1f-8c59-d5bdff9b417a"
   },
   "outputs": [],
   "source": [
    "randint() >> return int value , need to give start & end range \n",
    "\n",
    "syntax:\n",
    "    \n",
    "np.random.randint(start,stop, size = 10)    ## stop element is not included"
   ]
  },
  {
   "cell_type": "code",
   "execution_count": null,
   "id": "681033e9-e518-4a01-8c28-09a877150b50",
   "metadata": {
    "id": "681033e9-e518-4a01-8c28-09a877150b50",
    "outputId": "984a9f3d-27c7-4ee1-8642-57f5c2ad69f3"
   },
   "outputs": [
    {
     "data": {
      "text/plain": [
       "array([34, 37, 37, 31, 16])"
      ]
     },
     "execution_count": 27,
     "metadata": {},
     "output_type": "execute_result"
    }
   ],
   "source": [
    "arr = np.random.randint(10,50, size = 5)\n",
    "arr"
   ]
  },
  {
   "cell_type": "code",
   "execution_count": null,
   "id": "8ef4129d-c272-45c8-b078-98b129b5092e",
   "metadata": {
    "id": "8ef4129d-c272-45c8-b078-98b129b5092e",
    "outputId": "5be53b72-f2f2-4a20-9a36-f210d7290be1"
   },
   "outputs": [
    {
     "data": {
      "text/plain": [
       "array([19, 30, 28, 15, 11, 22, 19, 27, 40, 11, 46, 45, 14, 26, 25])"
      ]
     },
     "execution_count": 28,
     "metadata": {},
     "output_type": "execute_result"
    }
   ],
   "source": [
    "arr = np.random.randint(10,50, size = 15)\n",
    "arr"
   ]
  },
  {
   "cell_type": "code",
   "execution_count": null,
   "id": "5a4795f4-d9fb-4cdb-97e9-4835e6991532",
   "metadata": {
    "id": "5a4795f4-d9fb-4cdb-97e9-4835e6991532",
    "outputId": "2b2896dc-e957-4fa8-b0ff-d98ea0acd4fd"
   },
   "outputs": [
    {
     "data": {
      "text/plain": [
       "array([47, 46, 19, 47, 13, 43, 25, 35, 33, 45, 27, 29, 34, 22, 11, 33, 25,\n",
       "       33, 15, 39, 21, 25, 31, 29, 38, 38, 44, 41, 16, 27, 40, 44, 26, 33,\n",
       "       26, 35, 11, 23, 40, 24, 12, 11, 19, 30, 43, 10, 17, 32, 49, 17])"
      ]
     },
     "execution_count": 29,
     "metadata": {},
     "output_type": "execute_result"
    }
   ],
   "source": [
    "arr = np.random.randint(10,50, size = 50)\n",
    "arr"
   ]
  },
  {
   "cell_type": "code",
   "execution_count": null,
   "id": "e8d18439-b0e2-46d6-a91d-ee4e381c91fa",
   "metadata": {
    "id": "e8d18439-b0e2-46d6-a91d-ee4e381c91fa",
    "outputId": "8411d74c-2da5-4ac1-f5c3-3c2a8559404f"
   },
   "outputs": [
    {
     "data": {
      "text/plain": [
       "array([[48, 16, 42, 13, 15],\n",
       "       [33, 30, 31, 49, 47],\n",
       "       [43, 13, 46, 36, 19],\n",
       "       [19, 21, 44, 45, 26],\n",
       "       [29, 15, 29, 40, 49]])"
      ]
     },
     "execution_count": 30,
     "metadata": {},
     "output_type": "execute_result"
    }
   ],
   "source": [
    "arr = np.random.randint(10,50, size = (5,5))\n",
    "arr"
   ]
  },
  {
   "cell_type": "code",
   "execution_count": null,
   "id": "d3e53ed0-bb78-43d8-aa6a-28044b1f4a80",
   "metadata": {
    "id": "d3e53ed0-bb78-43d8-aa6a-28044b1f4a80",
    "outputId": "76b224ad-cd52-49c6-87bd-07d46caa738d"
   },
   "outputs": [
    {
     "data": {
      "text/plain": [
       "array([13, 12, 10, 11, 10, 14, 12, 11, 14, 14, 12, 12, 11, 11, 13, 12, 11,\n",
       "       13, 10, 13])"
      ]
     },
     "execution_count": 31,
     "metadata": {},
     "output_type": "execute_result"
    }
   ],
   "source": [
    "arr = np.random.randint(10,15, size =20 )\n",
    "arr"
   ]
  },
  {
   "cell_type": "code",
   "execution_count": null,
   "id": "4f54920e-d205-4411-b5c9-13ef3e05c87e",
   "metadata": {
    "id": "4f54920e-d205-4411-b5c9-13ef3e05c87e",
    "outputId": "439ddaf9-ba3c-45b7-aeac-1f7042336098"
   },
   "outputs": [
    {
     "data": {
      "text/plain": [
       "array([[13, 13, 10, 12, 14],\n",
       "       [10, 14, 14, 11, 12],\n",
       "       [14, 13, 14, 14, 14]])"
      ]
     },
     "execution_count": 32,
     "metadata": {},
     "output_type": "execute_result"
    }
   ],
   "source": [
    "arr = np.random.randint(10,15, size =(3,5) )\n",
    "arr"
   ]
  },
  {
   "cell_type": "markdown",
   "id": "50d0bbc2-4568-431a-b797-56457f18cec2",
   "metadata": {
    "id": "50d0bbc2-4568-431a-b797-56457f18cec2"
   },
   "source": [
    "## randn()"
   ]
  },
  {
   "cell_type": "code",
   "execution_count": null,
   "id": "3a4eeb6d-755b-4520-aa65-22f5264f7e55",
   "metadata": {
    "id": "3a4eeb6d-755b-4520-aa65-22f5264f7e55"
   },
   "outputs": [],
   "source": [
    "randn() >> return normally distribution value >> \n",
    "\n",
    "Bell shape curve >>\n",
    "\n",
    "syntax :\n",
    "    \n",
    "np.random.randn(nos) ### "
   ]
  },
  {
   "cell_type": "code",
   "execution_count": null,
   "id": "fb711c75-4d9e-42df-88f0-8abf1f15489c",
   "metadata": {
    "id": "fb711c75-4d9e-42df-88f0-8abf1f15489c",
    "outputId": "9a112139-0e0a-45c7-cd7d-6677da7bbd99"
   },
   "outputs": [
    {
     "data": {
      "text/plain": [
       "array([ 0.62442479,  1.05163167,  1.28386292, -0.37067398, -1.97321299,\n",
       "        0.63603429, -0.80959727,  1.41543858,  0.69942029, -0.18691513])"
      ]
     },
     "execution_count": 33,
     "metadata": {},
     "output_type": "execute_result"
    }
   ],
   "source": [
    "arr = np.random.randn(10)\n",
    "arr"
   ]
  },
  {
   "cell_type": "code",
   "execution_count": null,
   "id": "05168036-c24e-4086-8c87-bc4ab5309be7",
   "metadata": {
    "id": "05168036-c24e-4086-8c87-bc4ab5309be7",
    "outputId": "224e7a19-3d3f-4520-8dd3-189fe726641d"
   },
   "outputs": [
    {
     "data": {
      "text/plain": [
       "array([-2.06229193,  0.90999597, -2.33818222,  0.40625678,  0.72075484,\n",
       "       -0.01337032,  1.33585741, -0.54701744, -0.98433499, -0.03738068,\n",
       "        3.10239296,  1.42398433,  3.42477441, -1.26603137,  0.13531021,\n",
       "        0.60723582, -0.35522164,  0.28920418, -0.73929968,  0.92118099,\n",
       "       -1.14785113,  2.54277479,  1.20771886, -0.06598217, -1.48339098,\n",
       "       -0.79012595, -0.48909345,  0.93886099, -0.38004161, -0.85058233])"
      ]
     },
     "execution_count": 34,
     "metadata": {},
     "output_type": "execute_result"
    }
   ],
   "source": [
    "arr = np.random.randn(30)\n",
    "arr"
   ]
  },
  {
   "cell_type": "code",
   "execution_count": null,
   "id": "0d72a0ad-f47d-42b4-8a10-6279e37bc0b5",
   "metadata": {
    "id": "0d72a0ad-f47d-42b4-8a10-6279e37bc0b5",
    "outputId": "76fefdbf-c4c1-407c-8ebd-5d559da39dc8"
   },
   "outputs": [
    {
     "data": {
      "text/plain": [
       "array([ 1.75500435,  0.05185369,  0.77272486, -0.27656933, -0.87677187,\n",
       "        0.63960222, -0.42038716,  1.86078852,  0.59157732,  1.86085649,\n",
       "       -0.35092723, -1.70347955,  2.14485693, -0.04011835,  0.25797551,\n",
       "        1.20228647, -2.68367677,  0.84780876,  1.02133694,  0.04138951,\n",
       "       -0.34608655, -0.07602891,  0.54875735, -0.4261092 ,  1.73801854,\n",
       "        0.41777395, -1.48022949, -1.36680446,  0.37191032,  0.47184238,\n",
       "        1.08760256, -0.63113638,  1.09176251,  0.16162718,  1.17040698,\n",
       "        0.26760458, -0.51976801, -0.73794034,  1.05889515, -0.41337771,\n",
       "       -0.78022568, -0.00414113, -0.11956736,  0.6332668 ,  0.36271357,\n",
       "       -1.16058918,  0.53462219, -0.30266304, -0.0635489 ,  0.36964605])"
      ]
     },
     "execution_count": 35,
     "metadata": {},
     "output_type": "execute_result"
    }
   ],
   "source": [
    "arr = np.random.randn(50)\n",
    "arr"
   ]
  },
  {
   "cell_type": "code",
   "execution_count": null,
   "id": "49c38df8-c7fc-4bdb-a8b4-8b7ff075eea7",
   "metadata": {
    "id": "49c38df8-c7fc-4bdb-a8b4-8b7ff075eea7",
    "outputId": "086360ab-deb2-49e9-d57e-1e566f1c077d"
   },
   "outputs": [
    {
     "data": {
      "text/plain": [
       "array([0.66138982, 0.56395681, 0.52336364, 0.60023758, 0.21796502,\n",
       "       0.0090768 , 0.52640822, 0.76769234, 0.88668886, 0.23822497,\n",
       "       0.5713946 , 0.36282574, 0.36807703, 0.76343102, 0.44778809,\n",
       "       0.83161952, 0.95002293, 0.54224464, 0.65715225, 0.83629438,\n",
       "       0.32253504, 0.14270579, 0.07517808, 0.37284016, 0.28641699,\n",
       "       0.25595568, 0.21067852, 0.76809681, 0.55288112, 0.62598215,\n",
       "       0.9692296 , 0.3633796 , 0.00954137, 0.76378869, 0.22128633,\n",
       "       0.90594228, 0.59140783, 0.30627184, 0.29715624, 0.67302757,\n",
       "       0.01540222, 0.4322594 , 0.22946036, 0.02062511, 0.14431072,\n",
       "       0.98708186, 0.69673326, 0.13567647, 0.65534445, 0.59868662])"
      ]
     },
     "execution_count": 37,
     "metadata": {},
     "output_type": "execute_result"
    }
   ],
   "source": [
    "arr = np.random.ranf(50)\n",
    "arr"
   ]
  },
  {
   "cell_type": "markdown",
   "id": "1188bf29-fad6-448c-af39-686deeb5b6d9",
   "metadata": {
    "id": "1188bf29-fad6-448c-af39-686deeb5b6d9"
   },
   "source": [
    "## sort()"
   ]
  },
  {
   "cell_type": "code",
   "execution_count": null,
   "id": "ad096683-965c-40f6-9a13-c761543157a3",
   "metadata": {
    "id": "ad096683-965c-40f6-9a13-c761543157a3"
   },
   "outputs": [],
   "source": [
    "np.sort() >> sort the array elements "
   ]
  },
  {
   "cell_type": "code",
   "execution_count": null,
   "id": "e22d9475-c99b-47e2-955e-5c6921955855",
   "metadata": {
    "id": "e22d9475-c99b-47e2-955e-5c6921955855",
    "outputId": "292e8b25-e0db-4b69-9af5-363d5abb2dc3"
   },
   "outputs": [
    {
     "data": {
      "text/plain": [
       "array([16, 11, 15, 10, 14, 16, 19, 10, 19, 11])"
      ]
     },
     "execution_count": 38,
     "metadata": {},
     "output_type": "execute_result"
    }
   ],
   "source": [
    "arr = np.random.randint(10,20, size = 10)\n",
    "arr"
   ]
  },
  {
   "cell_type": "code",
   "execution_count": null,
   "id": "5bac01aa-a55c-479f-9bda-ec943bdf5e30",
   "metadata": {
    "id": "5bac01aa-a55c-479f-9bda-ec943bdf5e30",
    "outputId": "2d210e00-e78e-451e-ddf4-9260c6b96e8f"
   },
   "outputs": [
    {
     "name": "stdout",
     "output_type": "stream",
     "text": [
      "arr=array([18, 14, 16, 10, 13, 16, 17, 10, 19, 13])\n"
     ]
    },
    {
     "data": {
      "text/plain": [
       "array([10, 10, 13, 13, 14, 16, 16, 17, 18, 19])"
      ]
     },
     "execution_count": 43,
     "metadata": {},
     "output_type": "execute_result"
    }
   ],
   "source": [
    "arr = np.random.randint(10,20, size = 10)\n",
    "print(f\"{arr=}\")\n",
    "sort_array = np.sort(arr)\n",
    "sort_array\n",
    "\n",
    "# arr=array([18, 18, 19, 17, 14, 18, 15, 18, 19, 18])\n",
    "# array([14, 15, 17, 18, 18, 18, 18, 18, 19, 19])"
   ]
  },
  {
   "cell_type": "code",
   "execution_count": null,
   "id": "64b747a7-bfb5-4968-abae-a868912697e3",
   "metadata": {
    "id": "64b747a7-bfb5-4968-abae-a868912697e3",
    "outputId": "42f7a3f7-c603-4b66-d785-d63aa32fa428"
   },
   "outputs": [
    {
     "data": {
      "text/plain": [
       "array([[5, 7],\n",
       "       [1, 6]])"
      ]
     },
     "execution_count": 41,
     "metadata": {},
     "output_type": "execute_result"
    }
   ],
   "source": [
    "arr = np.array([[7,5],[6,1]])\n",
    "sort_array = np.sort(arr)\n",
    "sort_array"
   ]
  },
  {
   "cell_type": "markdown",
   "id": "b161eff3-caa0-413a-8684-7f017fe6decf",
   "metadata": {
    "id": "b161eff3-caa0-413a-8684-7f017fe6decf"
   },
   "source": [
    "## append"
   ]
  },
  {
   "cell_type": "code",
   "execution_count": null,
   "id": "d075a2dc-f63e-4412-af23-cbe97e92efde",
   "metadata": {
    "id": "d075a2dc-f63e-4412-af23-cbe97e92efde"
   },
   "outputs": [],
   "source": [
    "append() >> return array with a new values \n",
    "\n",
    "syntax:\n",
    "var = np.append(arr1,value(arr2),axis = None)"
   ]
  },
  {
   "cell_type": "code",
   "execution_count": null,
   "id": "a22afbae-b41d-449d-8a3f-353545084d43",
   "metadata": {
    "id": "a22afbae-b41d-449d-8a3f-353545084d43",
    "outputId": "ee16fe39-871d-48bc-cd13-a72c8bf93b19"
   },
   "outputs": [
    {
     "name": "stdout",
     "output_type": "stream",
     "text": [
      "new_arr=array([  4,   5,   6,   7,   8, 100])\n"
     ]
    }
   ],
   "source": [
    "arr = np.array([4,5,6,7,8])\n",
    "arr1 = np.array([14,15,16,17,18])\n",
    "\n",
    "new_arr = np.append(arr,100)\n",
    "\n",
    "print(f\"{new_arr=}\")"
   ]
  },
  {
   "cell_type": "code",
   "execution_count": null,
   "id": "35da51e4-7cd1-418f-9a74-ef1bb895d60f",
   "metadata": {
    "id": "35da51e4-7cd1-418f-9a74-ef1bb895d60f",
    "outputId": "84e0f18d-c657-4861-de0c-9a421a3e61c3"
   },
   "outputs": [
    {
     "name": "stdout",
     "output_type": "stream",
     "text": [
      "new_arr=array([ 4,  5,  6,  7,  8, 14, 15, 16, 17, 18])\n"
     ]
    }
   ],
   "source": [
    "arr = np.array([4,5,6,7,8])\n",
    "arr1 = np.array([14,15,16,17,18])\n",
    "\n",
    "new_arr = np.append(arr,arr1)\n",
    "\n",
    "print(f\"{new_arr=}\")"
   ]
  },
  {
   "cell_type": "code",
   "execution_count": null,
   "id": "1787c92d-9a96-4710-bbbb-debe12e00505",
   "metadata": {
    "id": "1787c92d-9a96-4710-bbbb-debe12e00505",
    "outputId": "69d4b678-ad10-4623-b912-257a9d81c91f"
   },
   "outputs": [
    {
     "name": "stdout",
     "output_type": "stream",
     "text": [
      "new_arr=array([14, 15, 16, 17, 18,  4,  5,  6,  7,  8])\n"
     ]
    }
   ],
   "source": [
    "arr = np.array([4,5,6,7,8])\n",
    "arr1 = np.array([14,15,16,17,18])\n",
    "\n",
    "new_arr = np.append(arr1,arr)\n",
    "\n",
    "print(f\"{new_arr=}\")"
   ]
  },
  {
   "cell_type": "code",
   "execution_count": null,
   "id": "db422cb6-b9bf-4d66-8b4c-a580cc85e1b7",
   "metadata": {
    "id": "db422cb6-b9bf-4d66-8b4c-a580cc85e1b7",
    "outputId": "110b8227-7c77-44b8-a92c-d7079593554f"
   },
   "outputs": [
    {
     "name": "stdout",
     "output_type": "stream",
     "text": [
      "Array1 = \n",
      " [[4 5 6]\n",
      " [7 8 9]] \n",
      "Array2 = \n",
      " [[14 15 16]\n",
      " [17 18 19]] \n",
      "New Array = \n",
      " [ 4  5  6  7  8  9 14 15 16 17 18 19]\n"
     ]
    }
   ],
   "source": [
    "arr1 = np.array([[4,5,6],[7,8,9]])\n",
    "print(f\"Array1 = \\n {arr1} \")\n",
    "arr2 = np.array([[14,15,16],[17,18,19]])\n",
    "print(f\"Array2 = \\n {arr2} \")\n",
    "\n",
    "new_arr = np.append(arr1,arr2)\n",
    "\n",
    "print(f\"New Array = \\n {new_arr}\")"
   ]
  },
  {
   "cell_type": "code",
   "execution_count": null,
   "id": "8cb68e48-8389-46c1-b7b2-2acd08306971",
   "metadata": {
    "id": "8cb68e48-8389-46c1-b7b2-2acd08306971",
    "outputId": "1a8a14de-768d-4cde-e916-2544a6b717be"
   },
   "outputs": [
    {
     "name": "stdout",
     "output_type": "stream",
     "text": [
      "Array1 = \n",
      " [[4 5 6]\n",
      " [7 8 9]] \n",
      "Array2 = \n",
      " [[14 15 16]\n",
      " [17 18 19]] \n",
      "New Array = \n",
      " [[ 4  5  6]\n",
      " [ 7  8  9]\n",
      " [14 15 16]\n",
      " [17 18 19]]\n"
     ]
    }
   ],
   "source": [
    "arr1 = np.array([[4,5,6],[7,8,9]])\n",
    "print(f\"Array1 = \\n {arr1} \")\n",
    "arr2 = np.array([[14,15,16],[17,18,19]])\n",
    "print(f\"Array2 = \\n {arr2} \")\n",
    "\n",
    "new_arr = np.append(arr1,arr2, axis= 0) ## axis = 0 >> adding rows\n",
    " \n",
    "print(f\"New Array = \\n {new_arr}\")"
   ]
  },
  {
   "cell_type": "code",
   "execution_count": null,
   "id": "f619eb86-b7a3-4355-ab6d-9de322185284",
   "metadata": {
    "id": "f619eb86-b7a3-4355-ab6d-9de322185284",
    "outputId": "7a10357f-8011-48a1-e3af-534fe5e7dc61"
   },
   "outputs": [
    {
     "name": "stdout",
     "output_type": "stream",
     "text": [
      "Array1 = \n",
      " [[4 5 6]\n",
      " [7 8 9]] \n",
      "Array2 = \n",
      " [[14 15 16]\n",
      " [17 18 19]] \n",
      "New Array = \n",
      " [[ 4  5  6 14 15 16]\n",
      " [ 7  8  9 17 18 19]]\n"
     ]
    }
   ],
   "source": [
    "arr1 = np.array([[4,5,6],[7,8,9]])\n",
    "print(f\"Array1 = \\n {arr1} \")\n",
    "arr2 = np.array([[14,15,16],[17,18,19]])\n",
    "print(f\"Array2 = \\n {arr2} \")\n",
    "\n",
    "new_arr = np.append(arr1,arr2, axis= 1) ## axis = 1 >> adding columns\n",
    " \n",
    "print(f\"New Array = \\n {new_arr}\")"
   ]
  },
  {
   "cell_type": "markdown",
   "id": "9d1573da-561d-4874-929d-e935fbe2f8f8",
   "metadata": {
    "id": "9d1573da-561d-4874-929d-e935fbe2f8f8"
   },
   "source": [
    "###  concatenate()"
   ]
  },
  {
   "cell_type": "code",
   "execution_count": null,
   "id": "0f5a37fb-7d55-42fd-9d13-8f2bdeaa064e",
   "metadata": {
    "id": "0f5a37fb-7d55-42fd-9d13-8f2bdeaa064e"
   },
   "outputs": [],
   "source": [
    "To add multiple arrays \n",
    "\n",
    "syntax:\n",
    "    \n",
    "np.concatenate([arr1,aar2,arr3.......arrN], axis = 0) >>> The arrays must have the same shape"
   ]
  },
  {
   "cell_type": "code",
   "execution_count": null,
   "id": "e19b07da-bc3d-41f5-ba97-270e89bc6f2f",
   "metadata": {
    "id": "e19b07da-bc3d-41f5-ba97-270e89bc6f2f",
    "outputId": "9e1bc293-e007-47fe-9ea7-bff846b687f3"
   },
   "outputs": [
    {
     "name": "stdout",
     "output_type": "stream",
     "text": [
      "Array1 = \n",
      " [[4 5 6]\n",
      " [7 8 9]] \n",
      "Array2 = \n",
      " [[14 15 16]\n",
      " [17 18 19]] \n",
      "New Array = \n",
      " [[ 4  5  6]\n",
      " [ 7  8  9]\n",
      " [14 15 16]\n",
      " [17 18 19]]\n"
     ]
    }
   ],
   "source": [
    "arr1 = np.array([[4,5,6],[7,8,9]])\n",
    "print(f\"Array1 = \\n {arr1} \")\n",
    "arr2 = np.array([[14,15,16],[17,18,19]])\n",
    "print(f\"Array2 = \\n {arr2} \")\n",
    "\n",
    "new_arr = np.concatenate([arr1,arr2], axis= 0) ## axis = 0 >> adding rows\n",
    " \n",
    "print(f\"New Array = \\n {new_arr}\")"
   ]
  },
  {
   "cell_type": "code",
   "execution_count": null,
   "id": "dfc45e94-a617-4dbb-bc0e-790adfc994cb",
   "metadata": {
    "id": "dfc45e94-a617-4dbb-bc0e-790adfc994cb",
    "outputId": "e5c89e04-523e-498f-ba45-d5cfb896aa9a"
   },
   "outputs": [
    {
     "name": "stdout",
     "output_type": "stream",
     "text": [
      "Array1 = \n",
      " [[4 5 6]\n",
      " [7 8 9]] \n",
      "Array2 = \n",
      " [[14 15 16]\n",
      " [17 18 19]] \n",
      "Array3 = \n",
      " [[10 20 30]\n",
      " [50 60 70]] \n",
      "New Array = \n",
      " [[ 4  5  6]\n",
      " [ 7  8  9]\n",
      " [14 15 16]\n",
      " [17 18 19]\n",
      " [10 20 30]\n",
      " [50 60 70]]\n"
     ]
    }
   ],
   "source": [
    "arr1 = np.array([[4,5,6],[7,8,9]])\n",
    "print(f\"Array1 = \\n {arr1} \")\n",
    "arr2 = np.array([[14,15,16],[17,18,19]])\n",
    "print(f\"Array2 = \\n {arr2} \")\n",
    "arr3 = np.array([[10,20,30],[50,60,70]])\n",
    "print(f\"Array3 = \\n {arr3} \")\n",
    "new_arr = np.concatenate([arr1,arr2,arr3], axis= 0) ## axis = 0 >> adding rows\n",
    " \n",
    "print(f\"New Array = \\n {new_arr}\")"
   ]
  },
  {
   "cell_type": "code",
   "execution_count": null,
   "id": "ba9bcab7-9275-4941-9905-1a5e489cb4c3",
   "metadata": {
    "id": "ba9bcab7-9275-4941-9905-1a5e489cb4c3",
    "outputId": "79e55bcf-7956-4973-f846-450728cc7021"
   },
   "outputs": [
    {
     "name": "stdout",
     "output_type": "stream",
     "text": [
      "Array1 = \n",
      " [[4 5 6]\n",
      " [7 8 9]] \n",
      "Array2 = \n",
      " [[14 15 16]\n",
      " [17 18 19]] \n",
      "Array3 = \n",
      " [[10 20 30]\n",
      " [50 60 70]] \n",
      "New Array = \n",
      " [[ 4  5  6 14 15 16 10 20 30]\n",
      " [ 7  8  9 17 18 19 50 60 70]]\n"
     ]
    }
   ],
   "source": [
    "arr1 = np.array([[4,5,6],[7,8,9]])\n",
    "print(f\"Array1 = \\n {arr1} \")\n",
    "arr2 = np.array([[14,15,16],[17,18,19]])\n",
    "print(f\"Array2 = \\n {arr2} \")\n",
    "arr3 = np.array([[10,20,30],[50,60,70]])\n",
    "print(f\"Array3 = \\n {arr3} \")\n",
    "new_arr = np.concatenate([arr1,arr2,arr3], axis= 1) ## axis = 1 >> adding columns\n",
    " \n",
    "print(f\"New Array = \\n {new_arr}\")"
   ]
  },
  {
   "cell_type": "code",
   "execution_count": null,
   "id": "59228d8e-6c27-41ab-ad64-a51816073cea",
   "metadata": {
    "id": "59228d8e-6c27-41ab-ad64-a51816073cea"
   },
   "outputs": [],
   "source": [
    "arr1 = np.array([[4,5,6],[7,8,9]])\n",
    "print(f\"Array1 = \\n {arr1} \")\n",
    "arr2 = np.array([[14,15,16],[17,18,19]])\n",
    "print(f\"Array2 = \\n {arr2} \")\n",
    "arr3 = np.array([[10,20,30],[50,60,70]])\n",
    "print(f\"Array3 = \\n {arr3} \")\n",
    "new_arr = np.concatenate([arr1,arr2,arr3], axis= 1,) ## axis = 1 >> adding columns\n",
    " \n",
    "print(f\"New Array = \\n {new_arr}\")"
   ]
  },
  {
   "cell_type": "code",
   "execution_count": null,
   "id": "5cb4fb0a-100a-4237-bb56-3dbf98cbf76b",
   "metadata": {
    "id": "5cb4fb0a-100a-4237-bb56-3dbf98cbf76b",
    "outputId": "9f868c4a-fbc1-4805-8413-4497e822553c"
   },
   "outputs": [
    {
     "name": "stdout",
     "output_type": "stream",
     "text": [
      "Help on function concatenate in module numpy:\n",
      "\n",
      "concatenate(...)\n",
      "    concatenate((a1, a2, ...), axis=0, out=None, dtype=None, casting=\"same_kind\")\n",
      "    \n",
      "    Join a sequence of arrays along an existing axis.\n",
      "    \n",
      "    Parameters\n",
      "    ----------\n",
      "    a1, a2, ... : sequence of array_like\n",
      "        The arrays must have the same shape, except in the dimension\n",
      "        corresponding to `axis` (the first, by default).\n",
      "    axis : int, optional\n",
      "        The axis along which the arrays will be joined.  If axis is None,\n",
      "        arrays are flattened before use.  Default is 0.\n",
      "    out : ndarray, optional\n",
      "        If provided, the destination to place the result. The shape must be\n",
      "        correct, matching that of what concatenate would have returned if no\n",
      "        out argument were specified.\n",
      "    dtype : str or dtype\n",
      "        If provided, the destination array will have this dtype. Cannot be\n",
      "        provided together with `out`.\n",
      "    \n",
      "        .. versionadded:: 1.20.0\n",
      "    \n",
      "    casting : {'no', 'equiv', 'safe', 'same_kind', 'unsafe'}, optional\n",
      "        Controls what kind of data casting may occur. Defaults to 'same_kind'.\n",
      "    \n",
      "        .. versionadded:: 1.20.0\n",
      "    \n",
      "    Returns\n",
      "    -------\n",
      "    res : ndarray\n",
      "        The concatenated array.\n",
      "    \n",
      "    See Also\n",
      "    --------\n",
      "    ma.concatenate : Concatenate function that preserves input masks.\n",
      "    array_split : Split an array into multiple sub-arrays of equal or\n",
      "                  near-equal size.\n",
      "    split : Split array into a list of multiple sub-arrays of equal size.\n",
      "    hsplit : Split array into multiple sub-arrays horizontally (column wise).\n",
      "    vsplit : Split array into multiple sub-arrays vertically (row wise).\n",
      "    dsplit : Split array into multiple sub-arrays along the 3rd axis (depth).\n",
      "    stack : Stack a sequence of arrays along a new axis.\n",
      "    block : Assemble arrays from blocks.\n",
      "    hstack : Stack arrays in sequence horizontally (column wise).\n",
      "    vstack : Stack arrays in sequence vertically (row wise).\n",
      "    dstack : Stack arrays in sequence depth wise (along third dimension).\n",
      "    column_stack : Stack 1-D arrays as columns into a 2-D array.\n",
      "    \n",
      "    Notes\n",
      "    -----\n",
      "    When one or more of the arrays to be concatenated is a MaskedArray,\n",
      "    this function will return a MaskedArray object instead of an ndarray,\n",
      "    but the input masks are *not* preserved. In cases where a MaskedArray\n",
      "    is expected as input, use the ma.concatenate function from the masked\n",
      "    array module instead.\n",
      "    \n",
      "    Examples\n",
      "    --------\n",
      "    >>> a = np.array([[1, 2], [3, 4]])\n",
      "    >>> b = np.array([[5, 6]])\n",
      "    >>> np.concatenate((a, b), axis=0)\n",
      "    array([[1, 2],\n",
      "           [3, 4],\n",
      "           [5, 6]])\n",
      "    >>> np.concatenate((a, b.T), axis=1)\n",
      "    array([[1, 2, 5],\n",
      "           [3, 4, 6]])\n",
      "    >>> np.concatenate((a, b), axis=None)\n",
      "    array([1, 2, 3, 4, 5, 6])\n",
      "    \n",
      "    This function will not preserve masking of MaskedArray inputs.\n",
      "    \n",
      "    >>> a = np.ma.arange(3)\n",
      "    >>> a[1] = np.ma.masked\n",
      "    >>> b = np.arange(2, 5)\n",
      "    >>> a\n",
      "    masked_array(data=[0, --, 2],\n",
      "                 mask=[False,  True, False],\n",
      "           fill_value=999999)\n",
      "    >>> b\n",
      "    array([2, 3, 4])\n",
      "    >>> np.concatenate([a, b])\n",
      "    masked_array(data=[0, 1, 2, 2, 3, 4],\n",
      "                 mask=False,\n",
      "           fill_value=999999)\n",
      "    >>> np.ma.concatenate([a, b])\n",
      "    masked_array(data=[0, --, 2, 2, 3, 4],\n",
      "                 mask=[False,  True, False, False, False, False],\n",
      "           fill_value=999999)\n",
      "\n"
     ]
    }
   ],
   "source": [
    "help(np.concatenate)"
   ]
  },
  {
   "cell_type": "code",
   "execution_count": null,
   "id": "0a4dc421-a9db-421e-a8f6-885a54bbdd5e",
   "metadata": {
    "id": "0a4dc421-a9db-421e-a8f6-885a54bbdd5e",
    "outputId": "a13dd7a4-febf-429e-834f-5d996987c489"
   },
   "outputs": [
    {
     "name": "stdout",
     "output_type": "stream",
     "text": [
      "Array1 = \n",
      " [[4 5]\n",
      " [7 8]] \n",
      "Array2 = \n",
      " [[14 15 16]\n",
      " [17 18 19]] \n",
      "Array3 = \n",
      " [[10 20]\n",
      " [50 60]] \n"
     ]
    },
    {
     "ename": "ValueError",
     "evalue": "all the input array dimensions for the concatenation axis must match exactly, but along dimension 1, the array at index 0 has size 2 and the array at index 1 has size 3",
     "output_type": "error",
     "traceback": [
      "\u001b[1;31m---------------------------------------------------------------------------\u001b[0m",
      "\u001b[1;31mValueError\u001b[0m                                Traceback (most recent call last)",
      "\u001b[1;32m~\\AppData\\Local\\Temp/ipykernel_18440/4145184010.py\u001b[0m in \u001b[0;36m<module>\u001b[1;34m\u001b[0m\n\u001b[0;32m      5\u001b[0m \u001b[0marr3\u001b[0m \u001b[1;33m=\u001b[0m \u001b[0mnp\u001b[0m\u001b[1;33m.\u001b[0m\u001b[0marray\u001b[0m\u001b[1;33m(\u001b[0m\u001b[1;33m[\u001b[0m\u001b[1;33m[\u001b[0m\u001b[1;36m10\u001b[0m\u001b[1;33m,\u001b[0m\u001b[1;36m20\u001b[0m\u001b[1;33m]\u001b[0m\u001b[1;33m,\u001b[0m\u001b[1;33m[\u001b[0m\u001b[1;36m50\u001b[0m\u001b[1;33m,\u001b[0m\u001b[1;36m60\u001b[0m\u001b[1;33m]\u001b[0m\u001b[1;33m]\u001b[0m\u001b[1;33m)\u001b[0m \u001b[1;31m## 2 x 2\u001b[0m\u001b[1;33m\u001b[0m\u001b[1;33m\u001b[0m\u001b[0m\n\u001b[0;32m      6\u001b[0m \u001b[0mprint\u001b[0m\u001b[1;33m(\u001b[0m\u001b[1;34mf\"Array3 = \\n {arr3} \"\u001b[0m\u001b[1;33m)\u001b[0m\u001b[1;33m\u001b[0m\u001b[1;33m\u001b[0m\u001b[0m\n\u001b[1;32m----> 7\u001b[1;33m \u001b[0mnew_arr\u001b[0m \u001b[1;33m=\u001b[0m \u001b[0mnp\u001b[0m\u001b[1;33m.\u001b[0m\u001b[0mconcatenate\u001b[0m\u001b[1;33m(\u001b[0m\u001b[1;33m[\u001b[0m\u001b[0marr1\u001b[0m\u001b[1;33m,\u001b[0m\u001b[0marr2\u001b[0m\u001b[1;33m,\u001b[0m\u001b[0marr3\u001b[0m\u001b[1;33m]\u001b[0m\u001b[1;33m,\u001b[0m \u001b[0maxis\u001b[0m\u001b[1;33m=\u001b[0m \u001b[1;36m0\u001b[0m\u001b[1;33m,\u001b[0m\u001b[1;33m)\u001b[0m \u001b[1;31m## axis = 0 >> adding row\u001b[0m\u001b[1;33m\u001b[0m\u001b[1;33m\u001b[0m\u001b[0m\n\u001b[0m\u001b[0;32m      8\u001b[0m \u001b[1;33m\u001b[0m\u001b[0m\n\u001b[0;32m      9\u001b[0m \u001b[0mprint\u001b[0m\u001b[1;33m(\u001b[0m\u001b[1;34mf\"New Array = \\n {new_arr}\"\u001b[0m\u001b[1;33m)\u001b[0m\u001b[1;33m\u001b[0m\u001b[1;33m\u001b[0m\u001b[0m\n",
      "\u001b[1;32m~\\AppData\\Local\\Programs\\Python\\Python39\\lib\\site-packages\\numpy\\core\\overrides.py\u001b[0m in \u001b[0;36mconcatenate\u001b[1;34m(*args, **kwargs)\u001b[0m\n",
      "\u001b[1;31mValueError\u001b[0m: all the input array dimensions for the concatenation axis must match exactly, but along dimension 1, the array at index 0 has size 2 and the array at index 1 has size 3"
     ]
    }
   ],
   "source": [
    "arr1 = np.array([[4,5],[7,8]])  ## 2 x 2\n",
    "print(f\"Array1 = \\n {arr1} \")\n",
    "arr2 = np.array([[14,15,16],[17,18,19]]) ## 2 x3\n",
    "print(f\"Array2 = \\n {arr2} \")\n",
    "arr3 = np.array([[10,20],[50,60]]) ## 2 x 2 \n",
    "print(f\"Array3 = \\n {arr3} \")\n",
    "new_arr = np.concatenate([arr1,arr2,arr3], axis= 0,) ## axis = 0 >> adding row\n",
    " \n",
    "print(f\"New Array = \\n {new_arr}\")"
   ]
  },
  {
   "cell_type": "code",
   "execution_count": null,
   "id": "11444c34-488f-4094-a47e-a1c808dadec0",
   "metadata": {
    "id": "11444c34-488f-4094-a47e-a1c808dadec0",
    "outputId": "4faec2cb-9e25-4ee4-d64f-1cfa435ee8c7"
   },
   "outputs": [
    {
     "name": "stdout",
     "output_type": "stream",
     "text": [
      "Array1 = \n",
      " [[4 5]\n",
      " [7 8]] \n",
      "Array2 = \n",
      " [[14 15 16]\n",
      " [17 18 19]] \n",
      "Array3 = \n",
      " [[10 20]\n",
      " [50 60]] \n",
      "New Array = \n",
      " [[ 4  5 14 15 16 10 20]\n",
      " [ 7  8 17 18 19 50 60]]\n"
     ]
    }
   ],
   "source": [
    "arr1 = np.array([[4,5],[7,8]])  ## 2 x 2\n",
    "print(f\"Array1 = \\n {arr1} \")\n",
    "arr2 = np.array([[14,15,16],[17,18,19]]) ## 2 x3\n",
    "print(f\"Array2 = \\n {arr2} \")\n",
    "arr3 = np.array([[10,20],[50,60]]) ## 2 x 2 \n",
    "print(f\"Array3 = \\n {arr3} \")\n",
    "new_arr = np.concatenate([arr1,arr2,arr3], axis= 1,) ## axis = 1 >> adding column\n",
    " \n",
    "print(f\"New Array = \\n {new_arr}\")"
   ]
  },
  {
   "cell_type": "markdown",
   "id": "31a5f0aa-0f1e-49fc-a2d4-f6937b937121",
   "metadata": {
    "id": "31a5f0aa-0f1e-49fc-a2d4-f6937b937121"
   },
   "source": [
    "# np.ceil"
   ]
  },
  {
   "cell_type": "code",
   "execution_count": null,
   "id": "d39e5ad1-ac2b-4ed7-97b0-59a13267631c",
   "metadata": {
    "id": "d39e5ad1-ac2b-4ed7-97b0-59a13267631c"
   },
   "outputs": [],
   "source": [
    "3.2 >> 4\n",
    "4.5 >> 5\n",
    "6.8 >> 7"
   ]
  },
  {
   "cell_type": "code",
   "execution_count": null,
   "id": "192927f0-bf9e-4a7b-91db-26ed40da1b81",
   "metadata": {
    "id": "192927f0-bf9e-4a7b-91db-26ed40da1b81"
   },
   "outputs": [],
   "source": [
    "syntax: np.ceil(value)"
   ]
  },
  {
   "cell_type": "code",
   "execution_count": null,
   "id": "4d63671d-5af2-4bb8-9b4c-cbaf473b5021",
   "metadata": {
    "id": "4d63671d-5af2-4bb8-9b4c-cbaf473b5021",
    "outputId": "54ff8b54-d57f-45ee-de82-2dc6687d504d"
   },
   "outputs": [
    {
     "data": {
      "text/plain": [
       "7.0"
      ]
     },
     "execution_count": 58,
     "metadata": {},
     "output_type": "execute_result"
    }
   ],
   "source": [
    "np.ceil(6.8)"
   ]
  },
  {
   "cell_type": "code",
   "execution_count": null,
   "id": "e46dc874-c06e-43b4-a955-afd55a5bbf73",
   "metadata": {
    "id": "e46dc874-c06e-43b4-a955-afd55a5bbf73",
    "outputId": "40a3933b-99f1-42c1-9221-8f24f05704b3"
   },
   "outputs": [
    {
     "data": {
      "text/plain": [
       "4.0"
      ]
     },
     "execution_count": 59,
     "metadata": {},
     "output_type": "execute_result"
    }
   ],
   "source": [
    "np.ceil(3.2)"
   ]
  },
  {
   "cell_type": "code",
   "execution_count": null,
   "id": "6688e549-8080-4eef-bf89-3bc11de51954",
   "metadata": {
    "id": "6688e549-8080-4eef-bf89-3bc11de51954",
    "outputId": "792ae539-3b90-457d-a9df-12e35899887e"
   },
   "outputs": [
    {
     "data": {
      "text/plain": [
       "array([32.,  8.,  6.])"
      ]
     },
     "execution_count": 60,
     "metadata": {},
     "output_type": "execute_result"
    }
   ],
   "source": [
    "arr = np.array([31.2,7.8,5.2])\n",
    "new_arr = np.ceil(arr)\n",
    "new_arr"
   ]
  },
  {
   "cell_type": "code",
   "execution_count": null,
   "id": "6a151461-6da3-4209-b904-505a276128cf",
   "metadata": {
    "id": "6a151461-6da3-4209-b904-505a276128cf"
   },
   "outputs": [],
   "source": [
    "## np.floor() \n",
    "\n",
    "syntax >> np.floor(value)"
   ]
  },
  {
   "cell_type": "code",
   "execution_count": null,
   "id": "def75c60-9603-432c-be9f-165e6f4c1131",
   "metadata": {
    "id": "def75c60-9603-432c-be9f-165e6f4c1131",
    "outputId": "fe4da99f-e961-4ac1-de43-864018a63304"
   },
   "outputs": [
    {
     "data": {
      "text/plain": [
       "array([31.,  7.,  5.])"
      ]
     },
     "execution_count": 61,
     "metadata": {},
     "output_type": "execute_result"
    }
   ],
   "source": [
    "arr = np.array([31.2,7.8,5.2])\n",
    "new_arr = np.floor(arr)\n",
    "new_arr"
   ]
  },
  {
   "cell_type": "code",
   "execution_count": null,
   "id": "99e643d8-0154-447d-b63b-392b1e809cff",
   "metadata": {
    "id": "99e643d8-0154-447d-b63b-392b1e809cff",
    "outputId": "06d39d0c-0a5f-4462-de86-1a596c94a159"
   },
   "outputs": [
    {
     "data": {
      "text/plain": [
       "3.0"
      ]
     },
     "execution_count": 62,
     "metadata": {},
     "output_type": "execute_result"
    }
   ],
   "source": [
    "np.floor(3.14)"
   ]
  },
  {
   "cell_type": "markdown",
   "id": "6b55fa3f-95c4-4da3-a985-9167493bd85a",
   "metadata": {
    "id": "6b55fa3f-95c4-4da3-a985-9167493bd85a"
   },
   "source": [
    "### np.around()"
   ]
  },
  {
   "cell_type": "code",
   "execution_count": null,
   "id": "7150e7c9-15a9-4ebf-8dcc-ccb029b83b65",
   "metadata": {
    "id": "7150e7c9-15a9-4ebf-8dcc-ccb029b83b65",
    "outputId": "3e63f13c-9f95-41f9-b038-5b100d220128"
   },
   "outputs": [
    {
     "data": {
      "text/plain": [
       "14"
      ]
     },
     "execution_count": 63,
     "metadata": {},
     "output_type": "execute_result"
    }
   ],
   "source": [
    "round(13.98708186)"
   ]
  },
  {
   "cell_type": "code",
   "execution_count": null,
   "id": "839d33a4-374d-4130-b170-9378b8bcf1ff",
   "metadata": {
    "id": "839d33a4-374d-4130-b170-9378b8bcf1ff",
    "outputId": "3cdf1c2e-3efe-4b9b-af3a-e6b722ca0647"
   },
   "outputs": [
    {
     "data": {
      "text/plain": [
       "14.0"
      ]
     },
     "execution_count": 64,
     "metadata": {},
     "output_type": "execute_result"
    }
   ],
   "source": [
    "np.round(13.98708186)"
   ]
  },
  {
   "cell_type": "code",
   "execution_count": null,
   "id": "e41d0e17-d460-4e16-bd0a-164219939432",
   "metadata": {
    "id": "e41d0e17-d460-4e16-bd0a-164219939432",
    "outputId": "0934a699-3c8c-43a8-b167-7a44d3157f50"
   },
   "outputs": [
    {
     "name": "stdout",
     "output_type": "stream",
     "text": [
      "[ 1.          1.09090909  1.18181818  1.27272727  1.36363636  1.45454545\n",
      "  1.54545455  1.63636364  1.72727273  1.81818182  1.90909091  2.\n",
      "  2.09090909  2.18181818  2.27272727  2.36363636  2.45454545  2.54545455\n",
      "  2.63636364  2.72727273  2.81818182  2.90909091  3.          3.09090909\n",
      "  3.18181818  3.27272727  3.36363636  3.45454545  3.54545455  3.63636364\n",
      "  3.72727273  3.81818182  3.90909091  4.          4.09090909  4.18181818\n",
      "  4.27272727  4.36363636  4.45454545  4.54545455  4.63636364  4.72727273\n",
      "  4.81818182  4.90909091  5.          5.09090909  5.18181818  5.27272727\n",
      "  5.36363636  5.45454545  5.54545455  5.63636364  5.72727273  5.81818182\n",
      "  5.90909091  6.          6.09090909  6.18181818  6.27272727  6.36363636\n",
      "  6.45454545  6.54545455  6.63636364  6.72727273  6.81818182  6.90909091\n",
      "  7.          7.09090909  7.18181818  7.27272727  7.36363636  7.45454545\n",
      "  7.54545455  7.63636364  7.72727273  7.81818182  7.90909091  8.\n",
      "  8.09090909  8.18181818  8.27272727  8.36363636  8.45454545  8.54545455\n",
      "  8.63636364  8.72727273  8.81818182  8.90909091  9.          9.09090909\n",
      "  9.18181818  9.27272727  9.36363636  9.45454545  9.54545455  9.63636364\n",
      "  9.72727273  9.81818182  9.90909091 10.        ]\n"
     ]
    },
    {
     "data": {
      "text/plain": [
       "array([ 1.,  1.,  1.,  1.,  1.,  1.,  2.,  2.,  2.,  2.,  2.,  2.,  2.,\n",
       "        2.,  2.,  2.,  2.,  3.,  3.,  3.,  3.,  3.,  3.,  3.,  3.,  3.,\n",
       "        3.,  3.,  4.,  4.,  4.,  4.,  4.,  4.,  4.,  4.,  4.,  4.,  4.,\n",
       "        5.,  5.,  5.,  5.,  5.,  5.,  5.,  5.,  5.,  5.,  5.,  6.,  6.,\n",
       "        6.,  6.,  6.,  6.,  6.,  6.,  6.,  6.,  6.,  7.,  7.,  7.,  7.,\n",
       "        7.,  7.,  7.,  7.,  7.,  7.,  7.,  8.,  8.,  8.,  8.,  8.,  8.,\n",
       "        8.,  8.,  8.,  8.,  8.,  9.,  9.,  9.,  9.,  9.,  9.,  9.,  9.,\n",
       "        9.,  9.,  9., 10., 10., 10., 10., 10., 10.])"
      ]
     },
     "execution_count": 67,
     "metadata": {},
     "output_type": "execute_result"
    }
   ],
   "source": [
    "arr = np.linspace(1,10, num = 100)\n",
    "print(arr)\n",
    "arr_round = np.around(arr)\n",
    "arr_round"
   ]
  },
  {
   "cell_type": "markdown",
   "id": "977810b5-4253-4aa0-af5f-60c2b4fa6ef0",
   "metadata": {
    "id": "977810b5-4253-4aa0-af5f-60c2b4fa6ef0"
   },
   "source": [
    "## np.where()"
   ]
  },
  {
   "cell_type": "code",
   "execution_count": null,
   "id": "9ecf1c38-f543-4b29-861a-e6335ef598d5",
   "metadata": {
    "id": "9ecf1c38-f543-4b29-861a-e6335ef598d5"
   },
   "outputs": [],
   "source": [
    "np.where(condition) >> return index value of an array element \n",
    "\n",
    ">>> return value in tuple\n"
   ]
  },
  {
   "cell_type": "code",
   "execution_count": null,
   "id": "65804938-04b2-4926-bac0-29b4f55e0600",
   "metadata": {
    "id": "65804938-04b2-4926-bac0-29b4f55e0600",
    "outputId": "4722834d-10e9-4eee-f491-e6f4c0078bb9"
   },
   "outputs": [
    {
     "data": {
      "text/plain": [
       "2"
      ]
     },
     "execution_count": 68,
     "metadata": {},
     "output_type": "execute_result"
    }
   ],
   "source": [
    "list1 = [3,4,5,6,7,8,9]\n",
    "\n",
    "index_list = list1.index(5)\n",
    "index_list"
   ]
  },
  {
   "cell_type": "code",
   "execution_count": 4,
   "id": "e0ae75d9-dd11-412a-b8bd-ccee5b751fd7",
   "metadata": {
    "colab": {
     "base_uri": "https://localhost:8080/"
    },
    "executionInfo": {
     "elapsed": 35,
     "status": "ok",
     "timestamp": 1647938383445,
     "user": {
      "displayName": "ganesh thombre",
      "photoUrl": "https://lh3.googleusercontent.com/a-/AOh14GgBNZlPo0pNoLAl1I-5a9QBt4PGCqHyfB8k_AAx2l0=s64",
      "userId": "00232612742108951698"
     },
     "user_tz": -330
    },
    "id": "e0ae75d9-dd11-412a-b8bd-ccee5b751fd7",
    "outputId": "4188b072-ef7e-4746-e8ef-09cd4cde5be8"
   },
   "outputs": [
    {
     "data": {
      "text/plain": [
       "2"
      ]
     },
     "execution_count": 4,
     "metadata": {},
     "output_type": "execute_result"
    }
   ],
   "source": [
    "list1 = [3,4,5,6,7,8,9,5,2,7,5,4,10,5]\n",
    "\n",
    "index_list = list1.index(5)\n",
    "index_list"
   ]
  },
  {
   "cell_type": "code",
   "execution_count": null,
   "id": "ce3ed845-0fd6-467a-bbb3-7bac347e9811",
   "metadata": {
    "id": "ce3ed845-0fd6-467a-bbb3-7bac347e9811",
    "outputId": "cf466ebd-024e-46b6-8956-8696570754d0"
   },
   "outputs": [
    {
     "name": "stdout",
     "output_type": "stream",
     "text": [
      "[2, 7, 10, 13]\n"
     ]
    }
   ],
   "source": [
    "index_list=[]\n",
    "for index,value in enumerate(list1):\n",
    "    if value == 5:\n",
    "        index_list.append(index)\n",
    "    \n",
    "print(index_list)"
   ]
  },
  {
   "cell_type": "code",
   "execution_count": null,
   "id": "d34c0460-ff9d-4a50-983e-242a0a72301a",
   "metadata": {
    "id": "d34c0460-ff9d-4a50-983e-242a0a72301a",
    "outputId": "70c93c69-bd1a-43a3-85fd-4ed8c8368bc0"
   },
   "outputs": [
    {
     "name": "stdout",
     "output_type": "stream",
     "text": [
      "[2, 7, 10, 13]\n"
     ]
    }
   ],
   "source": [
    "index_list=[index for index , value in enumerate(list1) if value == 5]\n",
    "\n",
    "\n",
    "\n",
    "# for index,value in enumerate(list1):\n",
    "#     if value == 5:\n",
    "#         index_list.append(index)\n",
    "    \n",
    "print(index_list)"
   ]
  },
  {
   "cell_type": "code",
   "execution_count": 5,
   "id": "d60bcddb-d858-497e-8478-8a5142355010",
   "metadata": {
    "colab": {
     "base_uri": "https://localhost:8080/"
    },
    "executionInfo": {
     "elapsed": 10,
     "status": "ok",
     "timestamp": 1647938389273,
     "user": {
      "displayName": "ganesh thombre",
      "photoUrl": "https://lh3.googleusercontent.com/a-/AOh14GgBNZlPo0pNoLAl1I-5a9QBt4PGCqHyfB8k_AAx2l0=s64",
      "userId": "00232612742108951698"
     },
     "user_tz": -330
    },
    "id": "d60bcddb-d858-497e-8478-8a5142355010",
    "outputId": "8b721ffa-0011-43e1-a68d-82e71dbbfd0d"
   },
   "outputs": [
    {
     "name": "stdout",
     "output_type": "stream",
     "text": [
      "[ 3  4  5  6  7  8  9  5  2  7  5  4 10  5]\n",
      "(array([ 2,  7, 10, 13]),)\n"
     ]
    }
   ],
   "source": [
    "import numpy as np\n",
    "arr = np.array(list1)\n",
    "print(arr)\n",
    "\n",
    "index = np.where(arr==5)\n",
    "print(index)\n",
    "\n"
   ]
  },
  {
   "cell_type": "code",
   "execution_count": null,
   "id": "c88b452f-1b81-4475-9b21-452655641f08",
   "metadata": {
    "id": "c88b452f-1b81-4475-9b21-452655641f08",
    "outputId": "a80176e4-17f9-43fe-d971-79f134dea14b"
   },
   "outputs": [
    {
     "name": "stdout",
     "output_type": "stream",
     "text": [
      "[ 3  4  5  6  7  8  9  5  2  7  5  4 10  5]\n"
     ]
    },
    {
     "data": {
      "text/plain": [
       "[array([ 2,  7, 10, 13], dtype=int64)]"
      ]
     },
     "execution_count": 76,
     "metadata": {},
     "output_type": "execute_result"
    }
   ],
   "source": [
    "arr = np.array(list1)\n",
    "print(arr)\n",
    "\n",
    "index = np.where(arr==5)\n",
    "\n",
    "var_list = list(index)\n",
    "var_list\n",
    "\n"
   ]
  },
  {
   "cell_type": "code",
   "execution_count": null,
   "id": "05417c57-2a09-4d7f-9d76-c9f2ca56854b",
   "metadata": {
    "id": "05417c57-2a09-4d7f-9d76-c9f2ca56854b",
    "outputId": "3564285b-7147-467f-b5c8-11484a80f524"
   },
   "outputs": [
    {
     "name": "stdout",
     "output_type": "stream",
     "text": [
      "[ 3  4  5  6  7  8  9  5  2  7  5  4 10  5]\n"
     ]
    },
    {
     "data": {
      "text/plain": [
       "(array([8], dtype=int64),)"
      ]
     },
     "execution_count": 77,
     "metadata": {},
     "output_type": "execute_result"
    }
   ],
   "source": [
    "arr = np.array(list1)\n",
    "print(arr)\n",
    "\n",
    "index = np.where(arr == 2)\n",
    "\n",
    "index\n",
    "\n"
   ]
  },
  {
   "cell_type": "code",
   "execution_count": null,
   "id": "e22d83fb-40f5-4557-9351-944b560103f2",
   "metadata": {
    "id": "e22d83fb-40f5-4557-9351-944b560103f2",
    "outputId": "69550b10-93ed-43f9-fa1a-0cc91a310db2"
   },
   "outputs": [
    {
     "name": "stdout",
     "output_type": "stream",
     "text": [
      "[ 3  4  5  6  7  8  9  5  2  7  5  4 10  5]\n"
     ]
    },
    {
     "data": {
      "text/plain": [
       "(array([ 2,  3,  4,  5,  6,  7,  9, 10, 12, 13], dtype=int64),)"
      ]
     },
     "execution_count": 78,
     "metadata": {},
     "output_type": "execute_result"
    }
   ],
   "source": [
    "arr = np.array(list1)\n",
    "print(arr)\n",
    "\n",
    "index = np.where(arr >= 5)\n",
    "\n",
    "index\n",
    "\n"
   ]
  },
  {
   "cell_type": "code",
   "execution_count": null,
   "id": "27ea6006-b926-482f-bb45-e17ed6bf30d5",
   "metadata": {
    "id": "27ea6006-b926-482f-bb45-e17ed6bf30d5",
    "outputId": "d893ffdf-f0d4-42a0-d9bd-986957c03e69"
   },
   "outputs": [
    {
     "name": "stdout",
     "output_type": "stream",
     "text": [
      "[ 3  4  5  6  7  8  9  5  2  7  5  4 10  5]\n"
     ]
    },
    {
     "data": {
      "text/plain": [
       "(array([ 0,  1,  3,  4,  5,  6,  8,  9, 11, 12], dtype=int64),)"
      ]
     },
     "execution_count": 79,
     "metadata": {},
     "output_type": "execute_result"
    }
   ],
   "source": [
    "arr = np.array(list1)\n",
    "print(arr)\n",
    "\n",
    "index = np.where(arr!= 5)\n",
    "\n",
    "index\n",
    "\n"
   ]
  },
  {
   "cell_type": "markdown",
   "id": "57632a8c-905a-4820-bdec-538f906319c7",
   "metadata": {
    "id": "57632a8c-905a-4820-bdec-538f906319c7"
   },
   "source": [
    "### convert array to list"
   ]
  },
  {
   "cell_type": "code",
   "execution_count": null,
   "id": "0a1ea472-03ea-419d-93b9-e976a7361496",
   "metadata": {
    "id": "0a1ea472-03ea-419d-93b9-e976a7361496",
    "outputId": "ffb4ae07-27f0-4ca4-f86a-932835b3c42b"
   },
   "outputs": [
    {
     "name": "stdout",
     "output_type": "stream",
     "text": [
      "[ 3  4  5  6  7  8  9  5  2  7  5  4 10  5]\n"
     ]
    },
    {
     "data": {
      "text/plain": [
       "[array([ 2,  3,  4,  5,  6,  7,  9, 10, 12, 13], dtype=int64)]"
      ]
     },
     "execution_count": 80,
     "metadata": {},
     "output_type": "execute_result"
    }
   ],
   "source": [
    "arr = np.array(list1)\n",
    "print(arr)\n",
    "\n",
    "index = np.where(arr >= 5)\n",
    "\n",
    "index_list = list(index)\n",
    "index_list\n",
    "\n"
   ]
  },
  {
   "cell_type": "code",
   "execution_count": 18,
   "id": "6dff6fd4",
   "metadata": {},
   "outputs": [
    {
     "data": {
      "text/plain": [
       "[1.0, 2.0, 3.0, 45.5, 3.0]"
      ]
     },
     "execution_count": 18,
     "metadata": {},
     "output_type": "execute_result"
    }
   ],
   "source": [
    "a=np.array([1,2,3,45.5,3])\n",
    "list(a)"
   ]
  },
  {
   "cell_type": "code",
   "execution_count": null,
   "id": "09c0357a-359e-49c8-9e16-b3e04dfec32e",
   "metadata": {
    "id": "09c0357a-359e-49c8-9e16-b3e04dfec32e",
    "outputId": "05a883be-dd46-4b72-dd38-edf49a7f5a7d"
   },
   "outputs": [
    {
     "name": "stdout",
     "output_type": "stream",
     "text": [
      "[ 3  4  5  6  7  8  9  5  2  7  5  4 10  5]\n"
     ]
    },
    {
     "data": {
      "text/plain": [
       "array([ 2,  3,  4,  5,  6,  7,  9, 10, 12, 13], dtype=int64)"
      ]
     },
     "execution_count": 81,
     "metadata": {},
     "output_type": "execute_result"
    }
   ],
   "source": [
    "arr = np.array(list1)\n",
    "print(arr)\n",
    "\n",
    "index = np.where(arr >= 5)\n",
    "\n",
    "index_list = index[0]\n",
    "index_list\n",
    "\n"
   ]
  },
  {
   "cell_type": "code",
   "execution_count": null,
   "id": "6f5074b7-9111-4d6a-8660-dc390f13dc07",
   "metadata": {
    "id": "6f5074b7-9111-4d6a-8660-dc390f13dc07",
    "outputId": "26cc2ee5-89df-4d66-e36b-9288b505df4a"
   },
   "outputs": [
    {
     "name": "stdout",
     "output_type": "stream",
     "text": [
      "[ 3  4  5  6  7  8  9  5  2  7  5  4 10  5]\n"
     ]
    },
    {
     "data": {
      "text/plain": [
       "(array([ 2,  3,  4,  5,  6,  7,  9, 10, 12, 13], dtype=int64),)"
      ]
     },
     "execution_count": 82,
     "metadata": {},
     "output_type": "execute_result"
    }
   ],
   "source": [
    "arr = np.array(list1)\n",
    "print(arr)\n",
    "\n",
    "index = np.where(arr >= 5)\n",
    "\n",
    "index_list = index\n",
    "index_list\n",
    "\n"
   ]
  },
  {
   "cell_type": "code",
   "execution_count": 6,
   "id": "f2a12cda-a1ca-4ea9-9035-a2fad4c3ff95",
   "metadata": {
    "colab": {
     "base_uri": "https://localhost:8080/"
    },
    "executionInfo": {
     "elapsed": 11,
     "status": "ok",
     "timestamp": 1647938534388,
     "user": {
      "displayName": "ganesh thombre",
      "photoUrl": "https://lh3.googleusercontent.com/a-/AOh14GgBNZlPo0pNoLAl1I-5a9QBt4PGCqHyfB8k_AAx2l0=s64",
      "userId": "00232612742108951698"
     },
     "user_tz": -330
    },
    "id": "f2a12cda-a1ca-4ea9-9035-a2fad4c3ff95",
    "outputId": "bc3944a9-e866-4d46-9eba-aefed5bba523"
   },
   "outputs": [
    {
     "name": "stdout",
     "output_type": "stream",
     "text": [
      "[ 3  4  5  6  7  8  9  5  2  7  5  4 10  5]\n",
      "[2, 3, 4, 5, 6, 7, 9, 10, 12, 13]\n"
     ]
    }
   ],
   "source": [
    "arr = np.array(list1)\n",
    "print(arr)\n",
    "\n",
    "index = np.where(arr >= 5)\n",
    "\n",
    "index_list = index[0].tolist()\n",
    "print(index_list)\n",
    "\n"
   ]
  },
  {
   "cell_type": "code",
   "execution_count": null,
   "id": "92ae4da5-5f7c-479f-ad99-22d53b566b70",
   "metadata": {
    "id": "92ae4da5-5f7c-479f-ad99-22d53b566b70",
    "outputId": "ec83651a-cae7-4f6a-dd3d-d7d426afddc2"
   },
   "outputs": [
    {
     "name": "stdout",
     "output_type": "stream",
     "text": [
      "[ 3  4  5  6  7  8  9  5  2  7  5  4 10  5]\n",
      "[2, 3, 4, 5, 6, 7, 9, 10, 12, 13]\n"
     ]
    }
   ],
   "source": [
    "arr = np.array(list1)\n",
    "print(arr)\n",
    "\n",
    "index_list = np.where(arr >= 5)[0].tolist()\n",
    "\n",
    "print(index_list)\n",
    "\n"
   ]
  },
  {
   "cell_type": "code",
   "execution_count": null,
   "id": "07d1abec-1c52-4ef7-94e6-7355e14c3a83",
   "metadata": {
    "id": "07d1abec-1c52-4ef7-94e6-7355e14c3a83",
    "outputId": "8d58219d-5928-402c-c12e-ef95cbe6c6c9"
   },
   "outputs": [
    {
     "name": "stdout",
     "output_type": "stream",
     "text": [
      "[[ 2  3  4]\n",
      " [ 5  6  7]\n",
      " [ 9 10 12]\n",
      " [13 14 15]]\n"
     ]
    },
    {
     "data": {
      "text/plain": [
       "(array([2], dtype=int64), array([1], dtype=int64))"
      ]
     },
     "execution_count": 90,
     "metadata": {},
     "output_type": "execute_result"
    }
   ],
   "source": [
    "arr = np.array([[2, 3, 4], [5, 6, 7],[ 9, 10, 12],[ 13,14,15]])\n",
    "print(arr)\n",
    "result = np.where(arr == 10)\n",
    "result"
   ]
  },
  {
   "cell_type": "code",
   "execution_count": null,
   "id": "f4b2f629-6346-4c5d-a114-abc0b405d688",
   "metadata": {
    "id": "f4b2f629-6346-4c5d-a114-abc0b405d688",
    "outputId": "85c8f9a5-b351-4304-9456-fc456cf5a86b"
   },
   "outputs": [
    {
     "name": "stdout",
     "output_type": "stream",
     "text": [
      "[[ 2  3  4]\n",
      " [ 5  6  7]\n",
      " [ 9 10 12]\n",
      " [13 14 15]]\n"
     ]
    },
    {
     "data": {
      "text/plain": [
       "(array([0, 0, 1, 2, 2, 3], dtype=int64),\n",
       " array([0, 2, 1, 1, 2, 1], dtype=int64))"
      ]
     },
     "execution_count": 91,
     "metadata": {},
     "output_type": "execute_result"
    }
   ],
   "source": [
    "arr = np.array([[2, 3, 4], [5, 6, 7],[ 9, 10, 12],[ 13,14,15]])\n",
    "print(arr)\n",
    "result = np.where(arr%2==0)\n",
    "result"
   ]
  },
  {
   "cell_type": "code",
   "execution_count": 2,
   "id": "7e2a720f-3072-4c46-bd56-54cf1817385e",
   "metadata": {
    "id": "7e2a720f-3072-4c46-bd56-54cf1817385e",
    "outputId": "bcebe5e8-c4eb-4060-a6ae-89c0ef062d25"
   },
   "outputs": [
    {
     "name": "stdout",
     "output_type": "stream",
     "text": [
      "[[ 2  3  4]\n",
      " [ 5  6  7]\n",
      " [ 9 10 12]\n",
      " [13 14 15]]\n",
      "(array([0, 0, 1, 2, 2, 3], dtype=int64), array([0, 2, 1, 1, 2, 1], dtype=int64))\n",
      "[0, 0, 1, 2, 2, 3]\n",
      "[0, 2, 1, 1, 2, 1]\n"
     ]
    }
   ],
   "source": [
    "import numpy as np\n",
    "arr = np.array([[2, 3, 4], [5, 6, 7],[ 9, 10, 12],[ 13,14,15]])\n",
    "print(arr)\n",
    "result = np.where(arr%2==0)\n",
    "print(result)\n",
    "row_index = result[0].tolist()\n",
    "columns_index = result[1].tolist()\n",
    "\n",
    "print(row_index)\n",
    "print(columns_index)"
   ]
  },
  {
   "cell_type": "markdown",
   "id": "04fcb7bf-2c41-4249-b044-a89a20a4af4c",
   "metadata": {
    "id": "04fcb7bf-2c41-4249-b044-a89a20a4af4c"
   },
   "source": [
    "## Numerical Operations "
   ]
  },
  {
   "cell_type": "code",
   "execution_count": null,
   "id": "bf1ce2c8-6fcc-411d-ab15-1edfe6a3f4dd",
   "metadata": {
    "id": "bf1ce2c8-6fcc-411d-ab15-1edfe6a3f4dd",
    "outputId": "9ad02ea0-7fc0-4469-e02e-1c3735338b92"
   },
   "outputs": [
    {
     "data": {
      "text/plain": [
       "array([12, 13, 14, 15, 16, 17, 19, 20, 22, 23, 24, 25])"
      ]
     },
     "execution_count": 94,
     "metadata": {},
     "output_type": "execute_result"
    }
   ],
   "source": [
    "# add 10 in every element \n",
    "arr = np.array([2, 3, 4, 5, 6, 7, 9, 10, 12, 13,14,15])\n",
    "\n",
    "new_arr = arr+10\n",
    "new_arr"
   ]
  },
  {
   "cell_type": "code",
   "execution_count": null,
   "id": "b774dc8a-0156-4033-bbe6-3fdb53eae3dc",
   "metadata": {
    "id": "b774dc8a-0156-4033-bbe6-3fdb53eae3dc",
    "outputId": "75053314-fc13-498f-c50e-175d7048fc7d"
   },
   "outputs": [
    {
     "data": {
      "text/plain": [
       "array([-3, -2, -1,  0,  1,  2,  4,  5,  7,  8,  9, 10])"
      ]
     },
     "execution_count": 95,
     "metadata": {},
     "output_type": "execute_result"
    }
   ],
   "source": [
    "# substract 5 in every element \n",
    "arr = np.array([2, 3, 4, 5, 6, 7, 9, 10, 12, 13,14,15])\n",
    "\n",
    "new_arr = arr-5\n",
    "new_arr"
   ]
  },
  {
   "cell_type": "code",
   "execution_count": null,
   "id": "b1da0711-b1c3-45d7-8c3c-b49fe36f4c9b",
   "metadata": {
    "id": "b1da0711-b1c3-45d7-8c3c-b49fe36f4c9b",
    "outputId": "1811f52a-eb67-45f3-ac56-215930b4cceb"
   },
   "outputs": [
    {
     "data": {
      "text/plain": [
       "array([  4,   9,  16,  25,  36,  49,  81, 100, 144, 169, 196, 225])"
      ]
     },
     "execution_count": 96,
     "metadata": {},
     "output_type": "execute_result"
    }
   ],
   "source": [
    "# substract 5 in every element \n",
    "arr = np.array([2, 3, 4, 5, 6, 7, 9, 10, 12, 13,14,15])\n",
    "\n",
    "new_arr = arr**2\n",
    "new_arr"
   ]
  },
  {
   "cell_type": "markdown",
   "id": "c64f3108-3f6b-4190-b0a2-cd8957d7a5a5",
   "metadata": {
    "id": "c64f3108-3f6b-4190-b0a2-cd8957d7a5a5"
   },
   "source": [
    "## Matrix Addition"
   ]
  },
  {
   "cell_type": "code",
   "execution_count": 25,
   "id": "2052fae1-d888-4840-a6e4-b1136c89a132",
   "metadata": {
    "id": "2052fae1-d888-4840-a6e4-b1136c89a132",
    "outputId": "0b6f7421-6f1a-438a-8c66-eabdc6d0bf73"
   },
   "outputs": [
    {
     "name": "stdout",
     "output_type": "stream",
     "text": [
      "Array1 = \n",
      "[[2 3 4]\n",
      " [5 6 7]]\n",
      "Array2 = \n",
      "[[ 9 10 12]\n",
      " [13 14 15]]\n"
     ]
    }
   ],
   "source": [
    "arr1 = np.array([[2, 3, 4], [5, 6, 7]])\n",
    "print(f\"Array1 = \\n{arr1}\")\n",
    "arr2 = np.array([[ 9, 10, 12],[ 13,14,15]])\n",
    "print(f\"Array2 = \\n{arr2}\")"
   ]
  },
  {
   "cell_type": "code",
   "execution_count": 26,
   "id": "33ae03d8-08dd-46eb-8056-863f1160a9e6",
   "metadata": {
    "id": "33ae03d8-08dd-46eb-8056-863f1160a9e6",
    "outputId": "dc84f660-f865-4c92-af91-59dc68cdf73c"
   },
   "outputs": [
    {
     "data": {
      "text/plain": [
       "array([[11, 13, 16],\n",
       "       [18, 20, 22]])"
      ]
     },
     "execution_count": 26,
     "metadata": {},
     "output_type": "execute_result"
    }
   ],
   "source": [
    "add = arr1 + arr2\n",
    "add"
   ]
  },
  {
   "cell_type": "markdown",
   "id": "26fd8d74-66f2-477d-a970-5db2392e5012",
   "metadata": {
    "id": "26fd8d74-66f2-477d-a970-5db2392e5012"
   },
   "source": [
    "## np.add()"
   ]
  },
  {
   "cell_type": "code",
   "execution_count": 28,
   "id": "a467ec0e-898c-4fe1-8ea9-fedd43aa3262",
   "metadata": {
    "id": "a467ec0e-898c-4fe1-8ea9-fedd43aa3262",
    "outputId": "5806c75b-a729-488e-880a-a703399a3a22"
   },
   "outputs": [
    {
     "data": {
      "text/plain": [
       "array([[18, 20, 24],\n",
       "       [26, 28, 30]])"
      ]
     },
     "execution_count": 28,
     "metadata": {},
     "output_type": "execute_result"
    }
   ],
   "source": [
    "arr3 = np.array([[ 9, 10, 12],[ 13,14,15]])\n",
    "new_arr = np.add(arr3,arr2,arr1)\n",
    "new_arr"
   ]
  },
  {
   "cell_type": "markdown",
   "id": "24813b0e-1412-49bb-880a-f8d6d570b831",
   "metadata": {
    "id": "24813b0e-1412-49bb-880a-f8d6d570b831",
    "tags": []
   },
   "source": [
    "## Matrix Multiplication "
   ]
  },
  {
   "cell_type": "code",
   "execution_count": null,
   "id": "dff1be6b-3f67-4169-8c8a-0653a4eb9874",
   "metadata": {
    "id": "dff1be6b-3f67-4169-8c8a-0653a4eb9874",
    "outputId": "0a84b011-e5ee-43e5-9600-ed4ecfb70c48"
   },
   "outputs": [
    {
     "name": "stdout",
     "output_type": "stream",
     "text": [
      "Array1 = \n",
      "[[2 3 4]\n",
      " [5 6 7]]\n",
      "Array2 = \n",
      "[[ 9 10 12]\n",
      " [13 14 15]]\n",
      "******************************\n",
      "[[ 18  30  48]\n",
      " [ 65  84 105]]\n"
     ]
    }
   ],
   "source": [
    "arr1 = np.array([[2, 3, 4], [5, 6, 7]])\n",
    "print(f\"Array1 = \\n{arr1}\")\n",
    "arr2 = np.array([[ 9, 10, 12],[ 13,14,15]])\n",
    "print(f\"Array2 = \\n{arr2}\")\n",
    "\n",
    "arr = arr1 * arr2\n",
    "print('*'*30)\n",
    "arr = np.multiply(arr1,arr2)\n",
    "print(arr)"
   ]
  },
  {
   "cell_type": "markdown",
   "id": "fbd29f81-7157-468f-a2ba-7bead34a9cb8",
   "metadata": {
    "id": "fbd29f81-7157-468f-a2ba-7bead34a9cb8"
   },
   "source": [
    "## Matrxi Dot Product"
   ]
  },
  {
   "cell_type": "code",
   "execution_count": null,
   "id": "48b68c92-ab98-4319-9b7f-0277d30b8c75",
   "metadata": {
    "id": "48b68c92-ab98-4319-9b7f-0277d30b8c75",
    "outputId": "33bf7dce-4e03-4e5d-bdf2-2e7635cc9e35"
   },
   "outputs": [
    {
     "name": "stdout",
     "output_type": "stream",
     "text": [
      "Array1 = \n",
      "[[2 3 4]\n",
      " [5 6 7]\n",
      " [2 3 4]]\n",
      "Array2 = \n",
      "[[ 9 10 12]\n",
      " [13 14 15]\n",
      " [ 5  6  7]]\n",
      "******************************\n",
      "[[ 77  86  97]\n",
      " [158 176 199]\n",
      " [ 77  86  97]]\n"
     ]
    }
   ],
   "source": [
    "arr1 = np.array([[2, 3, 4], [5, 6, 7],[2,3,4]])\n",
    "print(f\"Array1 = \\n{arr1}\")\n",
    "arr2 = np.array([[ 9, 10, 12],[ 13,14,15],[5,6,7]])\n",
    "print(f\"Array2 = \\n{arr2}\")\n",
    "\n",
    "# arr = arr1 * arr2\n",
    "print('*'*30)\n",
    "arr = np.dot(arr1,arr2)\n",
    "print(arr)"
   ]
  },
  {
   "cell_type": "code",
   "execution_count": null,
   "id": "c92ffee5-af5b-49e4-b645-0d6e8b4cd20f",
   "metadata": {
    "id": "c92ffee5-af5b-49e4-b645-0d6e8b4cd20f",
    "outputId": "0f62cb5d-5846-44c1-e4ab-e984a4271946"
   },
   "outputs": [
    {
     "name": "stdout",
     "output_type": "stream",
     "text": [
      "Array1 = \n",
      "[[2 3]\n",
      " [4 5]]\n",
      "Array2 = \n",
      "[[6 7]\n",
      " [4 5]]\n",
      "******************************\n",
      "[[24 29]\n",
      " [44 53]]\n"
     ]
    }
   ],
   "source": [
    "## arr1 = np.array([[2, 3],[ 4,5]])\n",
    "print(f\"Array1 = \\n{arr1}\")\n",
    "arr2 = np.array([[6,7 ],[ 4,5]])\n",
    "print(f\"Array2 = \\n{arr2}\")\n",
    "\n",
    "# arr = arr1 * arr2\n",
    "print('*'*30)\n",
    "arr = np.dot(arr1,arr2)\n",
    "print(arr)"
   ]
  },
  {
   "cell_type": "code",
   "execution_count": null,
   "id": "9913583f-12fe-431c-a11a-8104e2d62c7f",
   "metadata": {
    "id": "9913583f-12fe-431c-a11a-8104e2d62c7f",
    "outputId": "fd1680ab-c8cd-4b71-8384-d8c29871b7a9"
   },
   "outputs": [
    {
     "data": {
      "text/plain": [
       "24"
      ]
     },
     "execution_count": 108,
     "metadata": {},
     "output_type": "execute_result"
    }
   ],
   "source": [
    "2*6 + 3*4"
   ]
  },
  {
   "cell_type": "code",
   "execution_count": null,
   "id": "fba902b1-8b7b-4fc1-b674-d9fbf035637e",
   "metadata": {
    "id": "fba902b1-8b7b-4fc1-b674-d9fbf035637e",
    "outputId": "3640d07c-055c-433e-83b2-6d6815010a2e"
   },
   "outputs": [
    {
     "data": {
      "text/plain": [
       "44"
      ]
     },
     "execution_count": 109,
     "metadata": {},
     "output_type": "execute_result"
    }
   ],
   "source": [
    "4 *6 + 5 *4"
   ]
  },
  {
   "cell_type": "code",
   "execution_count": null,
   "id": "2d8b46a3-c7af-4508-9ee9-9ef30bcf5eca",
   "metadata": {
    "id": "2d8b46a3-c7af-4508-9ee9-9ef30bcf5eca"
   },
   "outputs": [],
   "source": []
  }
 ],
 "metadata": {
  "colab": {
   "name": "numpy.ipynb",
   "provenance": []
  },
  "kernelspec": {
   "display_name": "Python 3 (ipykernel)",
   "language": "python",
   "name": "python3"
  },
  "language_info": {
   "codemirror_mode": {
    "name": "ipython",
    "version": 3
   },
   "file_extension": ".py",
   "mimetype": "text/x-python",
   "name": "python",
   "nbconvert_exporter": "python",
   "pygments_lexer": "ipython3",
   "version": "3.9.7"
  }
 },
 "nbformat": 4,
 "nbformat_minor": 5
}
