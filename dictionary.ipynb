{
 "cells": [
  {
   "cell_type": "markdown",
   "id": "7b48fbd2",
   "metadata": {
    "id": "7b48fbd2"
   },
   "source": [
    "# Dictionary"
   ]
  },
  {
   "cell_type": "raw",
   "id": "dca9a139",
   "metadata": {
    "id": "dca9a139"
   },
   "source": [
    "## Data Type \n",
    "\n",
    "str   : Ordered,  Immutable,     Duplicates are alloowed ,   \"\" or ''\n",
    "list  : ordered,  Mutabale,      Duplicates are allowed,     [],   separated by ,\n",
    "tuple : Ordered,  Immutable,     Duplicates are allowed,     (),   Separated by ,\n",
    "set   : Unordered, Mutable,      Duplicates are not allowed   {}, separated by ,\n",
    "frozenset : Unordred, immutable, Duplicates are not allowed   frozenset({}), separated by ,\n",
    "\n",
    "dict : ordered (python >= 3.7), Mutable,  Duplicates allowed data in values not allowed in key, {}, \n",
    "    separated by,\n",
    "    \n",
    "dict ={key:value}\n"
   ]
  },
  {
   "cell_type": "code",
   "execution_count": null,
   "id": "57e57ea0",
   "metadata": {
    "id": "57e57ea0"
   },
   "outputs": [],
   "source": [
    "Synatx:\n",
    "\n",
    "    \n",
    "d1 = {key1: value1, key2:value2....... key_n:value_n}\n",
    "\n",
    "1. It is collection of key and value pair.\n",
    "2. we can not access item/ value by using index , we have use key.\n",
    "3. Duplicates key are not allowed but duplicate values can be inserted\n",
    "4. dict is comma separated\n",
    "5. {} represented\n",
    "\n",
    "\n",
    "orderd >>> python >= 3.7\n",
    "unordered >>> python < 3.7 (3.6,3.5,3.4)"
   ]
  },
  {
   "cell_type": "code",
   "execution_count": null,
   "id": "1d315581",
   "metadata": {
    "id": "1d315581"
   },
   "outputs": [],
   "source": [
    "key ---->> Immutable data type (int,float,str,tuple,frozenset)\n",
    "Values ----->> Any data Type (int,float,str,list,tuple,set,frozenset,dict,etc)"
   ]
  },
  {
   "cell_type": "code",
   "execution_count": null,
   "id": "c9a8d0f6",
   "metadata": {
    "id": "c9a8d0f6",
    "outputId": "346a4818-8f2f-4fb7-bf7f-1c65e9db7cfa"
   },
   "outputs": [
    {
     "name": "stdout",
     "output_type": "stream",
     "text": [
      "{'a': 200}\n",
      "<class 'dict'>\n"
     ]
    }
   ],
   "source": [
    "dict1 = {\"a\":200}\n",
    "print(dict1)\n",
    "print(type(dict1))"
   ]
  },
  {
   "cell_type": "code",
   "execution_count": null,
   "id": "957abaef",
   "metadata": {
    "id": "957abaef",
    "outputId": "100e3279-3d90-4b1b-d297-0d33da8ec8fe"
   },
   "outputs": [
    {
     "name": "stdout",
     "output_type": "stream",
     "text": [
      "{'a': 200.5}\n",
      "<class 'dict'>\n"
     ]
    }
   ],
   "source": [
    "dict1 = {\"a\":200.50}\n",
    "print(dict1)\n",
    "print(type(dict1))"
   ]
  },
  {
   "cell_type": "code",
   "execution_count": null,
   "id": "88a86b57",
   "metadata": {
    "id": "88a86b57",
    "outputId": "ed27a808-7720-450d-d786-228cfa27a658"
   },
   "outputs": [
    {
     "name": "stdout",
     "output_type": "stream",
     "text": [
      "{'a': 'python'}\n",
      "<class 'dict'>\n"
     ]
    }
   ],
   "source": [
    "dict1 = {\"a\":\"python\"}\n",
    "print(dict1)\n",
    "print(type(dict1))"
   ]
  },
  {
   "cell_type": "code",
   "execution_count": null,
   "id": "d3f408ff",
   "metadata": {
    "id": "d3f408ff",
    "outputId": "717529df-1e54-402c-875c-ce8f2df1186f"
   },
   "outputs": [
    {
     "name": "stdout",
     "output_type": "stream",
     "text": [
      "{'a': ['python', 5]}\n",
      "<class 'dict'>\n"
     ]
    }
   ],
   "source": [
    "dict1 = {\"a\":[\"python\",5]}\n",
    "print(dict1)\n",
    "print(type(dict1))"
   ]
  },
  {
   "cell_type": "code",
   "execution_count": null,
   "id": "d9d36931",
   "metadata": {
    "id": "d9d36931",
    "outputId": "2d881257-5c01-4ed6-bf46-9e0d192b12e0",
    "scrolled": true
   },
   "outputs": [
    {
     "name": "stdout",
     "output_type": "stream",
     "text": [
      "{'a': ('python', 5)}\n",
      "<class 'dict'>\n"
     ]
    }
   ],
   "source": [
    "dict1 = {\"a\":(\"python\",5)}\n",
    "print(dict1)\n",
    "print(type(dict1))"
   ]
  },
  {
   "cell_type": "code",
   "execution_count": null,
   "id": "2231b2f2",
   "metadata": {
    "id": "2231b2f2",
    "outputId": "05d95b4d-15d8-4cc2-c3d9-6bb0bf76e95c"
   },
   "outputs": [
    {
     "name": "stdout",
     "output_type": "stream",
     "text": [
      "{'a': ('python', 5), 2: [6, 9.5, 'data'], (5, 8): 'tuple data'}\n",
      "<class 'dict'>\n",
      "3\n"
     ]
    }
   ],
   "source": [
    "dict1 = {\"a\":(\"python\",5),2:[6,9.5,\"data\"],(5,8):\"tuple data\"}\n",
    "print(dict1)\n",
    "print(type(dict1))\n",
    "print(len(dict1))"
   ]
  },
  {
   "cell_type": "code",
   "execution_count": null,
   "id": "d1360720",
   "metadata": {
    "id": "d1360720",
    "outputId": "aeed6457-dc97-4c0f-9317-b2f07568a76c"
   },
   "outputs": [
    {
     "name": "stdout",
     "output_type": "stream",
     "text": [
      "{'a': ('python', 5), 2: [6, 9.5, 'data'], frozenset({8, 5}): 'tuple data'}\n",
      "<class 'dict'>\n",
      "3\n"
     ]
    }
   ],
   "source": [
    "dict1 = {\"a\":(\"python\",5),2:[6,9.5,\"data\"],frozenset({5,8}):\"tuple data\"}\n",
    "print(dict1)\n",
    "print(type(dict1))\n",
    "print(len(dict1))"
   ]
  },
  {
   "cell_type": "code",
   "execution_count": null,
   "id": "4ddcf48d",
   "metadata": {
    "id": "4ddcf48d",
    "outputId": "3909064c-bbd2-4cce-b348-088c0f57bac0"
   },
   "outputs": [
    {
     "ename": "TypeError",
     "evalue": "unhashable type: 'list'",
     "output_type": "error",
     "traceback": [
      "\u001b[1;31m---------------------------------------------------------------------------\u001b[0m",
      "\u001b[1;31mTypeError\u001b[0m                                 Traceback (most recent call last)",
      "\u001b[1;32m~\\AppData\\Local\\Temp/ipykernel_5816/754348015.py\u001b[0m in \u001b[0;36m<module>\u001b[1;34m\u001b[0m\n\u001b[1;32m----> 1\u001b[1;33m \u001b[0mdict1\u001b[0m \u001b[1;33m=\u001b[0m \u001b[1;33m{\u001b[0m\u001b[1;34m\"a\"\u001b[0m\u001b[1;33m:\u001b[0m\u001b[1;33m(\u001b[0m\u001b[1;34m\"python\"\u001b[0m\u001b[1;33m,\u001b[0m\u001b[1;36m5\u001b[0m\u001b[1;33m)\u001b[0m\u001b[1;33m,\u001b[0m\u001b[1;36m2\u001b[0m\u001b[1;33m:\u001b[0m\u001b[1;33m[\u001b[0m\u001b[1;36m6\u001b[0m\u001b[1;33m,\u001b[0m\u001b[1;36m9.5\u001b[0m\u001b[1;33m,\u001b[0m\u001b[1;34m\"data\"\u001b[0m\u001b[1;33m]\u001b[0m\u001b[1;33m,\u001b[0m\u001b[1;33m[\u001b[0m\u001b[1;36m5\u001b[0m\u001b[1;33m,\u001b[0m\u001b[1;36m8\u001b[0m\u001b[1;33m]\u001b[0m\u001b[1;33m:\u001b[0m\u001b[1;34m\"tuple data\"\u001b[0m\u001b[1;33m}\u001b[0m\u001b[1;33m\u001b[0m\u001b[1;33m\u001b[0m\u001b[0m\n\u001b[0m\u001b[0;32m      2\u001b[0m \u001b[0mprint\u001b[0m\u001b[1;33m(\u001b[0m\u001b[0mdict1\u001b[0m\u001b[1;33m)\u001b[0m\u001b[1;33m\u001b[0m\u001b[1;33m\u001b[0m\u001b[0m\n\u001b[0;32m      3\u001b[0m \u001b[0mprint\u001b[0m\u001b[1;33m(\u001b[0m\u001b[0mtype\u001b[0m\u001b[1;33m(\u001b[0m\u001b[0mdict1\u001b[0m\u001b[1;33m)\u001b[0m\u001b[1;33m)\u001b[0m\u001b[1;33m\u001b[0m\u001b[1;33m\u001b[0m\u001b[0m\n\u001b[0;32m      4\u001b[0m \u001b[0mprint\u001b[0m\u001b[1;33m(\u001b[0m\u001b[0mlen\u001b[0m\u001b[1;33m(\u001b[0m\u001b[0mdict1\u001b[0m\u001b[1;33m)\u001b[0m\u001b[1;33m)\u001b[0m\u001b[1;33m\u001b[0m\u001b[1;33m\u001b[0m\u001b[0m\n",
      "\u001b[1;31mTypeError\u001b[0m: unhashable type: 'list'"
     ]
    }
   ],
   "source": [
    "dict1 = {\"a\":(\"python\",5),2:[6,9.5,\"data\"],[5,8]:\"tuple data\"}\n",
    "print(dict1)\n",
    "print(type(dict1))\n",
    "print(len(dict1))"
   ]
  },
  {
   "cell_type": "code",
   "execution_count": null,
   "id": "56506678",
   "metadata": {
    "id": "56506678",
    "outputId": "343e65dc-a772-4a72-fd4e-2f154d709645"
   },
   "outputs": [
    {
     "name": "stdout",
     "output_type": "stream",
     "text": [
      "{}\n",
      "<class 'dict'>\n"
     ]
    }
   ],
   "source": [
    "dict1 = {}\n",
    "print(dict1)\n",
    "print(type(dict1))"
   ]
  },
  {
   "cell_type": "code",
   "execution_count": null,
   "id": "cbc64b6a",
   "metadata": {
    "id": "cbc64b6a",
    "outputId": "76416e77-ca65-476e-fd5f-2d5c149ebeb1"
   },
   "outputs": [
    {
     "name": "stdout",
     "output_type": "stream",
     "text": [
      "{'Name': 'Keshav', 'Age': 23, 'Marks': 12, 'place': 'pune'}\n"
     ]
    }
   ],
   "source": [
    "dict1 = {\"Name\":\"Keshav\",\"Age\":23,\"Marks\":12,\"place\":'pune'}\n",
    "print(dict1)\n",
    "\n",
    "# list1 = [\"keshav\",23,12,\"pune\"]"
   ]
  },
  {
   "cell_type": "code",
   "execution_count": null,
   "id": "0bd19ad7",
   "metadata": {
    "id": "0bd19ad7",
    "outputId": "22e95598-0f4f-4809-d65c-2b352c4a1d64"
   },
   "outputs": [
    {
     "name": "stdout",
     "output_type": "stream",
     "text": [
      "{'Name': 'Prashant', 'Age': 23, 'Marks': 12, 'place': 'pune'}\n"
     ]
    }
   ],
   "source": [
    "dict1 = {\"Name\":\"Keshav\",\"Age\":23,\"Marks\":12,\"place\":'pune',\"Name\":\"Prashant\"}\n",
    "print(dict1)\n",
    "\n",
    "# list1 = [\"keshav\",23,12,\"pune\"]"
   ]
  },
  {
   "cell_type": "code",
   "execution_count": null,
   "id": "d681a812",
   "metadata": {
    "id": "d681a812",
    "outputId": "20dc5d69-93ae-4948-ae49-126ccf04a99a"
   },
   "outputs": [
    {
     "name": "stdout",
     "output_type": "stream",
     "text": [
      "{'Name': 'Sachin', 'Age': 23, 'Marks': 12, 'place': 'pune'}\n"
     ]
    }
   ],
   "source": [
    "dict1 = {\"Name\":\"Keshav\",\"Age\":23,\"Marks\":12,\"place\":'pune',\"Name\":\"Prashant\",\"Name\":\"Sachin\"}\n",
    "print(dict1)\n",
    "\n",
    "# list1 = [\"keshav\",23,12,\"pune\"]"
   ]
  },
  {
   "cell_type": "code",
   "execution_count": null,
   "id": "22e7005a",
   "metadata": {
    "id": "22e7005a",
    "outputId": "48230927-096a-4531-dc44-3a41ddf33225"
   },
   "outputs": [
    {
     "name": "stdout",
     "output_type": "stream",
     "text": [
      "{'Name': 'Keshav', 'Age': 23, 'Marks': 12, 'place': 'pune', 'Friend Name': 'Keshav', 'Name1': 'Keshav'}\n"
     ]
    }
   ],
   "source": [
    "dict1 = {\"Name\":\"Keshav\",\"Age\":23,\"Marks\":12,\"place\":'pune',\"Friend Name\":\"Keshav\",\"Name1\":\"Keshav\"}\n",
    "print(dict1)\n",
    "\n",
    "# list1 = [\"keshav\",23,12,\"pune\"]"
   ]
  },
  {
   "cell_type": "markdown",
   "id": "ac5d3859",
   "metadata": {
    "id": "ac5d3859"
   },
   "source": [
    "## Access Dictionary Items"
   ]
  },
  {
   "cell_type": "raw",
   "id": "a3e1c2f9",
   "metadata": {
    "id": "a3e1c2f9"
   },
   "source": [
    "Index --->> not able to acces using index or slicing "
   ]
  },
  {
   "cell_type": "code",
   "execution_count": null,
   "id": "cfce4548",
   "metadata": {
    "id": "cfce4548"
   },
   "outputs": [],
   "source": [
    "synatx:\n",
    "    \n",
    "dict_var[key_name]"
   ]
  },
  {
   "cell_type": "code",
   "execution_count": null,
   "id": "1bcd418f",
   "metadata": {
    "id": "1bcd418f",
    "outputId": "9c69c2ab-971e-4c51-f932-379b9cd0ea95"
   },
   "outputs": [
    {
     "name": "stdout",
     "output_type": "stream",
     "text": [
      "Keshav\n"
     ]
    }
   ],
   "source": [
    "dict1 = {\"Name\":\"Keshav\",\"Age\":23,\"Marks\":12,\"place\":'pune',\"Friend Name\":\"Keshav\",\"Name1\":\"Keshav\"}\n",
    "print(dict1[\"Name\"])\n",
    "\n"
   ]
  },
  {
   "cell_type": "code",
   "execution_count": null,
   "id": "86e56d86",
   "metadata": {
    "id": "86e56d86",
    "outputId": "3c35bec3-91cb-45e2-f452-1cb45e70dd62"
   },
   "outputs": [
    {
     "name": "stdout",
     "output_type": "stream",
     "text": [
      "23\n"
     ]
    }
   ],
   "source": [
    "print(dict1[\"Age\"])"
   ]
  },
  {
   "cell_type": "code",
   "execution_count": null,
   "id": "42e80245",
   "metadata": {
    "id": "42e80245",
    "outputId": "56c491ca-2f96-42cb-d680-dc96189afc6f"
   },
   "outputs": [
    {
     "name": "stdout",
     "output_type": "stream",
     "text": [
      "pune\n"
     ]
    }
   ],
   "source": [
    "print(dict1[\"place\"])"
   ]
  },
  {
   "cell_type": "code",
   "execution_count": null,
   "id": "dd365e10",
   "metadata": {
    "id": "dd365e10"
   },
   "outputs": [],
   "source": [
    "employee_data ={\"emp_name\":\"Prashant\",\n",
    "               \"Company name\": \"Meta\",\n",
    "               \"Salary\":60000,\n",
    "               \"designation\":\"data scientist\"}"
   ]
  },
  {
   "cell_type": "code",
   "execution_count": null,
   "id": "5b80523c",
   "metadata": {
    "id": "5b80523c",
    "outputId": "dbca4eaf-bf09-4bb6-83a5-a4f2b64bda8b"
   },
   "outputs": [
    {
     "data": {
      "text/plain": [
       "'Prashant'"
      ]
     },
     "execution_count": 19,
     "metadata": {},
     "output_type": "execute_result"
    }
   ],
   "source": [
    "employee_data['emp_name']"
   ]
  },
  {
   "cell_type": "code",
   "execution_count": null,
   "id": "9d3d65b4",
   "metadata": {
    "id": "9d3d65b4",
    "outputId": "b361b2ea-58eb-40e9-e27e-54336ecfb7f3"
   },
   "outputs": [
    {
     "data": {
      "text/plain": [
       "{'emp_name': 'Alok',\n",
       " 'Company name': 'Meta',\n",
       " 'Salary': 60000,\n",
       " 'designation': 'data scientist'}"
      ]
     },
     "execution_count": 20,
     "metadata": {},
     "output_type": "execute_result"
    }
   ],
   "source": [
    "employee_data ={\"M0010\":\n",
    "                {\"emp_name\":\"Prashant\",\n",
    "               \"Company name\": \"Meta\",\n",
    "               \"Salary\":60000,\n",
    "               \"designation\":\"data scientist\"},\n",
    "                \"M0011\":\n",
    "                {\"emp_name\":\"Alok\",\n",
    "               \"Company name\": \"Meta\",\n",
    "               \"Salary\":60000,\n",
    "               \"designation\":\"data scientist\"}\n",
    "               }\n",
    "employee_data[\"M0011\"]"
   ]
  },
  {
   "cell_type": "markdown",
   "id": "e1edc830",
   "metadata": {
    "id": "e1edc830"
   },
   "source": [
    "## 1. get()"
   ]
  },
  {
   "cell_type": "code",
   "execution_count": null,
   "id": "fd704a8a",
   "metadata": {
    "id": "fd704a8a"
   },
   "outputs": [],
   "source": [
    "synatax:\n",
    "\n",
    "dict_var.get(key_name)"
   ]
  },
  {
   "cell_type": "code",
   "execution_count": null,
   "id": "5e3baf7f",
   "metadata": {
    "id": "5e3baf7f",
    "outputId": "6a3dd7c3-0fde-442e-86a5-83df73ddbdd1"
   },
   "outputs": [
    {
     "data": {
      "text/plain": [
       "60000"
      ]
     },
     "execution_count": 21,
     "metadata": {},
     "output_type": "execute_result"
    }
   ],
   "source": [
    "employee_data ={\"emp_name\":\"Prashant\",\n",
    "               \"Company name\": \"Meta\",\n",
    "               \"Salary\":60000,\n",
    "               \"designation\":\"data scientist\"}\n",
    "employee_data.get('Salary')"
   ]
  },
  {
   "cell_type": "code",
   "execution_count": null,
   "id": "dcaa9db4",
   "metadata": {
    "id": "dcaa9db4",
    "outputId": "d9fa0360-3286-4ad2-a800-99403252ff3e"
   },
   "outputs": [
    {
     "data": {
      "text/plain": [
       "'data scientist'"
      ]
     },
     "execution_count": 22,
     "metadata": {},
     "output_type": "execute_result"
    }
   ],
   "source": [
    "employee_data.get('designation')"
   ]
  },
  {
   "cell_type": "code",
   "execution_count": null,
   "id": "09c7caca",
   "metadata": {
    "id": "09c7caca",
    "outputId": "6169371a-c9bb-43b0-a5d1-7ee18b5884ca"
   },
   "outputs": [
    {
     "name": "stdout",
     "output_type": "stream",
     "text": [
      "None\n"
     ]
    }
   ],
   "source": [
    "print(employee_data.get(\"sal\"))"
   ]
  },
  {
   "cell_type": "markdown",
   "id": "4a4315bf",
   "metadata": {
    "id": "4a4315bf"
   },
   "source": [
    "## Access item by using loop"
   ]
  },
  {
   "cell_type": "code",
   "execution_count": null,
   "id": "8e95e73a",
   "metadata": {
    "id": "8e95e73a"
   },
   "outputs": [],
   "source": [
    "## 1 keys()\n",
    "\n",
    "retuen all keys values\n",
    "\n",
    "Synatx:\n",
    "\n",
    "dict_name.keys()"
   ]
  },
  {
   "cell_type": "code",
   "execution_count": null,
   "id": "37972789",
   "metadata": {
    "id": "37972789",
    "outputId": "69ec1169-d172-469d-cc13-308af6bc75cb"
   },
   "outputs": [
    {
     "name": "stdout",
     "output_type": "stream",
     "text": [
      "dict_keys(['emp_name', 'Company name', 'Salary', 'designation'])\n"
     ]
    }
   ],
   "source": [
    "employee_data ={\"emp_name\":\"Prashant\",\n",
    "               \"Company name\": \"Meta\",\n",
    "               \"Salary\":60000,\n",
    "               \"designation\":\"data scientist\"}\n",
    "print(employee_data.keys())"
   ]
  },
  {
   "cell_type": "code",
   "execution_count": null,
   "id": "a1675f5f",
   "metadata": {
    "id": "a1675f5f",
    "outputId": "35fb249e-50d8-4513-d8ad-17d2fec141ce"
   },
   "outputs": [
    {
     "name": "stdout",
     "output_type": "stream",
     "text": [
      "<class 'dict_keys'>\n",
      "dict_keys(['emp_name', 'Company name', 'Salary', 'designation'])\n"
     ]
    }
   ],
   "source": [
    "employee_data ={\"emp_name\":\"Prashant\",\n",
    "               \"Company name\": \"Meta\",\n",
    "               \"Salary\":60000,\n",
    "               \"designation\":\"data scientist\"}\n",
    "var = employee_data.keys()\n",
    "\n",
    "print(type(var))\n",
    "\n",
    "print(var)"
   ]
  },
  {
   "cell_type": "code",
   "execution_count": null,
   "id": "a82abd0a",
   "metadata": {
    "id": "a82abd0a"
   },
   "outputs": [],
   "source": [
    "## 2. values()\n",
    "\n",
    "It will return all values of dictionary "
   ]
  },
  {
   "cell_type": "code",
   "execution_count": null,
   "id": "5c953ebc",
   "metadata": {
    "id": "5c953ebc",
    "outputId": "0b5d10e3-ece8-4ead-dc18-d265a7de21c4"
   },
   "outputs": [
    {
     "name": "stdout",
     "output_type": "stream",
     "text": [
      "<class 'dict_values'>\n",
      "dict_values(['Prashant', 'Meta', 60000, 'data scientist'])\n"
     ]
    }
   ],
   "source": [
    "employee_data ={\"emp_name\":\"Prashant\",\n",
    "               \"Company name\": \"Meta\",\n",
    "               \"Salary\":60000,\n",
    "               \"designation\":\"data scientist\"}\n",
    "var = employee_data.values()\n",
    "\n",
    "print(type(var))\n",
    "\n",
    "print(var)"
   ]
  },
  {
   "cell_type": "code",
   "execution_count": null,
   "id": "aee252f0",
   "metadata": {
    "id": "aee252f0",
    "outputId": "394d2794-7748-464c-b3e2-9e430dba70ee"
   },
   "outputs": [
    {
     "name": "stdout",
     "output_type": "stream",
     "text": [
      "dict_values(['Prashant', 'Meta', 60000, 'data scientist'])\n"
     ]
    }
   ],
   "source": [
    "employee_data ={\"emp_name\":\"Prashant\",\n",
    "               \"Company name\": \"Meta\",\n",
    "               \"Salary\":60000,\n",
    "               \"designation\":\"data scientist\"}\n",
    "print(employee_data.values())\n",
    "\n",
    "# print(type(var))\n",
    "\n",
    "# print(var)"
   ]
  },
  {
   "cell_type": "code",
   "execution_count": null,
   "id": "6210d55b",
   "metadata": {
    "id": "6210d55b"
   },
   "outputs": [],
   "source": [
    "### 3. items()\n",
    "\n",
    "It will return key and value\n",
    "\n",
    "Syntax: \n",
    "    \n",
    "dict_var.items()"
   ]
  },
  {
   "cell_type": "code",
   "execution_count": null,
   "id": "5c2b98d0",
   "metadata": {
    "id": "5c2b98d0"
   },
   "outputs": [],
   "source": [
    "dict1 = {\"key\":\"value\"}\n",
    "\n",
    "dict1.item() # (key,value)\n",
    "dict1.keys() # (key)\n",
    "dict1.values() # (value)"
   ]
  },
  {
   "cell_type": "code",
   "execution_count": null,
   "id": "12a9f92b",
   "metadata": {
    "id": "12a9f92b"
   },
   "outputs": [],
   "source": []
  },
  {
   "cell_type": "code",
   "execution_count": null,
   "id": "ceaa7993",
   "metadata": {
    "id": "ceaa7993"
   },
   "outputs": [],
   "source": []
  },
  {
   "cell_type": "code",
   "execution_count": null,
   "id": "4629a6eb",
   "metadata": {
    "id": "4629a6eb"
   },
   "outputs": [],
   "source": []
  },
  {
   "cell_type": "code",
   "execution_count": null,
   "id": "fb73df91",
   "metadata": {
    "id": "fb73df91"
   },
   "outputs": [],
   "source": []
  },
  {
   "cell_type": "code",
   "execution_count": null,
   "id": "85888aaa",
   "metadata": {
    "id": "85888aaa",
    "outputId": "d0b19c9f-247b-44fc-8279-c3dd1d5aba57"
   },
   "outputs": [
    {
     "name": "stdout",
     "output_type": "stream",
     "text": [
      "dict_keys(['emp_name', 'Company name', 'Salary', 'designation'])\n",
      "dict_values(['Prashant', 'Meta', 60000, 'data scientist'])\n",
      "dict_items([('emp_name', 'Prashant'), ('Company name', 'Meta'), ('Salary', 60000), ('designation', 'data scientist')])\n",
      "<class 'dict_items'>\n",
      "dict_items([('emp_name', 'Prashant'), ('Company name', 'Meta'), ('Salary', 60000), ('designation', 'data scientist')])\n"
     ]
    }
   ],
   "source": [
    "employee_data ={\"emp_name\":\"Prashant\",\n",
    "               \"Company name\": \"Meta\",\n",
    "               \"Salary\":60000,\n",
    "               \"designation\":\"data scientist\"}\n",
    "\n",
    "print(employee_data.keys()) ## (\"emp_name\",\"Company name\",\"Salary\",\"designation\")\n",
    "\n",
    "print(employee_data.values()) ## (\"Prashnat\",\"Meta\",60000,\"data scienstist\")\n",
    "\n",
    "print(employee_data.items()) ## ((\"emp_name\",\"prashant\"),(\"company name\",\"Meta\")....)\n",
    "\n",
    "var = employee_data.items()\n",
    "\n",
    "print(type(var))\n",
    "\n",
    "print(var)"
   ]
  },
  {
   "cell_type": "markdown",
   "id": "a38e15a4",
   "metadata": {
    "id": "a38e15a4"
   },
   "source": [
    "### Access values using for loop"
   ]
  },
  {
   "cell_type": "code",
   "execution_count": null,
   "id": "0b623cc0",
   "metadata": {
    "id": "0b623cc0",
    "outputId": "700fb921-434d-4588-8c29-438aac2ab174"
   },
   "outputs": [
    {
     "name": "stdout",
     "output_type": "stream",
     "text": [
      "key is == emp_name\n",
      "key is == Company name\n",
      "key is == Salary\n",
      "key is == designation\n"
     ]
    }
   ],
   "source": [
    "for var in employee_data.keys():\n",
    "    print(f\"key is == {var}\")"
   ]
  },
  {
   "cell_type": "code",
   "execution_count": null,
   "id": "8f1388f8",
   "metadata": {
    "id": "8f1388f8",
    "outputId": "a31059e1-0c5b-4d2d-fea5-9f9252a0a059"
   },
   "outputs": [
    {
     "name": "stdout",
     "output_type": "stream",
     "text": [
      "Value is == ('emp_name', 'Prashant')\n",
      "Value is == ('Company name', 'Meta')\n",
      "Value is == ('Salary', 60000)\n",
      "Value is == ('designation', 'data scientist')\n"
     ]
    }
   ],
   "source": [
    "for var in employee_data.items():\n",
    "    print(f\"Value is == {var}\")"
   ]
  },
  {
   "cell_type": "code",
   "execution_count": null,
   "id": "eddbbdc2",
   "metadata": {
    "id": "eddbbdc2",
    "outputId": "ad85b0c8-4c10-479d-cdfb-dfe1ec7598fc"
   },
   "outputs": [
    {
     "name": "stdout",
     "output_type": "stream",
     "text": [
      "Value is == Prashant\n",
      "Value is == Meta\n",
      "Value is == 60000\n",
      "Value is == data scientist\n"
     ]
    }
   ],
   "source": [
    "for var in employee_data.values():\n",
    "    print(f\"Value is == {var}\")"
   ]
  },
  {
   "cell_type": "code",
   "execution_count": null,
   "id": "8c7b2f12",
   "metadata": {
    "id": "8c7b2f12",
    "outputId": "2ee4937b-8b31-4a8e-c57a-bf883d095faf"
   },
   "outputs": [
    {
     "name": "stdout",
     "output_type": "stream",
     "text": [
      "Prashant\n",
      "Prashant\n"
     ]
    }
   ],
   "source": [
    "employee_data ={\"emp_name\":\"Prashant\",\n",
    "               \"Company name\": \"Meta\",\n",
    "               \"Salary\":60000,\n",
    "               \"designation\":\"data scientist\"}\n",
    "\n",
    "print(employee_data['emp_name'])\n",
    "print(employee_data.get('emp_name'))"
   ]
  },
  {
   "cell_type": "code",
   "execution_count": null,
   "id": "5785d73d",
   "metadata": {
    "id": "5785d73d",
    "outputId": "4bde59be-6782-46f6-dd51-eaefb0b2950e"
   },
   "outputs": [
    {
     "name": "stdout",
     "output_type": "stream",
     "text": [
      "Metafacebook\n",
      "<class 'str'>\n"
     ]
    }
   ],
   "source": [
    "employee_data ={\"emp_name\":\"Prashant\",\n",
    "               \"Company name\": \"Meta\",\n",
    "               \"Salary\":60000,\n",
    "               \"designation\":\"data scientist\"}\n",
    "\n",
    "var = employee_data['Company name']\n",
    "\n",
    "var1 = \"facebook\"\n",
    "\n",
    "print(var+var1)\n",
    "\n",
    "print(type(var))"
   ]
  },
  {
   "cell_type": "raw",
   "id": "7a678a9c",
   "metadata": {
    "id": "7a678a9c"
   },
   "source": []
  },
  {
   "cell_type": "code",
   "execution_count": null,
   "id": "6e192b61",
   "metadata": {
    "id": "6e192b61",
    "outputId": "9583c626-76e3-46b5-db37-d577c58bccb5"
   },
   "outputs": [
    {
     "name": "stdout",
     "output_type": "stream",
     "text": [
      "dict_values(['Prashant', 'Meta', 60000, 'data scientist'])\n",
      "<class 'dict_values'>\n"
     ]
    },
    {
     "ename": "TypeError",
     "evalue": "'dict_values' object is not subscriptable",
     "output_type": "error",
     "traceback": [
      "\u001b[1;31m---------------------------------------------------------------------------\u001b[0m",
      "\u001b[1;31mTypeError\u001b[0m                                 Traceback (most recent call last)",
      "\u001b[1;32m~\\AppData\\Local\\Temp/ipykernel_5816/697755871.py\u001b[0m in \u001b[0;36m<module>\u001b[1;34m\u001b[0m\n\u001b[0;32m     11\u001b[0m \u001b[1;33m\u001b[0m\u001b[0m\n\u001b[0;32m     12\u001b[0m \u001b[1;33m\u001b[0m\u001b[0m\n\u001b[1;32m---> 13\u001b[1;33m \u001b[0mvar\u001b[0m\u001b[1;33m[\u001b[0m\u001b[1;36m0\u001b[0m\u001b[1;33m]\u001b[0m\u001b[1;33m\u001b[0m\u001b[1;33m\u001b[0m\u001b[0m\n\u001b[0m",
      "\u001b[1;31mTypeError\u001b[0m: 'dict_values' object is not subscriptable"
     ]
    }
   ],
   "source": [
    "employee_data ={\"emp_name\":\"Prashant\",\n",
    "               \"Company name\": \"Meta\",\n",
    "               \"Salary\":60000,\n",
    "               \"designation\":\"data scientist\"}\n",
    "\n",
    "var = employee_data.values()\n",
    "\n",
    "print(var)\n",
    "\n",
    "print(type(var))\n",
    "\n",
    "\n",
    "var[0]\n"
   ]
  },
  {
   "cell_type": "code",
   "execution_count": null,
   "id": "cb918845",
   "metadata": {
    "id": "cb918845",
    "outputId": "391a1888-55d8-4e98-fd56-da900bdb2f08"
   },
   "outputs": [
    {
     "name": "stdout",
     "output_type": "stream",
     "text": [
      "Value is == Prashant\n"
     ]
    }
   ],
   "source": [
    "for var in employee_data.values():\n",
    "    if var == 'Prashant':\n",
    "        print(f\"Value is == {var}\")\n",
    "        "
   ]
  },
  {
   "cell_type": "code",
   "execution_count": null,
   "id": "d6c0337f",
   "metadata": {
    "id": "d6c0337f",
    "outputId": "fee2832f-d008-438e-b847-7c98a768cf29"
   },
   "outputs": [
    {
     "name": "stdout",
     "output_type": "stream",
     "text": [
      "30000\n"
     ]
    }
   ],
   "source": [
    "d1 = {\"sal1\":10000,\"sal2\":20000}\n",
    "total = 0\n",
    "for i in d1.values():\n",
    "    total = total + i\n",
    "print(total)\n"
   ]
  },
  {
   "cell_type": "code",
   "execution_count": null,
   "id": "ca3cc15f",
   "metadata": {
    "id": "ca3cc15f",
    "outputId": "1d191885-e254-43c2-ddfa-5c15bdd760a6"
   },
   "outputs": [
    {
     "name": "stdout",
     "output_type": "stream",
     "text": [
      "(0, 'sal1')\n",
      "<class 'tuple'>\n",
      "(1, 'sal2')\n",
      "<class 'tuple'>\n"
     ]
    }
   ],
   "source": [
    "for i in enumerate(d1):\n",
    "    print(i)\n",
    "    print(type(i))"
   ]
  },
  {
   "cell_type": "code",
   "execution_count": null,
   "id": "fd86808b",
   "metadata": {
    "id": "fd86808b",
    "outputId": "9baba3f6-025a-4f6c-8691-63594e42fb86"
   },
   "outputs": [
    {
     "data": {
      "text/plain": [
       "dict_keys(['sal1', 'sal2'])"
      ]
     },
     "execution_count": 49,
     "metadata": {},
     "output_type": "execute_result"
    }
   ],
   "source": [
    "d1.keys()"
   ]
  },
  {
   "cell_type": "code",
   "execution_count": null,
   "id": "9c605fc1",
   "metadata": {
    "id": "9c605fc1",
    "outputId": "9e19ec85-d65b-4b23-8864-9026671610e3"
   },
   "outputs": [
    {
     "name": "stdout",
     "output_type": "stream",
     "text": [
      "0\n",
      "<class 'int'>\n",
      "1\n",
      "<class 'int'>\n",
      "1\n",
      "<class 'int'>\n",
      "2\n",
      "<class 'int'>\n",
      "2\n",
      "<class 'int'>\n",
      "3\n",
      "<class 'int'>\n",
      "3\n",
      "<class 'int'>\n",
      "4\n",
      "<class 'int'>\n"
     ]
    }
   ],
   "source": [
    "l1 = [1,2,3,4]\n",
    "for index,data in enumerate(l1):\n",
    "    print(index)\n",
    "    print(type(index))\n",
    "    print(data)\n",
    "    print(type(data))\n"
   ]
  },
  {
   "cell_type": "code",
   "execution_count": null,
   "id": "8cf83c09",
   "metadata": {
    "id": "8cf83c09",
    "outputId": "50804cf3-2916-4a46-b9d8-060c25de2134"
   },
   "outputs": [
    {
     "name": "stdout",
     "output_type": "stream",
     "text": [
      "{'sal1': 10000, 'sal2': 20000}\n"
     ]
    }
   ],
   "source": [
    "print(d1)"
   ]
  },
  {
   "cell_type": "markdown",
   "id": "ba1df545",
   "metadata": {
    "id": "ba1df545"
   },
   "source": [
    "### ADD item in Dictionary "
   ]
  },
  {
   "cell_type": "code",
   "execution_count": null,
   "id": "43a76f43",
   "metadata": {
    "id": "43a76f43"
   },
   "outputs": [],
   "source": [
    "marks ={\"A\":60,\n",
    "        \"B\":70,\n",
    "        \"C\":80\n",
    "       }\n",
    "\n",
    "### D : 75"
   ]
  },
  {
   "cell_type": "code",
   "execution_count": null,
   "id": "51e95918",
   "metadata": {
    "id": "51e95918"
   },
   "outputs": [],
   "source": [
    "Synatax:\n",
    "    \n",
    "dict_var['key_value'] = Value"
   ]
  },
  {
   "cell_type": "code",
   "execution_count": null,
   "id": "e845cf5e",
   "metadata": {
    "id": "e845cf5e",
    "outputId": "19fcb8c3-48fa-4926-ac8b-1396d44731bb"
   },
   "outputs": [
    {
     "name": "stdout",
     "output_type": "stream",
     "text": [
      "{'A': 60, 'B': 70, 'C': 80}\n",
      "{'A': 60, 'B': 70, 'C': 80, 'D': 75}\n"
     ]
    }
   ],
   "source": [
    "marks ={\"A\":60,\n",
    "        \"B\":70,\n",
    "        \"C\":80\n",
    "       }\n",
    "\n",
    "print(marks)\n",
    "\n",
    "### D : 75\n",
    "\n",
    "marks['D'] = 75\n",
    "\n",
    "print(marks)"
   ]
  },
  {
   "cell_type": "code",
   "execution_count": null,
   "id": "08301626",
   "metadata": {
    "id": "08301626",
    "outputId": "5a4e50c9-fb0b-458d-dca0-30baa7765d40"
   },
   "outputs": [
    {
     "name": "stdout",
     "output_type": "stream",
     "text": [
      "{'emp_name': 'Prashant', 'Company name': 'Meta', 'Salary': 60000, 'designation': 'data scientist', 'place': 'Pune'}\n"
     ]
    }
   ],
   "source": [
    "employee_data ={\"emp_name\":\"Prashant\",\n",
    "               \"Company name\": \"Meta\",\n",
    "               \"Salary\":60000,\n",
    "               \"designation\":\"data scientist\"}\n",
    "\n",
    "### add place and prev_employer\n",
    "\n",
    "employee_data['place'] = \"Pune\"\n",
    "\n",
    "print(employee_data)"
   ]
  },
  {
   "cell_type": "code",
   "execution_count": null,
   "id": "bea7dcdc",
   "metadata": {
    "id": "bea7dcdc",
    "outputId": "681f2b7f-6810-4898-9e71-58512db62e3b"
   },
   "outputs": [
    {
     "name": "stdout",
     "output_type": "stream",
     "text": [
      "{'emp_name': 'Prashant', 'Company name': 'Meta', 'Salary': 60000, 'designation': 'data scientist', 'place': 'Pune', 'prev_employer': 'infosys'}\n"
     ]
    }
   ],
   "source": [
    "employee_data ={\"emp_name\":\"Prashant\",\n",
    "               \"Company name\": \"Meta\",\n",
    "               \"Salary\":60000,\n",
    "               \"designation\":\"data scientist\"}\n",
    "\n",
    "### add place and prev_employer\n",
    "\n",
    "employee_data['place'] = \"Pune\"\n",
    "employee_data['prev_employer'] = \"infosys\"\n",
    "\n",
    "print(employee_data)"
   ]
  },
  {
   "cell_type": "code",
   "execution_count": null,
   "id": "042aee8c",
   "metadata": {
    "id": "042aee8c",
    "outputId": "480eb122-bac2-4439-e8d9-18b6dc807d95"
   },
   "outputs": [
    {
     "name": "stdout",
     "output_type": "stream",
     "text": [
      "{'emp_name': 'Prashant', 'Company name': 'Meta', 'Salary': 80000, 'designation': 'data scientist', 'prev_employer': 'infosys'}\n"
     ]
    }
   ],
   "source": [
    "employee_data ={\"emp_name\":\"Prashant\",\n",
    "               \"Company name\": \"Meta\",\n",
    "               \"Salary\":60000,\n",
    "               \"designation\":\"data scientist\"}\n",
    "\n",
    "### add place and prev_employer\n",
    "\n",
    "employee_data['Salary'] = 80000\n",
    "employee_data['prev_employer'] = \"infosys\"\n",
    "\n",
    "print(employee_data) \n",
    "\n",
    "\n",
    "# {'emp_name': 'Prashant', 'Company name': 'Meta', 'Salary': 80000, \n",
    "# 'designation': 'data scientist', 'prev_employer': 'infosys'}"
   ]
  },
  {
   "cell_type": "code",
   "execution_count": null,
   "id": "cdefddb6",
   "metadata": {
    "id": "cdefddb6",
    "outputId": "eea09092-909e-4724-b3bf-8d792190130f"
   },
   "outputs": [
    {
     "name": "stdout",
     "output_type": "stream",
     "text": [
      "{'emp_name': 'Prashant', 'Company name': 'Meta', 'Salary': 80000, 'designation': 'data scientist', 'prev_employer': 'infosys'}\n",
      "{'emp_name': 'Prashant', 'Company name': 'Meta', 'Salary': 80000, 'designation': 'AI eng', 'prev_employer': 'infosys'}\n"
     ]
    }
   ],
   "source": [
    "emp = {'emp_name': 'Prashant', \n",
    "       'Company name': 'Meta', \n",
    "       'Salary': 80000, \n",
    "       'designation': 'data scientist', \n",
    "       'prev_employer': 'infosys'\n",
    "      }\n",
    "print(emp)\n",
    "emp['designation'] = \"AI eng\"\n",
    "\n",
    "print(emp)"
   ]
  },
  {
   "cell_type": "markdown",
   "id": "2c2a5865",
   "metadata": {
    "id": "2c2a5865"
   },
   "source": [
    "### update()"
   ]
  },
  {
   "cell_type": "code",
   "execution_count": null,
   "id": "5f658583",
   "metadata": {
    "id": "5f658583"
   },
   "outputs": [],
   "source": [
    "update method will update existing dictionary \n",
    "\n",
    "Syntax:\n",
    "\n",
    "dict1_var.update(dict2_var)"
   ]
  },
  {
   "cell_type": "code",
   "execution_count": null,
   "id": "d42bb23a",
   "metadata": {
    "id": "d42bb23a",
    "outputId": "c01434df-ae10-437d-af9f-54879550fe27"
   },
   "outputs": [
    {
     "name": "stdout",
     "output_type": "stream",
     "text": [
      "{'emp_name': 'Prashant', 'Company name': 'Meta', 'Salary': 80000, 'designation': 'data scientist', 'prev_employer': 'infosys'}\n",
      "{'company location': 'Mumbai', 'Age': 25, 'emp Id': 'M0010'}\n",
      "Update={'emp_name': 'Prashant', 'Company name': 'Meta', 'Salary': 80000, 'designation': 'data scientist', 'prev_employer': 'infosys', 'company location': 'Mumbai', 'Age': 25, 'emp Id': 'M0010'}\n",
      "{'company location': 'Mumbai', 'Age': 25, 'emp Id': 'M0010'}\n"
     ]
    }
   ],
   "source": [
    "emp = {'emp_name': 'Prashant', \n",
    "       'Company name': 'Meta', \n",
    "       'Salary': 80000, \n",
    "       'designation': 'data scientist', \n",
    "       'prev_employer': 'infosys'\n",
    "      }\n",
    "\n",
    "other ={ \"company location\": \"Mumbai\",\n",
    "        \"Age\" : 25,\n",
    "        \"emp Id\": \"M0010\"\n",
    "    }\n",
    "print(emp)\n",
    "print(other)\n",
    "\n",
    "emp.update(other)\n",
    "print(f\"Update={emp}\")\n",
    "print(other)\n"
   ]
  },
  {
   "cell_type": "code",
   "execution_count": null,
   "id": "1c3be610",
   "metadata": {
    "id": "1c3be610",
    "outputId": "45e7c211-cf4d-45a8-8a20-795136884639"
   },
   "outputs": [
    {
     "name": "stdout",
     "output_type": "stream",
     "text": [
      "5\n",
      "3\n",
      "Update=8\n",
      "3\n"
     ]
    }
   ],
   "source": [
    "emp = {'emp_name': 'Prashant', \n",
    "       'Company name': 'Meta', \n",
    "       'Salary': 80000, \n",
    "       'designation': 'data scientist', \n",
    "       'prev_employer': 'infosys'\n",
    "      }\n",
    "\n",
    "other ={ \"company location\": \"Mumbai\",\n",
    "        \"Age\" : 25,\n",
    "        \"emp Id\": \"M0010\"\n",
    "    }\n",
    "print(len(emp))\n",
    "print(len(other))\n",
    "\n",
    "emp.update(other)\n",
    "print(f\"Update={len(emp)}\")\n",
    "print(len(other))\n"
   ]
  },
  {
   "cell_type": "code",
   "execution_count": null,
   "id": "d7acb149",
   "metadata": {
    "id": "d7acb149",
    "outputId": "91f25dbe-f0a1-4811-cf69-d7b4d205fdb0"
   },
   "outputs": [
    {
     "name": "stdout",
     "output_type": "stream",
     "text": [
      "5\n",
      "4\n",
      "Update=8\n",
      "{'emp_name': 'Prashant', 'Company name': 'Meta', 'Salary': 80000, 'designation': 'ml eng', 'prev_employer': 'infosys', 'company location': 'Mumbai', 'Age': 25, 'emp Id': 'M0010'}\n",
      "4\n"
     ]
    }
   ],
   "source": [
    "emp = {'emp_name': 'Prashant', \n",
    "       'Company name': 'Meta', \n",
    "       'Salary': 80000, \n",
    "       'designation': 'data scientist', \n",
    "       'prev_employer': 'infosys'\n",
    "      }\n",
    "\n",
    "other ={ \"company location\": \"Mumbai\",\n",
    "        \"Age\" : 25,\n",
    "        \"emp Id\": \"M0010\",\n",
    "        'designation': 'ml eng'\n",
    "    }\n",
    "print(len(emp))\n",
    "print(len(other))\n",
    "\n",
    "emp.update(other)\n",
    "print(f\"Update={len(emp)}\")\n",
    "print(emp)\n",
    "print(len(other))\n"
   ]
  },
  {
   "cell_type": "code",
   "execution_count": null,
   "id": "ebb5eda0",
   "metadata": {
    "id": "ebb5eda0",
    "outputId": "be8b0bff-226b-42a2-e1dc-aa090d716bbb"
   },
   "outputs": [
    {
     "name": "stdout",
     "output_type": "stream",
     "text": [
      "5\n",
      "4\n",
      "Update=9\n",
      "{'emp_name': 'Prashant', 'Company name': 'Meta', 'Salary': 80000, 'designation': 'ml eng', 'prev_employer': 'infosys', 'company location': 'Mumbai', 'Age': 25, 'emp Id': 'M0010', 'test': 'test1'}\n",
      "4\n"
     ]
    }
   ],
   "source": [
    "emp = {'emp_name': 'Prashant', \n",
    "       'Company name': 'Meta', \n",
    "       'Salary': 80000, \n",
    "       'designation': 'data scientist', \n",
    "       'prev_employer': 'infosys'\n",
    "      }\n",
    "\n",
    "other ={ \"company location\": \"Mumbai\",\n",
    "        \"Age\" : 25,\n",
    "        \"emp Id\": \"M0010\",\n",
    "        'designation': 'ml eng'\n",
    "    }\n",
    "\n",
    "\n",
    "two = {\"test\":\"test1\"}\n",
    "\n",
    "\n",
    "print(len(emp))\n",
    "print(len(other))\n",
    "\n",
    "emp.update(other)\n",
    "emp.update(two)\n",
    "print(f\"Update={len(emp)}\")\n",
    "print(emp)\n",
    "print(len(other))\n"
   ]
  },
  {
   "cell_type": "code",
   "execution_count": null,
   "id": "84afc681",
   "metadata": {
    "id": "84afc681",
    "outputId": "41a0842e-3656-4104-81e5-5fa908081d31"
   },
   "outputs": [
    {
     "name": "stdout",
     "output_type": "stream",
     "text": [
      "5\n",
      "4\n"
     ]
    },
    {
     "ename": "TypeError",
     "evalue": "'NoneType' object is not iterable",
     "output_type": "error",
     "traceback": [
      "\u001b[1;31m---------------------------------------------------------------------------\u001b[0m",
      "\u001b[1;31mTypeError\u001b[0m                                 Traceback (most recent call last)",
      "\u001b[1;32m~\\AppData\\Local\\Temp/ipykernel_5816/2477241192.py\u001b[0m in \u001b[0;36m<module>\u001b[1;34m\u001b[0m\n\u001b[0;32m     19\u001b[0m \u001b[0mprint\u001b[0m\u001b[1;33m(\u001b[0m\u001b[0mlen\u001b[0m\u001b[1;33m(\u001b[0m\u001b[0mother\u001b[0m\u001b[1;33m)\u001b[0m\u001b[1;33m)\u001b[0m\u001b[1;33m\u001b[0m\u001b[1;33m\u001b[0m\u001b[0m\n\u001b[0;32m     20\u001b[0m \u001b[1;33m\u001b[0m\u001b[0m\n\u001b[1;32m---> 21\u001b[1;33m \u001b[0memp\u001b[0m\u001b[1;33m.\u001b[0m\u001b[0mupdate\u001b[0m\u001b[1;33m(\u001b[0m\u001b[0mother\u001b[0m\u001b[1;33m.\u001b[0m\u001b[0mupdate\u001b[0m\u001b[1;33m(\u001b[0m\u001b[0mtwo\u001b[0m\u001b[1;33m)\u001b[0m\u001b[1;33m)\u001b[0m\u001b[1;33m\u001b[0m\u001b[1;33m\u001b[0m\u001b[0m\n\u001b[0m\u001b[0;32m     22\u001b[0m \u001b[1;31m# emp.update(two)\u001b[0m\u001b[1;33m\u001b[0m\u001b[1;33m\u001b[0m\u001b[0m\n\u001b[0;32m     23\u001b[0m \u001b[0mprint\u001b[0m\u001b[1;33m(\u001b[0m\u001b[1;34mf\"Update={len(emp)}\"\u001b[0m\u001b[1;33m)\u001b[0m\u001b[1;33m\u001b[0m\u001b[1;33m\u001b[0m\u001b[0m\n",
      "\u001b[1;31mTypeError\u001b[0m: 'NoneType' object is not iterable"
     ]
    }
   ],
   "source": [
    "emp = {'emp_name': 'Prashant', \n",
    "       'Company name': 'Meta', \n",
    "       'Salary': 80000, \n",
    "       'designation': 'data scientist', \n",
    "       'prev_employer': 'infosys'\n",
    "      }\n",
    "\n",
    "other ={ \"company location\": \"Mumbai\",\n",
    "        \"Age\" : 25,\n",
    "        \"emp Id\": \"M0010\",\n",
    "        'designation': 'ml eng'\n",
    "    }\n",
    "\n",
    "\n",
    "two = {\"test\":\"test1\"}\n",
    "\n",
    "\n",
    "print(len(emp))\n",
    "print(len(other))\n",
    "\n",
    "emp.update(other.update(two))\n",
    "# emp.update(two)\n",
    "print(f\"Update={len(emp)}\")\n",
    "print(emp)\n",
    "print(len(other))\n"
   ]
  },
  {
   "cell_type": "markdown",
   "id": "9c618447",
   "metadata": {
    "id": "9c618447"
   },
   "source": [
    "### Delete Item from dictionary "
   ]
  },
  {
   "cell_type": "code",
   "execution_count": null,
   "id": "8833bded",
   "metadata": {
    "id": "8833bded"
   },
   "outputs": [],
   "source": [
    "1. pop\n",
    "2. popitem\n",
    "3. clear\n",
    "\n",
    "keyword \n",
    "4. del "
   ]
  },
  {
   "cell_type": "code",
   "execution_count": null,
   "id": "2ed88a2a",
   "metadata": {
    "id": "2ed88a2a"
   },
   "outputs": [],
   "source": [
    "## pop \n",
    "\n",
    "Synatax:\n",
    "dict_var.pop(key)"
   ]
  },
  {
   "cell_type": "code",
   "execution_count": null,
   "id": "ded15fa3",
   "metadata": {
    "id": "ded15fa3",
    "outputId": "f8876a9c-4c58-48b0-f986-a77017e087d8"
   },
   "outputs": [
    {
     "name": "stdout",
     "output_type": "stream",
     "text": [
      "{'emp_name': 'Prashant', 'Company name': 'Meta', 'Salary': 80000, 'designation': 'data scientist'}\n"
     ]
    }
   ],
   "source": [
    "emp = {'emp_name': 'Prashant', \n",
    "       'Company name': 'Meta', \n",
    "       'Salary': 80000, \n",
    "       'designation': 'data scientist', \n",
    "       'prev_employer': 'infosys'\n",
    "      }\n",
    "emp.pop('prev_employer')\n",
    "\n",
    "\n",
    "\n",
    "print(emp)"
   ]
  },
  {
   "cell_type": "code",
   "execution_count": null,
   "id": "cf2c2a9f",
   "metadata": {
    "id": "cf2c2a9f",
    "outputId": "4cc9d015-e252-4f0d-fa81-3a7d2cf64582"
   },
   "outputs": [
    {
     "name": "stdout",
     "output_type": "stream",
     "text": [
      "{'emp_name': 'Prashant', 'Company name': 'Meta', 'Salary': 80000, 'designation': 'data scientist', 'PREV EMP': 'TCS'}\n"
     ]
    }
   ],
   "source": [
    "emp = {'emp_name': 'Prashant', \n",
    "       'Company name': 'Meta', \n",
    "       'Salary': 80000, \n",
    "       'designation': 'data scientist', \n",
    "       'prev_employer': 'infosys'\n",
    "      }\n",
    "emp.pop('prev_employer')\n",
    "\n",
    "emp['PREV EMP'] = \"TCS\"\n",
    "\n",
    "print(emp)"
   ]
  },
  {
   "cell_type": "code",
   "execution_count": null,
   "id": "44522b1c",
   "metadata": {
    "id": "44522b1c"
   },
   "outputs": [],
   "source": []
  }
 ],
 "metadata": {
  "colab": {
   "name": "dictionary.ipynb",
   "provenance": []
  },
  "kernelspec": {
   "display_name": "Python 3 (ipykernel)",
   "language": "python",
   "name": "python3"
  },
  "language_info": {
   "codemirror_mode": {
    "name": "ipython",
    "version": 3
   },
   "file_extension": ".py",
   "mimetype": "text/x-python",
   "name": "python",
   "nbconvert_exporter": "python",
   "pygments_lexer": "ipython3",
   "version": "3.9.7"
  }
 },
 "nbformat": 4,
 "nbformat_minor": 5
}
