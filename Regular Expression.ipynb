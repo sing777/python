{
 "cells": [
  {
   "cell_type": "code",
   "execution_count": null,
   "id": "ec4c84b4-2903-4d4d-9cb2-cdeab4af2568",
   "metadata": {},
   "outputs": [],
   "source": [
    "Regular Expression >> sequence of char / pattern \n",
    "\n"
   ]
  },
  {
   "cell_type": "code",
   "execution_count": null,
   "id": "2c3b7282-22c6-439a-b51e-0ce15ac174fa",
   "metadata": {},
   "outputs": [],
   "source": [
    "findall >> Return a list of matches in string "
   ]
  },
  {
   "cell_type": "code",
   "execution_count": null,
   "id": "15625f22-1cd7-4393-91c6-e29ef76eadd1",
   "metadata": {},
   "outputs": [],
   "source": [
    "Metachar\n",
    "[] >> set char \n",
    "{} >> number of occurance \n",
    "*\n",
    ".\n",
    "+"
   ]
  },
  {
   "cell_type": "code",
   "execution_count": null,
   "id": "58f69b0d-0994-47db-a77e-e74ae595dc07",
   "metadata": {},
   "outputs": [],
   "source": [
    "Special sequence \n",
    "1. \\d >> [0-9]\n",
    "2. \\D >> [^0-9] >> string which does not contain digits >> except digit everything\n",
    "3. \\s >> return white spaces , tabs and new lines \n",
    "4. \\S >> except \\s\n",
    "5. \\w >> [a-zA-Z0-9_]\n",
    "6. \\W >> [^a-zA-Z0-9_]\n",
    "7. \\b >> start and end of string \n"
   ]
  },
  {
   "cell_type": "code",
   "execution_count": 2,
   "id": "539facba-232e-4a4e-99e7-85c6f9d2050f",
   "metadata": {},
   "outputs": [
    {
     "ename": "SyntaxError",
     "evalue": "invalid syntax (Temp/ipykernel_13120/3408339451.py, line 2)",
     "output_type": "error",
     "traceback": [
      "\u001b[1;36m  File \u001b[1;32m\"C:\\Users\\CHETAK\\AppData\\Local\\Temp/ipykernel_13120/3408339451.py\"\u001b[1;36m, line \u001b[1;32m2\u001b[0m\n\u001b[1;33m    syntax:\u001b[0m\n\u001b[1;37m            ^\u001b[0m\n\u001b[1;31mSyntaxError\u001b[0m\u001b[1;31m:\u001b[0m invalid syntax\n"
     ]
    }
   ],
   "source": [
    "import re\n",
    "syntax: \n",
    "\n",
    "    \n",
    "re.findall(pattern,txt) \n",
    "\n",
    "pattern >> metachar + special sequence\n",
    "\n",
    "pattern should be in raw string >> r''\n"
   ]
  },
  {
   "cell_type": "code",
   "execution_count": null,
   "id": "51432154-4b77-4162-88c5-7b31559f1200",
   "metadata": {},
   "outputs": [],
   "source": [
    "function of RegEx\n",
    "1.findall >> list\n",
    "2.search  >> object\n",
    "3.match  >> object\n",
    "4. sub   >> str\n",
    "5. compile\n",
    "6. split"
   ]
  },
  {
   "cell_type": "markdown",
   "id": "592f1e26-02ab-47af-a0bf-50e1abacb789",
   "metadata": {},
   "source": [
    "# 2. Search function"
   ]
  },
  {
   "cell_type": "code",
   "execution_count": null,
   "id": "86c58f0a-07e1-44a6-9e7e-3a15e1f46161",
   "metadata": {},
   "outputs": [],
   "source": [
    "It is going to search for match and return object only first occurance. "
   ]
  },
  {
   "cell_type": "code",
   "execution_count": null,
   "id": "a0d8e939-46b2-4846-994f-4c262246dae3",
   "metadata": {},
   "outputs": [],
   "source": [
    "syntax:\n",
    "    \n",
    "re.search(pattern,txt)\n"
   ]
  },
  {
   "cell_type": "code",
   "execution_count": 2,
   "id": "0b041967-12cf-4383-8922-c5aabb4b3190",
   "metadata": {},
   "outputs": [
    {
     "data": {
      "text/plain": [
       "['QWERT6784P']"
      ]
     },
     "execution_count": 2,
     "metadata": {},
     "output_type": "execute_result"
    }
   ],
   "source": [
    "import re\n",
    "text =\"\"\"Pan Card: QWERT6784P \n",
    "        VGYT8342p\"\"\"\n",
    "\n",
    "pan_num = re.findall(r'[A-Z]{5}\\d{4}[A-Z]',text)\n",
    "pan_num"
   ]
  },
  {
   "cell_type": "code",
   "execution_count": 4,
   "id": "1de892f0-ce34-4f0c-ad1c-5a4fcadba3d9",
   "metadata": {},
   "outputs": [
    {
     "data": {
      "text/plain": [
       "['QWERT6784P', 'VGYRT8342P']"
      ]
     },
     "execution_count": 4,
     "metadata": {},
     "output_type": "execute_result"
    }
   ],
   "source": [
    "import re\n",
    "text =\"\"\"Pan Card: QWERT6784P \n",
    "        VGYRT8342P\"\"\"\n",
    "\n",
    "pan_num = re.findall(r'[A-Z]{5}\\d{4}[A-Z]',text)\n",
    "pan_num"
   ]
  },
  {
   "cell_type": "code",
   "execution_count": 6,
   "id": "e0e14d2c-7ccf-43ac-aa57-8bc0c4f6211b",
   "metadata": {},
   "outputs": [
    {
     "name": "stdout",
     "output_type": "stream",
     "text": [
      "<re.Match object; span=(10, 20), match='QWERT6784P'>\n"
     ]
    }
   ],
   "source": [
    "import re\n",
    "text =\"\"\"Pan Card: QWERT6784P \n",
    "        VGYRT8342P\"\"\"\n",
    "\n",
    "pan_num = re.search(r'[A-Z]{5}\\d{4}[A-Z]',text) ### first match >> object \n",
    "print(pan_num)"
   ]
  },
  {
   "cell_type": "code",
   "execution_count": 8,
   "id": "80eae33c-e776-4875-9aad-475e0ab8dbe5",
   "metadata": {},
   "outputs": [
    {
     "name": "stdout",
     "output_type": "stream",
     "text": [
      "<re.Match object; span=(10, 20), match='QWERT6784P'>\n",
      "QWERT6784P\n"
     ]
    }
   ],
   "source": [
    "import re\n",
    "text =\"\"\"Pan Card: QWERT6784P \n",
    "        VGYRT8342P\n",
    "        GHRTE3452T\"\"\"\n",
    "\n",
    "pan_num = re.search(r'[A-Z]{5}\\d{4}[A-Z]',text) ### first match >> object >> first occurance  \n",
    "print(pan_num)\n",
    "print(pan_num.group())"
   ]
  },
  {
   "cell_type": "code",
   "execution_count": 9,
   "id": "af05f79e-8b98-4a5d-a426-7b9a9527381b",
   "metadata": {},
   "outputs": [
    {
     "name": "stdout",
     "output_type": "stream",
     "text": [
      "<re.Match object; span=(10, 20), match='QWERT6784P'>\n",
      "QWERT6784P\n",
      "10\n"
     ]
    }
   ],
   "source": [
    "import re\n",
    "text =\"\"\"Pan Card: QWERT6784P \n",
    "        VGYRT8342P\n",
    "        GHRTE3452T\"\"\"\n",
    "\n",
    "pan_num = re.search(r'[A-Z]{5}\\d{4}[A-Z]',text) ### first match >> object >> first occurance  \n",
    "print(pan_num)\n",
    "print(pan_num.group())\n",
    "print(pan_num.start())"
   ]
  },
  {
   "cell_type": "code",
   "execution_count": 10,
   "id": "cae30c9a-0a40-452f-90cc-7bc850d5a474",
   "metadata": {},
   "outputs": [
    {
     "name": "stdout",
     "output_type": "stream",
     "text": [
      "<re.Match object; span=(10, 20), match='QWERT6784P'>\n",
      "QWERT6784P\n",
      "10\n",
      "20\n"
     ]
    }
   ],
   "source": [
    "import re\n",
    "text =\"\"\"Pan Card: QWERT6784P \n",
    "        VGYRT8342P\n",
    "        GHRTE3452T\"\"\"\n",
    "\n",
    "pan_num = re.search(r'[A-Z]{5}\\d{4}[A-Z]',text) ### first match >> object >> first occurance  \n",
    "print(pan_num)\n",
    "print(pan_num.group())\n",
    "print(pan_num.start())\n",
    "print(pan_num.end())"
   ]
  },
  {
   "cell_type": "code",
   "execution_count": 13,
   "id": "377549af-69b7-44ea-ac97-bc3f2a927ed2",
   "metadata": {},
   "outputs": [
    {
     "data": {
      "text/plain": [
       "'QWERT6784P'"
      ]
     },
     "execution_count": 13,
     "metadata": {},
     "output_type": "execute_result"
    }
   ],
   "source": [
    "var = text[10:20]\n",
    "\n",
    "var"
   ]
  },
  {
   "cell_type": "code",
   "execution_count": 14,
   "id": "e2fc8a8c-1749-486d-a95f-cf5327737c74",
   "metadata": {},
   "outputs": [
    {
     "name": "stdout",
     "output_type": "stream",
     "text": [
      "PAN NUMBER FOUND\n",
      "QWERT6784P\n"
     ]
    }
   ],
   "source": [
    "import re\n",
    "text =\"\"\"Pan Card: QWERT6784P \n",
    "        VGYRT8342P\n",
    "        GHRTE3452T\"\"\"\n",
    "\n",
    "pan_num = re.search(r'[A-Z]{5}\\d{4}[A-Z]',text) ### first match >> object >> first occurance  \n",
    "\n",
    "if pan_num:\n",
    "    print(\"PAN NUMBER FOUND\")\n",
    "    print(pan_num.group())"
   ]
  },
  {
   "cell_type": "code",
   "execution_count": 15,
   "id": "d5187f8f-7bf8-4072-b87a-22ac70496229",
   "metadata": {},
   "outputs": [],
   "source": [
    "import re\n",
    "text =\"\"\"Pan Card: WERT6784P \n",
    "        VGYRT8342\n",
    "        GHRTE342T\"\"\"\n",
    "\n",
    "pan_num = re.search(r'[A-Z]{5}\\d{4}[A-Z]',text) ### first match >> object >> first occurance  \n",
    "\n",
    "if pan_num:\n",
    "    print(\"PAN NUMBER FOUND\")\n",
    "    print(pan_num.group())"
   ]
  },
  {
   "cell_type": "code",
   "execution_count": 16,
   "id": "c812640c-15d8-4218-8427-53b0386e2a74",
   "metadata": {},
   "outputs": [
    {
     "ename": "AttributeError",
     "evalue": "'NoneType' object has no attribute 'group'",
     "output_type": "error",
     "traceback": [
      "\u001b[1;31m---------------------------------------------------------------------------\u001b[0m",
      "\u001b[1;31mAttributeError\u001b[0m                            Traceback (most recent call last)",
      "\u001b[1;32m~\\AppData\\Local\\Temp/ipykernel_18672/2208026453.py\u001b[0m in \u001b[0;36m<module>\u001b[1;34m\u001b[0m\n\u001b[0;32m      7\u001b[0m \u001b[1;33m\u001b[0m\u001b[0m\n\u001b[0;32m      8\u001b[0m \u001b[1;31m# print(\"PAN NUMBER FOUND\")\u001b[0m\u001b[1;33m\u001b[0m\u001b[1;33m\u001b[0m\u001b[0m\n\u001b[1;32m----> 9\u001b[1;33m \u001b[0mprint\u001b[0m\u001b[1;33m(\u001b[0m\u001b[0mpan_num\u001b[0m\u001b[1;33m.\u001b[0m\u001b[0mgroup\u001b[0m\u001b[1;33m(\u001b[0m\u001b[1;33m)\u001b[0m\u001b[1;33m)\u001b[0m\u001b[1;33m\u001b[0m\u001b[1;33m\u001b[0m\u001b[0m\n\u001b[0m",
      "\u001b[1;31mAttributeError\u001b[0m: 'NoneType' object has no attribute 'group'"
     ]
    }
   ],
   "source": [
    "import re\n",
    "text =\"\"\"Pan Card: WERT6784P \n",
    "        VGYRT8342\n",
    "        GHRTE342T\"\"\"\n",
    "\n",
    "pan_num = re.search(r'[A-Z]{5}\\d{4}[A-Z]',text) ### first match >> object >> first occurance  \n",
    "\n",
    "# print(\"PAN NUMBER FOUND\")\n",
    "print(pan_num.group())"
   ]
  },
  {
   "cell_type": "markdown",
   "id": "c7cc154c-53f8-492e-a3b4-caccf9939e0c",
   "metadata": {},
   "source": [
    "# 3. match "
   ]
  },
  {
   "cell_type": "code",
   "execution_count": null,
   "id": "6e22efe5-f47b-4aeb-98c0-1bd19aa0255d",
   "metadata": {},
   "outputs": [],
   "source": [
    "It searches a match at the begining of string and return object.\n",
    "\n",
    "Syntax:\n",
    "    \n",
    "re.match(pattern,text)"
   ]
  },
  {
   "cell_type": "code",
   "execution_count": 17,
   "id": "aafa6a69-5e56-4538-9900-bbc07c9cf221",
   "metadata": {},
   "outputs": [
    {
     "ename": "AttributeError",
     "evalue": "'NoneType' object has no attribute 'group'",
     "output_type": "error",
     "traceback": [
      "\u001b[1;31m---------------------------------------------------------------------------\u001b[0m",
      "\u001b[1;31mAttributeError\u001b[0m                            Traceback (most recent call last)",
      "\u001b[1;32m~\\AppData\\Local\\Temp/ipykernel_18672/2760342676.py\u001b[0m in \u001b[0;36m<module>\u001b[1;34m\u001b[0m\n\u001b[0;32m      7\u001b[0m \u001b[1;33m\u001b[0m\u001b[0m\n\u001b[0;32m      8\u001b[0m \u001b[1;31m# print(\"PAN NUMBER FOUND\")\u001b[0m\u001b[1;33m\u001b[0m\u001b[1;33m\u001b[0m\u001b[0m\n\u001b[1;32m----> 9\u001b[1;33m \u001b[0mprint\u001b[0m\u001b[1;33m(\u001b[0m\u001b[0mpan_num\u001b[0m\u001b[1;33m.\u001b[0m\u001b[0mgroup\u001b[0m\u001b[1;33m(\u001b[0m\u001b[1;33m)\u001b[0m\u001b[1;33m)\u001b[0m\u001b[1;33m\u001b[0m\u001b[1;33m\u001b[0m\u001b[0m\n\u001b[0m",
      "\u001b[1;31mAttributeError\u001b[0m: 'NoneType' object has no attribute 'group'"
     ]
    }
   ],
   "source": [
    "import re\n",
    "text =\"\"\"Pan Card: WERT6784P \n",
    "        VGYRT8342\n",
    "        GHRTE342T\"\"\"\n",
    "\n",
    "pan_num = re.match(r'[A-Z]{5}\\d{4}[A-Z]',text) ### begining of string >> object  \n",
    "\n",
    "# print(\"PAN NUMBER FOUND\")\n",
    "print(pan_num.group())"
   ]
  },
  {
   "cell_type": "code",
   "execution_count": 18,
   "id": "14c1d63f-6b4c-4c5f-815a-5d32d2369ba3",
   "metadata": {},
   "outputs": [],
   "source": [
    "import re\n",
    "text =\"\"\"Pan Card: WERT6784P \n",
    "        VGYRT8342\n",
    "        GHRTE342T\"\"\"\n",
    "\n",
    "pan_num = re.match(r'[A-Z]{5}\\d{4}[A-Z]',text) ### begining of string >> object  \n",
    "if pan_num:\n",
    "    print(\"PAN NUMBER FOUND\")\n",
    "    print(pan_num.group())"
   ]
  },
  {
   "cell_type": "code",
   "execution_count": 20,
   "id": "72df50d2-e542-45b9-a20f-96367116448e",
   "metadata": {},
   "outputs": [
    {
     "name": "stdout",
     "output_type": "stream",
     "text": [
      "PAN NUMBER FOUND\n",
      "WERRT6784P\n"
     ]
    }
   ],
   "source": [
    "import re\n",
    "text =\"\"\"WERRT6784P \n",
    "        VGYRT8342\n",
    "        GHRTE342T\"\"\"\n",
    "\n",
    "pan_num = re.match(r'[A-Z]{5}\\d{4}[A-Z]',text) ### begining of string >> object  \n",
    "if pan_num:\n",
    "    print(\"PAN NUMBER FOUND\")\n",
    "    print(pan_num.group())"
   ]
  },
  {
   "cell_type": "markdown",
   "id": "b33688a1-ef65-4c0c-afe4-0e5c5a0885c1",
   "metadata": {},
   "source": [
    "# 4. sub"
   ]
  },
  {
   "cell_type": "code",
   "execution_count": null,
   "id": "9f6a4e58-56fc-4be5-beba-04fab6f597ca",
   "metadata": {},
   "outputs": [],
   "source": [
    "new_text = re.sub(pattern,new_string,text)\n",
    "\n",
    "data type of new_text will be in string"
   ]
  },
  {
   "cell_type": "code",
   "execution_count": 36,
   "id": "ce9d8be1-a786-4bc6-831a-2417b3569584",
   "metadata": {},
   "outputs": [
    {
     "name": "stdout",
     "output_type": "stream",
     "text": [
      "Data science is an interdisciplinary field that uses scientific methods,  Python processes, algorithms\n"
     ]
    }
   ],
   "source": [
    "string = \"Data science is an interdisciplinary field that uses scientific methods,  Data Science processes, algorithms\"\n",
    "\n",
    "new_string = string.replace('Data Science','Python')\n",
    "print(new_string)"
   ]
  },
  {
   "cell_type": "code",
   "execution_count": 22,
   "id": "3d1eb6ee-f202-4eab-b148-7c92d9463e56",
   "metadata": {},
   "outputs": [
    {
     "name": "stdout",
     "output_type": "stream",
     "text": [
      "Data science is an  interdisciplinary field    that uses scientific methods,   processes, algorithms\n"
     ]
    }
   ],
   "source": [
    "string = \"Data science is an    interdisciplinary field       that uses scientific methods,     processes, algorithms\"\n",
    "\n",
    "new_string = string.replace('  ',' ')\n",
    "print(new_string)"
   ]
  },
  {
   "cell_type": "code",
   "execution_count": 23,
   "id": "c8374f15-eecf-4459-990e-d105808d755b",
   "metadata": {},
   "outputs": [
    {
     "name": "stdout",
     "output_type": "stream",
     "text": [
      "Data science is an interdisciplinary field  that uses scientific methods,  processes, algorithms\n"
     ]
    }
   ],
   "source": [
    "string = \"Data science is an    interdisciplinary field       that uses scientific methods,     processes, algorithms\"\n",
    "\n",
    "new_string = string.replace('  ',' ')\n",
    "new_string = new_string.replace('  ',' ')\n",
    "print(new_string)"
   ]
  },
  {
   "cell_type": "code",
   "execution_count": 24,
   "id": "3117d259-4328-4ec6-88b4-e6c83729a0cd",
   "metadata": {},
   "outputs": [
    {
     "name": "stdout",
     "output_type": "stream",
     "text": [
      "Data science is an interdisciplinary field  that uses scientific methods,  processes, algorithms\n"
     ]
    }
   ],
   "source": [
    "string = \"Data science is an    interdisciplinary field 13487  that uses scientific methods,     processes, algorithms\"\n",
    "\n",
    "new_string = string.replace('  ',' ')\n",
    "new_string = new_string.replace('  ',' ')\n",
    "new_string = new_string.replace('13487','')\n",
    "print(new_string)"
   ]
  },
  {
   "cell_type": "code",
   "execution_count": 25,
   "id": "1f15e3bb-b292-430f-bd8c-7cb5f8f69f80",
   "metadata": {},
   "outputs": [
    {
     "data": {
      "text/plain": [
       "'Data science is an    interdisciplinary field   that uses scientific methods,     processes, algorithms'"
      ]
     },
     "execution_count": 25,
     "metadata": {},
     "output_type": "execute_result"
    }
   ],
   "source": [
    "string = \"Data science is an    interdisciplinary field 13487  that uses scientific methods,     processes, algorithms\"\n",
    "new_string = re.sub(r'\\d','',string)\n",
    "new_string"
   ]
  },
  {
   "cell_type": "code",
   "execution_count": 26,
   "id": "814b003b-1aaf-4888-bc28-e94c72f04117",
   "metadata": {},
   "outputs": [
    {
     "data": {
      "text/plain": [
       "'Data science is an    interdisciplinary field   that uses scientific  methods,      processes, algorithms'"
      ]
     },
     "execution_count": 26,
     "metadata": {},
     "output_type": "execute_result"
    }
   ],
   "source": [
    "string = \"Data science is an    interdisciplinary field 13487  that uses scientific 7626536 methods,   98876 1542451  processes, algorithms\"\n",
    "new_string = re.sub(r'\\d','',string)\n",
    "new_string"
   ]
  },
  {
   "cell_type": "code",
   "execution_count": 27,
   "id": "2b916cbb-0744-4edc-8646-feea0dfee6bb",
   "metadata": {},
   "outputs": [
    {
     "data": {
      "text/plain": [
       "'Data science is an    interdisciplinary field +++++  that uses scientific +++++++ methods,   +++++ +++++++  processes, algorithms'"
      ]
     },
     "execution_count": 27,
     "metadata": {},
     "output_type": "execute_result"
    }
   ],
   "source": [
    "string = \"Data science is an    interdisciplinary field 13487  that uses scientific 7626536 methods,   98876 1542451  processes, algorithms\"\n",
    "new_string = re.sub(r'\\d','+',string)\n",
    "new_string"
   ]
  },
  {
   "cell_type": "code",
   "execution_count": 41,
   "id": "fe00abcf-b284-43eb-962f-1292dfb2e354",
   "metadata": {},
   "outputs": [
    {
     "data": {
      "text/plain": [
       "'Data science is an    interdisciplinary field 13487  that uses scientific 7626536 methods,   98876 1542451  processes, algorithms'"
      ]
     },
     "execution_count": 41,
     "metadata": {},
     "output_type": "execute_result"
    }
   ],
   "source": [
    "string = \"Data science is an    interdisciplinary field 13487  that uses scientific 7626536 methods,   98876 1542451  processes, algorithms\"\n",
    "new_string = re.sub(r'\\s',' ',string)\n",
    "new_string"
   ]
  },
  {
   "cell_type": "code",
   "execution_count": 31,
   "id": "6df5ad5b-9f0c-445a-bcf5-f7d43fa8a39d",
   "metadata": {},
   "outputs": [
    {
     "data": {
      "text/plain": [
       "'Datascienceisaninterdisciplinaryfield13487thatusesscientific7626536methods988761542451processesalgorithms'"
      ]
     },
     "execution_count": 31,
     "metadata": {},
     "output_type": "execute_result"
    }
   ],
   "source": [
    "string = \"Data science is an   $#@*& interdisciplinary field 13487  that uses scientific 7626536 methods,   98876 1542451  processes, algorithms\"\n",
    "new_string = re.sub(r'\\W','',string)\n",
    "new_string"
   ]
  },
  {
   "cell_type": "code",
   "execution_count": 32,
   "id": "f8d9b9a5-8d72-43d6-b2aa-98cd54b058c0",
   "metadata": {},
   "outputs": [
    {
     "data": {
      "text/plain": [
       "'      $#@*&   13487     7626536 ,   98876 1542451  , '"
      ]
     },
     "execution_count": 32,
     "metadata": {},
     "output_type": "execute_result"
    }
   ],
   "source": [
    "string = \"Data science is an   $#@*& interdisciplinary field 13487  that uses scientific 7626536 methods,   98876 1542451  processes, algorithms\"\n",
    "new_string = re.sub(r'[A-Za-z]{2,15}','',string)\n",
    "new_string"
   ]
  },
  {
   "cell_type": "code",
   "execution_count": 33,
   "id": "f370f484-7a63-4518-aa80-d0223e191064",
   "metadata": {},
   "outputs": [
    {
     "data": {
      "text/plain": [
       "'Data science is aninterdisciplinary fieldthat uses scientificmethodsprocessesalgorithms'"
      ]
     },
     "execution_count": 33,
     "metadata": {},
     "output_type": "execute_result"
    }
   ],
   "source": [
    "string = \"Data science is an   $#@*& interdisciplinary field 13487  that uses scientific 7626536 methods,   98876 1542451  processes, algorithms\"\n",
    "new_string = re.sub(r'[^A-Za-z]{2,15}','',string)\n",
    "new_string"
   ]
  },
  {
   "cell_type": "code",
   "execution_count": null,
   "id": "06b401a8-63f8-42ac-bb47-0041ac2f3496",
   "metadata": {},
   "outputs": [],
   "source": [
    "VIP >> diff between replace and sub method \n",
    "\n",
    "1. replace is string method & sub is regular expression function\n",
    "2. replace method going to replace one item / first insatnce at a time other hand sub function is going to replace \n",
    "all matched pattern \n",
    "3. synatx difference.\n",
    "4. e.g"
   ]
  },
  {
   "cell_type": "code",
   "execution_count": null,
   "id": "6ef9e037-be04-46bf-98f2-99ecf3df49e2",
   "metadata": {},
   "outputs": [],
   "source": [
    "Metachar >> char with special meaning \n",
    "[] >> set char \n",
    "{} >> number of occurance \n",
    "\n"
   ]
  },
  {
   "cell_type": "markdown",
   "id": "8201e888-7a13-4ace-ae26-1d1f88c17d33",
   "metadata": {},
   "source": [
    "# char with special meaning "
   ]
  },
  {
   "cell_type": "markdown",
   "id": "cdd9dffd-5e2e-473c-9c0e-5d20524164b1",
   "metadata": {},
   "source": [
    " ## 1. + "
   ]
  },
  {
   "cell_type": "code",
   "execution_count": null,
   "id": "e4cd4362-4a87-43ba-9c4a-f62ca6b9c1d3",
   "metadata": {},
   "outputs": [],
   "source": [
    ">> one or more occurance"
   ]
  },
  {
   "cell_type": "code",
   "execution_count": 37,
   "id": "9f414532-928f-46f4-9cff-a6ae498172e5",
   "metadata": {},
   "outputs": [
    {
     "data": {
      "text/plain": [
       "'Data science is an $#@*& interdisciplinary field 13487 that uses scientific 7626536 methods, 98876 1542451 processes, algorithms'"
      ]
     },
     "execution_count": 37,
     "metadata": {},
     "output_type": "execute_result"
    }
   ],
   "source": [
    "string = \"Data science is an   $#@*& interdisciplinary field 13487  that uses scientific 7626536 methods,   98876 1542451  processes, algorithms\"\n",
    "new_string = re.sub(r'\\s+',' ',string) ## one or more occurnace \n",
    "new_string"
   ]
  },
  {
   "cell_type": "code",
   "execution_count": 38,
   "id": "4bae9192-fa4b-4814-a0cb-7a66f2169a30",
   "metadata": {},
   "outputs": [
    {
     "data": {
      "text/plain": [
       "'Data science is an $#@*& interdisciplinary field 13487 that uses scientific 7626536 methods, 98876 1542451 processes, algorithms'"
      ]
     },
     "execution_count": 38,
     "metadata": {},
     "output_type": "execute_result"
    }
   ],
   "source": [
    "string = \"Data science is an   $#@*& interdisciplinary field 13487  that uses scientific 7626536 methods,   98876 1542451  processes, algorithms\"\n",
    "new_string = re.sub(r'\\s{2,3}',' ',string) ## one or more occurnace \n",
    "new_string"
   ]
  },
  {
   "cell_type": "code",
   "execution_count": 39,
   "id": "0aa36457-82c5-41e9-b4e7-cc76a8c51b57",
   "metadata": {},
   "outputs": [
    {
     "data": {
      "text/plain": [
       "'Data science is an $#@*& interdisciplinary field 13487 that uses   scientific 7626536    methods, 98876 1542451 processes, algorithms'"
      ]
     },
     "execution_count": 39,
     "metadata": {},
     "output_type": "execute_result"
    }
   ],
   "source": [
    "string = \"Data science is an   $#@*& interdisciplinary field 13487  that uses        scientific 7626536          methods,   98876 1542451  processes, algorithms\"\n",
    "new_string = re.sub(r'\\s{2,3}',' ',string) ## one or more occurnace \n",
    "new_string"
   ]
  },
  {
   "cell_type": "code",
   "execution_count": 40,
   "id": "cba53c3d-8628-431a-9e01-fe0b805e0e51",
   "metadata": {},
   "outputs": [
    {
     "data": {
      "text/plain": [
       "'Data science is an $#@*& interdisciplinary field 13487 that uses scientific 7626536 methods, 98876 1542451 processes, algorithms'"
      ]
     },
     "execution_count": 40,
     "metadata": {},
     "output_type": "execute_result"
    }
   ],
   "source": [
    "string = \"Data science is an   $#@*& interdisciplinary field 13487  that uses        scientific 7626536          methods,   98876 1542451  processes, algorithms\"\n",
    "new_string = re.sub(r'\\s+',' ',string) ## one or more occurnace \n",
    "new_string"
   ]
  },
  {
   "cell_type": "code",
   "execution_count": 43,
   "id": "5ff112c0-ad37-4aca-87d8-04eb36a558b8",
   "metadata": {},
   "outputs": [
    {
     "data": {
      "text/plain": [
       "'Datareplacedsciencereplacedisreplacedanreplacedinterdisciplinaryreplacedfieldreplaced13487replacedthatreplacedusesreplacedscientificreplaced7626536replacedmethodsreplaced98876replaced1542451replacedprocessesreplacedalgorithmsreplaced'"
      ]
     },
     "execution_count": 43,
     "metadata": {},
     "output_type": "execute_result"
    }
   ],
   "source": [
    "string = \"\"\"Data science is an   $#@*& interdisciplinary field 13487  that %$# uses        \n",
    "scientific 7626536 :?   <<> \n",
    "methods,   98876 1542451  processes, algorithms \"\"\"\n",
    "\n",
    "new_string = re.sub(r'\\W+','replaced',string) ## one or more occurnace \n",
    "new_string"
   ]
  },
  {
   "cell_type": "code",
   "execution_count": 44,
   "id": "c6601683-b9df-4ba4-8d15-3e16d998f512",
   "metadata": {},
   "outputs": [
    {
     "data": {
      "text/plain": [
       "'Data science is an interdisciplinary field 13487 that uses scientific 7626536 methods 98876 1542451 processes algorithms '"
      ]
     },
     "execution_count": 44,
     "metadata": {},
     "output_type": "execute_result"
    }
   ],
   "source": [
    "string = \"\"\"Data science is an   $#@*& interdisciplinary field 13487  that %$# uses        \n",
    "scientific 7626536 :?   <<> \n",
    "methods,   98876 1542451  processes, algorithms \"\"\"\n",
    "\n",
    "new_string = re.sub(r'\\W+',' ',string) ## one or more occurnace \n",
    "new_string"
   ]
  },
  {
   "cell_type": "code",
   "execution_count": 46,
   "id": "3809878e-64aa-4ace-90ac-9760bb4b84cf",
   "metadata": {},
   "outputs": [
    {
     "data": {
      "text/plain": [
       "['9922992299', '8902346754', '8923158734', '78']"
      ]
     },
     "execution_count": 46,
     "metadata": {},
     "output_type": "execute_result"
    }
   ],
   "source": [
    "text = '9922992299, 8902346754, 8923158734 Data, science, python ml 78'\n",
    "\n",
    "result = re.findall(r'\\d+',text)\n",
    "result"
   ]
  },
  {
   "cell_type": "code",
   "execution_count": null,
   "id": "74d192f2-4f69-44c1-a0b8-56029fa43356",
   "metadata": {},
   "outputs": [],
   "source": [
    "text = '9922992299, 8902346754, 8923158734 Data, science, python ml 78'\n",
    "\n",
    "result = re.findall(r'\\d+',text)\n",
    "result"
   ]
  },
  {
   "cell_type": "code",
   "execution_count": 47,
   "id": "488d3abb-8046-46d7-8dfd-7210e0419cec",
   "metadata": {},
   "outputs": [
    {
     "name": "stdout",
     "output_type": "stream",
     "text": [
      "['shridharshende50@gmail.com', 'sagar_pandey45@gmail.com', 'vinay.patil123@gmail.com', 'pratik_kale_03@gmail.com', 'Darshan.patil785623@gmail.com', 'sale21info@company.com']\n"
     ]
    }
   ],
   "source": [
    "email = \"\"\" Email Id patterns: shridharshende50@gmail.com\n",
    "            sagar_pandey45@gmail.com\n",
    "            vinay.patil123@gmail.com\n",
    "            pratik_kale_03@gmail.com\n",
    "            Darshan.patil785623@gmail.com\n",
    "            hr@tcs.co.in\n",
    "            info@capgemini.com\n",
    "            coep@edu.in\n",
    "            sale21info@company.com\n",
    "            \"\"\"\n",
    "\n",
    "mail = re.findall('[a-zA-Z0-9_.]{5,20}[@]{1}[a-zA-Z.]+',email)\n",
    "print(mail)"
   ]
  },
  {
   "cell_type": "code",
   "execution_count": 51,
   "id": "c87ba5cd-2dad-46e3-97f6-5072f899176e",
   "metadata": {},
   "outputs": [
    {
     "name": "stdout",
     "output_type": "stream",
     "text": [
      "['shridharshende50@gmail.com', 'sagar_pandey45@gmail.com', 'vinay.patil123@gmail.com', 'pratik_kale_03@gmail.com', 'Darshan.patil785623@gmail.com']\n"
     ]
    }
   ],
   "source": [
    "email = \"\"\" Email Id patterns: shridharshende50@gmail.com\n",
    "            sagar_pandey45@gmail.com\n",
    "            vinay.patil123@gmail.com\n",
    "            pratik_kale_03@gmail.com\n",
    "            Darshan.patil785623@gmail.com\n",
    "            hr@tcs.co.in\n",
    "            info@capgemini.com\n",
    "            coep@edu.in\n",
    "            sale21info@company.com\n",
    "            \"\"\"\n",
    "\n",
    "mail = re.findall('[a-zA-Z0-9_.]{5,20}[@]gmail.com',email)\n",
    "print(mail)"
   ]
  },
  {
   "cell_type": "code",
   "execution_count": 52,
   "id": "7fd947d0-55ce-488d-86f0-641b119ab02a",
   "metadata": {},
   "outputs": [
    {
     "data": {
      "text/plain": [
       "['python', 'python']"
      ]
     },
     "execution_count": 52,
     "metadata": {},
     "output_type": "execute_result"
    }
   ],
   "source": [
    "text = 'python and data science pythonnnnn pyttttthon'\n",
    "result = re.findall('python',text)\n",
    "result"
   ]
  },
  {
   "cell_type": "code",
   "execution_count": 53,
   "id": "e19712a2-ff74-42a3-ad93-38096565fd06",
   "metadata": {},
   "outputs": [
    {
     "data": {
      "text/plain": [
       "['python', 'python', 'pyttttthon']"
      ]
     },
     "execution_count": 53,
     "metadata": {},
     "output_type": "execute_result"
    }
   ],
   "source": [
    "text = 'python and data science pythonnnnn pyttttthon'\n",
    "result = re.findall('pyt+hon',text)\n",
    "result"
   ]
  },
  {
   "cell_type": "code",
   "execution_count": 54,
   "id": "4db34617-36f7-4288-98de-ddd08ec41a59",
   "metadata": {},
   "outputs": [
    {
     "data": {
      "text/plain": [
       "['python', 'python', 'pyttttthon', 'pytthon']"
      ]
     },
     "execution_count": 54,
     "metadata": {},
     "output_type": "execute_result"
    }
   ],
   "source": [
    "text = 'python and data science pythonnnnn pyttttthon  java script pytthon'\n",
    "result = re.findall('pyt+ho+n',text)\n",
    "result"
   ]
  },
  {
   "cell_type": "code",
   "execution_count": 55,
   "id": "26c58504-1b69-4dae-a4d0-30d754f29bd6",
   "metadata": {},
   "outputs": [
    {
     "data": {
      "text/plain": [
       "['python', 'python', 'pyttttthon', 'pytthon', 'pythooon']"
      ]
     },
     "execution_count": 55,
     "metadata": {},
     "output_type": "execute_result"
    }
   ],
   "source": [
    "text = 'python and data science pythonnnnn pyttttthon  java script pytthon pythooon'\n",
    "result = re.findall('pyt+ho+n',text)\n",
    "result"
   ]
  },
  {
   "cell_type": "markdown",
   "id": "0ab3b59e-70ad-4dd3-809c-569b42ba5850",
   "metadata": {},
   "source": [
    "# 2. * "
   ]
  },
  {
   "cell_type": "code",
   "execution_count": null,
   "id": "0ef06314-b86d-4089-b8c0-c1ced5908829",
   "metadata": {},
   "outputs": [],
   "source": [
    "* >> zero or more occurance \n",
    "\n",
    "\n",
    "*.pdf\n",
    "\n",
    ".pdf\n",
    "one.pdf\n",
    "tw.pdf"
   ]
  },
  {
   "cell_type": "code",
   "execution_count": 56,
   "id": "c84f6914-b68e-4292-93e8-40d0ca6b74fc",
   "metadata": {},
   "outputs": [
    {
     "data": {
      "text/plain": [
       "['python', 'python']"
      ]
     },
     "execution_count": 56,
     "metadata": {},
     "output_type": "execute_result"
    }
   ],
   "source": [
    "text = 'python and data science pythonnnnn pyttttthon'\n",
    "result = re.findall('python',text)\n",
    "result"
   ]
  },
  {
   "cell_type": "code",
   "execution_count": 57,
   "id": "33bd0cdf-ced6-4671-8e05-1d9aaa65680e",
   "metadata": {},
   "outputs": [
    {
     "data": {
      "text/plain": [
       "['python', 'python', 'pyttttthon', 'pyhon']"
      ]
     },
     "execution_count": 57,
     "metadata": {},
     "output_type": "execute_result"
    }
   ],
   "source": [
    "text = 'python and data science pythonnnnn pyttttthon  pyhon'\n",
    "result = re.findall('pyt*hon',text)\n",
    "result"
   ]
  },
  {
   "cell_type": "code",
   "execution_count": 58,
   "id": "50ccf5f5-033e-40b7-b254-78d926e3e65e",
   "metadata": {},
   "outputs": [
    {
     "data": {
      "text/plain": [
       "['python', 'python', 'pyttttthon', 'pyhon', 'pyhn', 'pythoooon']"
      ]
     },
     "execution_count": 58,
     "metadata": {},
     "output_type": "execute_result"
    }
   ],
   "source": [
    "text = 'python and data science pythonnnnn pyttttthon  pyhon java script pyhn pythoooon'\n",
    "result = re.findall('pyt*ho*n',text)\n",
    "result"
   ]
  },
  {
   "cell_type": "code",
   "execution_count": null,
   "id": "50aa0b44-4347-4156-8313-02efb8f61e09",
   "metadata": {},
   "outputs": [],
   "source": []
  },
  {
   "cell_type": "code",
   "execution_count": null,
   "id": "1e5570a6-9a52-4524-9e69-7f9dee32833b",
   "metadata": {},
   "outputs": [],
   "source": []
  },
  {
   "cell_type": "markdown",
   "id": "de0dce1d-d8b6-4fac-891b-0f2989c90378",
   "metadata": {},
   "source": [
    "# 3 . (dot)"
   ]
  },
  {
   "cell_type": "code",
   "execution_count": null,
   "id": "3ded8e55-f17b-4d9e-97d4-2389810f5ffc",
   "metadata": {},
   "outputs": [],
   "source": [
    ". dot >>  any char (except new line)"
   ]
  },
  {
   "cell_type": "code",
   "execution_count": 59,
   "id": "5d71e91b-cfb1-4030-8c80-5c436bc461d2",
   "metadata": {},
   "outputs": [
    {
     "data": {
      "text/plain": [
       "['python', 'python', 'pyeron']"
      ]
     },
     "execution_count": 59,
     "metadata": {},
     "output_type": "execute_result"
    }
   ],
   "source": [
    "text = 'python and data science pythonnnnn pyttttthon  pyhon java script pyhn pythoooon pyeron'\n",
    "result = re.findall('py..on',text)\n",
    "result"
   ]
  },
  {
   "cell_type": "code",
   "execution_count": 3,
   "id": "feb6868b-fdd2-4ec4-860b-d5f43db72894",
   "metadata": {},
   "outputs": [
    {
     "data": {
      "text/plain": [
       "['pyt$on', 'python', 'pyeron']"
      ]
     },
     "execution_count": 3,
     "metadata": {},
     "output_type": "execute_result"
    }
   ],
   "source": [
    "\n",
    "import re\n",
    "text = 'pyt$on and data science pythonnnnn pyttttthon  pyhon java script pyhn pythoooon pyeron'\n",
    "result = re.findall('p....n',text)\n",
    "result"
   ]
  },
  {
   "cell_type": "code",
   "execution_count": 61,
   "id": "5028de71-0e0d-4d5d-94b2-588ccc11d893",
   "metadata": {},
   "outputs": [
    {
     "data": {
      "text/plain": [
       "['python and data science pythonnnnn pyttttthon  pyhon java script pyhn pythoooon pyeron']"
      ]
     },
     "execution_count": 61,
     "metadata": {},
     "output_type": "execute_result"
    }
   ],
   "source": [
    "text = 'python and data science pythonnnnn pyttttthon  pyhon java script pyhn pythoooon pyeron'\n",
    "result = re.findall('p.+n',text)\n",
    "result"
   ]
  },
  {
   "cell_type": "code",
   "execution_count": 67,
   "id": "74e35871-65b9-455b-b12e-d24122213e24",
   "metadata": {},
   "outputs": [
    {
     "data": {
      "text/plain": [
       "['python and data scien',\n",
       " 'pyttttthon 667t167 ##$$(  pyhon java script pyhn',\n",
       " 'pyhon java script pyhn']"
      ]
     },
     "execution_count": 67,
     "metadata": {},
     "output_type": "execute_result"
    }
   ],
   "source": [
    "text = \"\"\"python and data science pytho\n",
    "pyttttthon 667t167 ##$$(  pyhon java script pyhn \n",
    "pythoooo pyero\n",
    "on 667t167 ##$$(  pyhon java script pyhn pythoooo pyero \"\"\"\n",
    "result = re.findall('p.+n',text)\n",
    "result"
   ]
  },
  {
   "cell_type": "code",
   "execution_count": 70,
   "id": "7ff2e22c-e07a-4562-9a11-981d2bb766ce",
   "metadata": {},
   "outputs": [
    {
     "data": {
      "text/plain": [
       "['python and data scien',\n",
       " 'pyttttthon 667t167 ##$$(  pyhon java script pyhn',\n",
       " 'pyhon java script pyhn']"
      ]
     },
     "execution_count": 70,
     "metadata": {},
     "output_type": "execute_result"
    }
   ],
   "source": [
    "text = \"\"\"python and data science pytho\n",
    "pyttttthon 667t167 ##$$(  pyhon java script pyhn \n",
    "pythoooo pyero\n",
    "on 667t167 ##$$(  pyhon java script pyhn pythoooo pyero \"\"\"\n",
    "result = re.findall('py.+n',text)\n",
    "result"
   ]
  },
  {
   "cell_type": "code",
   "execution_count": 71,
   "id": "006ce475-8a0f-4ce6-a642-ca974d7d3228",
   "metadata": {},
   "outputs": [
    {
     "data": {
      "text/plain": [
       "['python', 'pyttttthon 667t167 ##$$(  pyhon', 'pyhon']"
      ]
     },
     "execution_count": 71,
     "metadata": {},
     "output_type": "execute_result"
    }
   ],
   "source": [
    "text = \"\"\"python and data science pytho\n",
    "pyttttthon 667t167 ##$$(  pyhon java script pyhn \n",
    "pythoooo pyero\n",
    "on 667t167 ##$$(  pyhon java script pyhn pythoooo pyero \"\"\"\n",
    "result = re.findall('py.+on',text)\n",
    "result"
   ]
  },
  {
   "cell_type": "code",
   "execution_count": 72,
   "id": "6b5aa5b5-8d20-4952-8828-253b24c0cf10",
   "metadata": {},
   "outputs": [
    {
     "data": {
      "text/plain": [
       "['9923573217 ', '998345623', '9002356256 ']"
      ]
     },
     "execution_count": 72,
     "metadata": {},
     "output_type": "execute_result"
    }
   ],
   "source": [
    "mobile_no = ''' 9923573217 \n",
    "                8823764318\n",
    "                7263545373 \n",
    "                6998345623\n",
    "                5347834623 \n",
    "                3467672152\n",
    "                9002356256 \n",
    "                8000235267 '''\n",
    "result = re.findall(r'9.+',mobile_no)\n",
    "result"
   ]
  },
  {
   "cell_type": "code",
   "execution_count": 73,
   "id": "e4e9eb6a-743b-4a5c-95ea-d79be60b3fca",
   "metadata": {},
   "outputs": [
    {
     "data": {
      "text/plain": [
       "['8823764318']"
      ]
     },
     "execution_count": 73,
     "metadata": {},
     "output_type": "execute_result"
    }
   ],
   "source": [
    "mobile_no = ''' 9923573217 \n",
    "                8823764318\n",
    "                7263545373 \n",
    "                6998345623\n",
    "                5347834623 \n",
    "                3467672152\n",
    "                9002356256 \n",
    "                8000235267 '''\n",
    "result = re.findall(r'88.+',mobile_no)\n",
    "result"
   ]
  },
  {
   "cell_type": "code",
   "execution_count": 75,
   "id": "1fc9b7cf-14db-4ccf-8885-70838ad04296",
   "metadata": {},
   "outputs": [
    {
     "data": {
      "text/plain": [
       "['6998345623']"
      ]
     },
     "execution_count": 75,
     "metadata": {},
     "output_type": "execute_result"
    }
   ],
   "source": [
    "mobile_no = ''' 9923573217 \n",
    "                8823764318\n",
    "                7263545373 \n",
    "                6998345623\n",
    "                5347834623 \n",
    "                3467672152\n",
    "                9002356256 \n",
    "                8000235267 '''\n",
    "result = re.findall(r'69.......3',mobile_no)\n",
    "result"
   ]
  },
  {
   "cell_type": "code",
   "execution_count": 79,
   "id": "fd38930e-012b-4f5c-9605-0ff96fbd5f72",
   "metadata": {},
   "outputs": [
    {
     "name": "stdout",
     "output_type": "stream",
     "text": [
      "['shridharshende50@gmail*com', 'sagar_pandey45@gmail$com', 'vinay.patil123@gmail.com', 'pratik_kale_03@gmail.com', 'Darshan.patil785623@gmail.com', 'sale21info@company.com']\n"
     ]
    }
   ],
   "source": [
    "email = \"\"\" Email Id patterns: shridharshende50@gmail*com\n",
    "            sagar_pandey45@gmail$com\n",
    "            vinay.patil123@gmail.com\n",
    "            pratik_kale_03@gmail.com\n",
    "            Darshan.patil785623@gmail.com\n",
    "            hr@tcs.co.in\n",
    "            info@capgemini.com\n",
    "            coep@edu.in\n",
    "            sale21info@company.com\n",
    "            \"\"\"\n",
    "\n",
    "mail = re.findall('[a-zA-Z0-9_.]{5,20}[@]{1}[a-zA-Z].{5,15}',email)\n",
    "print(mail)"
   ]
  },
  {
   "cell_type": "markdown",
   "id": "e2e075c6-3b3f-403b-959c-f989d76aa68e",
   "metadata": {},
   "source": [
    "# 4. ? "
   ]
  },
  {
   "cell_type": "code",
   "execution_count": null,
   "id": "e99966d8-b8ae-474e-bb74-d8a5559ecdc1",
   "metadata": {},
   "outputs": [],
   "source": [
    "It matches exctly zero or one char"
   ]
  },
  {
   "cell_type": "code",
   "execution_count": 82,
   "id": "54878480-0177-48cc-a5ea-ab9d28571805",
   "metadata": {},
   "outputs": [
    {
     "data": {
      "text/plain": [
       "['pyhon', 'phon']"
      ]
     },
     "execution_count": 82,
     "metadata": {},
     "output_type": "execute_result"
    }
   ],
   "source": [
    "text = 'python and data science pythonnnnn pyttttthon  pyhon java script pyhn pythoooon pyeron phon'\n",
    "result = re.findall('py?hon',text)\n",
    "result"
   ]
  },
  {
   "cell_type": "code",
   "execution_count": 81,
   "id": "2f58e81e-41ce-4491-85e4-b9ffdac5b98f",
   "metadata": {},
   "outputs": [
    {
     "data": {
      "text/plain": [
       "['python', 'python', 'pyhon']"
      ]
     },
     "execution_count": 81,
     "metadata": {},
     "output_type": "execute_result"
    }
   ],
   "source": [
    "text = 'python and data science pythonnnnn pyttttthon  pyhon java script pyhn pythoooon pyeron'\n",
    "result = re.findall('pyt?hon',text)\n",
    "result"
   ]
  },
  {
   "cell_type": "code",
   "execution_count": null,
   "id": "d2e01cce-cb15-4eb4-a5ee-1021c03e68cb",
   "metadata": {},
   "outputs": [],
   "source": [
    "#### \n",
    "+ >> one or more\n",
    "* >> zero or more occurance\n",
    ". >> any char (except new line)\n",
    "? >> zero or one"
   ]
  },
  {
   "cell_type": "code",
   "execution_count": 83,
   "id": "e63bd970-e7f6-491b-b471-db7c0413d655",
   "metadata": {},
   "outputs": [
    {
     "data": {
      "text/plain": [
       "['Science', 'Sience']"
      ]
     },
     "execution_count": 83,
     "metadata": {},
     "output_type": "execute_result"
    }
   ],
   "source": [
    "text = \"Science data machine learning deep learning NLP, AI, Computer vision Sience Scccience \"\n",
    "\n",
    "result = re.findall(r'Sc?ience',text)\n",
    "result"
   ]
  },
  {
   "cell_type": "code",
   "execution_count": 85,
   "id": "901fc4e0-0101-489c-9520-cf3a40d48721",
   "metadata": {},
   "outputs": [
    {
     "data": {
      "text/plain": [
       "['Science', 'Sience', 'Scien9e', 'Scien@e']"
      ]
     },
     "execution_count": 85,
     "metadata": {},
     "output_type": "execute_result"
    }
   ],
   "source": [
    "text = \"Science data machine learning deep learning NLP, AI, Computer vision Sience Scccience Scien9e  Scien@e\"\n",
    "\n",
    "result = re.findall(r'Sc?ien.e',text)\n",
    "result"
   ]
  },
  {
   "cell_type": "code",
   "execution_count": 86,
   "id": "92be6548-ff1e-49ac-adac-d07a167851af",
   "metadata": {},
   "outputs": [
    {
     "data": {
      "text/plain": [
       "['Science', 'Sience', 'Scien9e', 'Scien@e', 'SSScience']"
      ]
     },
     "execution_count": 86,
     "metadata": {},
     "output_type": "execute_result"
    }
   ],
   "source": [
    "text = \"Science data machine learning deep learning NLP, AI, Computer vision Sience Scccience Scien9e  Scien@e SSScience\"\n",
    "\n",
    "result = re.findall(r'S+c?ien.e',text)\n",
    "result"
   ]
  },
  {
   "cell_type": "markdown",
   "id": "d2ee541b-e8f8-4998-8553-b2c9c7016aee",
   "metadata": {},
   "source": [
    "# 5.^ "
   ]
  },
  {
   "cell_type": "code",
   "execution_count": null,
   "id": "b89142d9-8cb2-4688-bfb1-2d9b0f243422",
   "metadata": {},
   "outputs": [],
   "source": [
    "startwith "
   ]
  },
  {
   "cell_type": "code",
   "execution_count": 87,
   "id": "1ed8c2b3-ca34-4f05-bd62-e0c1e32ec167",
   "metadata": {},
   "outputs": [
    {
     "data": {
      "text/plain": [
       "['Science']"
      ]
     },
     "execution_count": 87,
     "metadata": {},
     "output_type": "execute_result"
    }
   ],
   "source": [
    "text = \"Science data machine learning deep learning NLP, AI, Computer vision Sience Scccience Scien9e  Scien@e SSScience\"\n",
    "\n",
    "result = re.findall(r'^S+c?ien.e',text)\n",
    "result"
   ]
  },
  {
   "cell_type": "code",
   "execution_count": 88,
   "id": "aa7b1ed2-0b91-42f7-9bbf-bf0f1db9bbeb",
   "metadata": {},
   "outputs": [
    {
     "data": {
      "text/plain": [
       "['S']"
      ]
     },
     "execution_count": 88,
     "metadata": {},
     "output_type": "execute_result"
    }
   ],
   "source": [
    "text = \"Science data machine learning deep learning NLP, AI, Computer vision Sience Scccience Scien9e  Scien@e SSScience\"\n",
    "\n",
    "result = re.findall(r'^S',text)\n",
    "result"
   ]
  },
  {
   "cell_type": "code",
   "execution_count": 92,
   "id": "dd870226-222e-4cac-9c0f-142c2cd278c3",
   "metadata": {},
   "outputs": [
    {
     "data": {
      "text/plain": [
       "['99']"
      ]
     },
     "execution_count": 92,
     "metadata": {},
     "output_type": "execute_result"
    }
   ],
   "source": [
    "mobile_no = '''9923573217 \n",
    "                8823764318\n",
    "                7263545373 \n",
    "                6998345623\n",
    "                5347834623 \n",
    "                3467672152\n",
    "                9002356256 \n",
    "                8000235267 '''\n",
    "result = re.findall(r'^9+',mobile_no)\n",
    "result"
   ]
  },
  {
   "cell_type": "code",
   "execution_count": null,
   "id": "bd07a072-c3bd-4d64-b7b1-3f3b73bb57fe",
   "metadata": {},
   "outputs": [],
   "source": [
    "mobile_no = '''9923573217 \n",
    "                8823764318\n",
    "                7263545373 \n",
    "                6998345623\n",
    "                5347834623 \n",
    "                3467672152\n",
    "                9002356256 \n",
    "                8000235267 '''\n",
    "result = re.findall(r'^9+',mobile_no)\n",
    "result"
   ]
  },
  {
   "cell_type": "code",
   "execution_count": null,
   "id": "1e8a05f9-5fc1-4e40-8032-4bb07f9433ca",
   "metadata": {},
   "outputs": [],
   "source": [
    "\\b"
   ]
  },
  {
   "cell_type": "code",
   "execution_count": 93,
   "id": "42167455-45e8-4102-9d89-b50ec2d435e5",
   "metadata": {},
   "outputs": [
    {
     "data": {
      "text/plain": [
       "['p']"
      ]
     },
     "execution_count": 93,
     "metadata": {},
     "output_type": "execute_result"
    }
   ],
   "source": [
    "text = 'python data sceince'\n",
    "result = re.findall(r'^[A-Za-z]',text) # p\n",
    "result"
   ]
  },
  {
   "cell_type": "code",
   "execution_count": 94,
   "id": "9812bf97-d2b6-4e5b-801d-1d851cc47d30",
   "metadata": {},
   "outputs": [
    {
     "data": {
      "text/plain": [
       "[]"
      ]
     },
     "execution_count": 94,
     "metadata": {},
     "output_type": "execute_result"
    }
   ],
   "source": [
    "text = '635 python data sceince'\n",
    "result = re.findall(r'^[A-Za-z]',text) # p\n",
    "result"
   ]
  },
  {
   "cell_type": "code",
   "execution_count": 95,
   "id": "5aa7804a-2ba8-40c3-985f-ec38f0e44478",
   "metadata": {},
   "outputs": [
    {
     "data": {
      "text/plain": [
       "['pytho']"
      ]
     },
     "execution_count": 95,
     "metadata": {},
     "output_type": "execute_result"
    }
   ],
   "source": [
    "text = 'python data sceince'\n",
    "result = re.findall(r'^[A-Za-z]{5}',text) # pytho\n",
    "result"
   ]
  },
  {
   "cell_type": "code",
   "execution_count": 96,
   "id": "3bd47bd4-4da9-4a8e-85f6-ce7a42eacb69",
   "metadata": {},
   "outputs": [
    {
     "data": {
      "text/plain": [
       "['python']"
      ]
     },
     "execution_count": 96,
     "metadata": {},
     "output_type": "execute_result"
    }
   ],
   "source": [
    "text = 'python data sceince'\n",
    "result = re.findall(r'^[A-Za-z]{2,10}',text) # pytho\n",
    "result"
   ]
  },
  {
   "cell_type": "code",
   "execution_count": 4,
   "id": "5e1272f8-a70b-413a-9e85-b6057a8c1ed0",
   "metadata": {},
   "outputs": [
    {
     "data": {
      "text/plain": [
       "['p']"
      ]
     },
     "execution_count": 4,
     "metadata": {},
     "output_type": "execute_result"
    }
   ],
   "source": [
    "text = 'python data sceince'\n",
    "result = re.findall(r'^[A-Za-z]',text) # pytho\n",
    "result"
   ]
  },
  {
   "cell_type": "code",
   "execution_count": 98,
   "id": "b958fded-0e0f-4033-a01a-53eaa6321853",
   "metadata": {},
   "outputs": [
    {
     "data": {
      "text/plain": [
       "['python']"
      ]
     },
     "execution_count": 98,
     "metadata": {},
     "output_type": "execute_result"
    }
   ],
   "source": [
    "text = 'python data sceince'\n",
    "result = re.findall(r'^[A-Za-z]+',text) # pytho\n",
    "result"
   ]
  },
  {
   "cell_type": "code",
   "execution_count": null,
   "id": "e87ec9f4-94ca-4211-b141-b150287d1b58",
   "metadata": {},
   "outputs": [],
   "source": [
    "text = 'python data sceince'\n",
    "result = re.findall(r'^[A-Za-z]+',text) # pytho\n",
    "result"
   ]
  },
  {
   "cell_type": "markdown",
   "id": "fcbc5761-3423-4ae3-95bc-f01a45b750b3",
   "metadata": {},
   "source": [
    "# 6. $ endwith "
   ]
  },
  {
   "cell_type": "code",
   "execution_count": 99,
   "id": "3f77d400-3f29-4f03-ac6e-0560b51fe288",
   "metadata": {},
   "outputs": [
    {
     "data": {
      "text/plain": [
       "['e']"
      ]
     },
     "execution_count": 99,
     "metadata": {},
     "output_type": "execute_result"
    }
   ],
   "source": [
    "text = 'python data science'\n",
    "result = re.findall(r'e$',text) # pytho\n",
    "result"
   ]
  },
  {
   "cell_type": "code",
   "execution_count": 100,
   "id": "4527eef9-779a-45ce-a498-bc7a31418c23",
   "metadata": {},
   "outputs": [
    {
     "data": {
      "text/plain": [
       "['science']"
      ]
     },
     "execution_count": 100,
     "metadata": {},
     "output_type": "execute_result"
    }
   ],
   "source": [
    "text = 'python data science'\n",
    "result = re.findall(r'science$',text) # pytho\n",
    "result"
   ]
  },
  {
   "cell_type": "code",
   "execution_count": 101,
   "id": "c223d7c3-729b-4e8e-9b93-f5515f3b5a25",
   "metadata": {},
   "outputs": [
    {
     "data": {
      "text/plain": [
       "[]"
      ]
     },
     "execution_count": 101,
     "metadata": {},
     "output_type": "execute_result"
    }
   ],
   "source": [
    "text = 'python data science 43627'\n",
    "result = re.findall(r'science$',text) # pytho\n",
    "result"
   ]
  },
  {
   "cell_type": "code",
   "execution_count": null,
   "id": "a1d051c2-76c4-45c5-b2d4-b3194dab10cf",
   "metadata": {},
   "outputs": [
    {
     "data": {
      "text/plain": [
       "['7']"
      ]
     },
     "execution_count": 102,
     "metadata": {},
     "output_type": "execute_result"
    }
   ],
   "source": [
    "text = 'python data science 43627'\n",
    "result = re.findall(r'\\d$',text) # pytho\n",
    "result"
   ]
  },
  {
   "cell_type": "code",
   "execution_count": 103,
   "id": "eb06fb71-8c82-458d-aadc-d4408e7d8a17",
   "metadata": {},
   "outputs": [
    {
     "data": {
      "text/plain": [
       "['43627']"
      ]
     },
     "execution_count": 103,
     "metadata": {},
     "output_type": "execute_result"
    }
   ],
   "source": [
    "text = 'python data science 43627'\n",
    "result = re.findall(r'\\d+$',text) # pytho\n",
    "result"
   ]
  },
  {
   "cell_type": "markdown",
   "id": "cec3bcf7-1d44-46b2-93b0-23d006107027",
   "metadata": {},
   "source": [
    "# 7. | or "
   ]
  },
  {
   "cell_type": "code",
   "execution_count": 104,
   "id": "8cd8fa05-839c-43d9-ae95-bc3a60aae2a3",
   "metadata": {},
   "outputs": [
    {
     "data": {
      "text/plain": [
       "['python', 'data']"
      ]
     },
     "execution_count": 104,
     "metadata": {},
     "output_type": "execute_result"
    }
   ],
   "source": [
    "text = 'python data science 43627'\n",
    "result = re.findall(r'data|python',text) # pytho\n",
    "result"
   ]
  },
  {
   "cell_type": "code",
   "execution_count": 105,
   "id": "c8a7981c-8496-41d2-8773-8ff63d405965",
   "metadata": {},
   "outputs": [
    {
     "data": {
      "text/plain": [
       "['python', '4', '3', '6', '2', '7']"
      ]
     },
     "execution_count": 105,
     "metadata": {},
     "output_type": "execute_result"
    }
   ],
   "source": [
    "text = 'python data science 43627'\n",
    "result = re.findall(r'\\d|python',text) # pytho\n",
    "result"
   ]
  },
  {
   "cell_type": "code",
   "execution_count": 106,
   "id": "f7daada4-9fd6-4652-91a4-f359f982f98f",
   "metadata": {},
   "outputs": [
    {
     "data": {
      "text/plain": [
       "['python', '43627']"
      ]
     },
     "execution_count": 106,
     "metadata": {},
     "output_type": "execute_result"
    }
   ],
   "source": [
    "text = 'python data science 43627'\n",
    "result = re.findall(r'\\d+|python',text) # pytho\n",
    "result"
   ]
  },
  {
   "cell_type": "code",
   "execution_count": 107,
   "id": "9560a4ed-9d6b-4f2e-bbe0-85367fb63fab",
   "metadata": {},
   "outputs": [
    {
     "data": {
      "text/plain": [
       "['43627']"
      ]
     },
     "execution_count": 107,
     "metadata": {},
     "output_type": "execute_result"
    }
   ],
   "source": [
    "text = 'data science 43627'\n",
    "result = re.findall(r'\\d+|python',text) # pytho\n",
    "result"
   ]
  },
  {
   "cell_type": "code",
   "execution_count": 108,
   "id": "48ec4150-bbc3-482c-97b5-fd22a4c1fa98",
   "metadata": {},
   "outputs": [
    {
     "data": {
      "text/plain": [
       "[]"
      ]
     },
     "execution_count": 108,
     "metadata": {},
     "output_type": "execute_result"
    }
   ],
   "source": [
    "text = 'data science'\n",
    "result = re.findall(r'\\d+|python',text) # pytho\n",
    "result"
   ]
  },
  {
   "cell_type": "markdown",
   "id": "882a470a-3c52-41af-8264-3127baf7d2de",
   "metadata": {},
   "source": [
    "# 8. group ()"
   ]
  },
  {
   "cell_type": "code",
   "execution_count": 109,
   "id": "8fd1a7f8-30f0-4a31-afe5-78896cccffef",
   "metadata": {},
   "outputs": [
    {
     "data": {
      "text/plain": [
       "['bat', 'bat']"
      ]
     },
     "execution_count": 109,
     "metadata": {},
     "output_type": "execute_result"
    }
   ],
   "source": [
    "text = 'batman and batwoman'\n",
    "result= re.findall(r'bat',text)\n",
    "result"
   ]
  },
  {
   "cell_type": "code",
   "execution_count": 110,
   "id": "13a12c60-3aa1-429e-a2b9-b77f56ca8199",
   "metadata": {},
   "outputs": [
    {
     "data": {
      "text/plain": [
       "['batman']"
      ]
     },
     "execution_count": 110,
     "metadata": {},
     "output_type": "execute_result"
    }
   ],
   "source": [
    "text = 'batman and batwoman'\n",
    "result= re.findall(r'batman',text)\n",
    "result"
   ]
  },
  {
   "cell_type": "code",
   "execution_count": 111,
   "id": "a24a4491-b79c-410e-9e51-7ff3dbf47c9b",
   "metadata": {},
   "outputs": [
    {
     "data": {
      "text/plain": [
       "['', 'wo']"
      ]
     },
     "execution_count": 111,
     "metadata": {},
     "output_type": "execute_result"
    }
   ],
   "source": [
    "text = 'batman and batwoman'\n",
    "result= re.findall(r'bat(wo)man',text)\n",
    "result"
   ]
  },
  {
   "cell_type": "code",
   "execution_count": 112,
   "id": "798de257-ce33-4e58-ae29-287d368a14b4",
   "metadata": {},
   "outputs": [
    {
     "data": {
      "text/plain": [
       "<re.Match object; span=(0, 6), match='batman'>"
      ]
     },
     "execution_count": 112,
     "metadata": {},
     "output_type": "execute_result"
    }
   ],
   "source": [
    "text = 'batman and batwoman'\n",
    "result= re.search(r'bat(wo)?man',text)\n",
    "result"
   ]
  },
  {
   "cell_type": "code",
   "execution_count": 113,
   "id": "95713b73-78c1-4767-b20d-e5adcc880428",
   "metadata": {},
   "outputs": [
    {
     "data": {
      "text/plain": [
       "<re.Match object; span=(5, 13), match='batwoman'>"
      ]
     },
     "execution_count": 113,
     "metadata": {},
     "output_type": "execute_result"
    }
   ],
   "source": [
    "text = ' and batwoman batman'\n",
    "result= re.search(r'bat(wo)?man',text)\n",
    "result"
   ]
  },
  {
   "cell_type": "code",
   "execution_count": 114,
   "id": "0e284317-c9d7-4018-a023-9df475e7e6a5",
   "metadata": {},
   "outputs": [
    {
     "data": {
      "text/plain": [
       "<re.Match object; span=(0, 2), match='99'>"
      ]
     },
     "execution_count": 114,
     "metadata": {},
     "output_type": "execute_result"
    }
   ],
   "source": [
    "mobile_no = '''9923573217 \n",
    "                8823764318\n",
    "                7263545373 \n",
    "                6998345623\n",
    "                5347834623 \n",
    "                3467672152\n",
    "                9002356256 \n",
    "                8000235267 '''\n",
    "result = re.search(r'(9)+',mobile_no)\n",
    "result"
   ]
  },
  {
   "cell_type": "code",
   "execution_count": 115,
   "id": "b0c21f0c-ab61-4462-8f76-e5e36a18e281",
   "metadata": {},
   "outputs": [
    {
     "data": {
      "text/plain": [
       "<re.Match object; span=(0, 10), match='9923573217'>"
      ]
     },
     "execution_count": 115,
     "metadata": {},
     "output_type": "execute_result"
    }
   ],
   "source": [
    "mobile_no = '''9923573217 \n",
    "                8823764318\n",
    "                7263545373 \n",
    "                6998345623\n",
    "                5347834623 \n",
    "                3467672152\n",
    "                9002356256 \n",
    "                8000235267 '''\n",
    "result = re.search(r'(^6\\d)+',mobile_no)\n",
    "result"
   ]
  },
  {
   "cell_type": "code",
   "execution_count": 119,
   "id": "94aee5f0-2bf1-4ee3-b80d-8cb1dffcdd53",
   "metadata": {},
   "outputs": [
    {
     "data": {
      "text/plain": [
       "<re.Match object; span=(0, 10), match='9923573217'>"
      ]
     },
     "execution_count": 119,
     "metadata": {},
     "output_type": "execute_result"
    }
   ],
   "source": [
    "mobile_no = '''9923573217 \n",
    "                8823764318\n",
    "                7263545373 \n",
    "                6998345623\n",
    "                5347834623 \n",
    "                3467672152\n",
    "                9002356256 \n",
    "                8000235267 '''\n",
    "result = re.search(r'(\\d+)',mobile_no)\n",
    "result"
   ]
  },
  {
   "cell_type": "code",
   "execution_count": 120,
   "id": "32acab12-2130-4e47-8e7a-de28e2b708fe",
   "metadata": {},
   "outputs": [
    {
     "name": "stdout",
     "output_type": "stream",
     "text": [
      "['@gmail', '@gmail', '@gmail', '@gmail', '@gmail']\n"
     ]
    }
   ],
   "source": [
    "email = \"\"\" Email Id patterns: shridharshende50@gmail*com\n",
    "            sagar_pandey45@gmail$com\n",
    "            vinay.patil123@gmail.com\n",
    "            pratik_kale_03@gmail.com\n",
    "            Darshan.patil785623@gmail.com\n",
    "            hr@tcs.co.in\n",
    "            info@capgemini.com\n",
    "            coep@edu.in\n",
    "            sale21info@company.com\n",
    "            \"\"\"\n",
    "\n",
    "mail = re.findall(r'[a-zA-Z0-9_.]{5,20}(@gmail).+',email)\n",
    "print(mail)"
   ]
  },
  {
   "cell_type": "code",
   "execution_count": 123,
   "id": "eada3641-b6ec-4443-b7f2-c86d6f915d89",
   "metadata": {},
   "outputs": [
    {
     "name": "stdout",
     "output_type": "stream",
     "text": [
      "['@gmail', '@gmail', '@gmail', '@gmail', '@gmail', '@edu']\n"
     ]
    }
   ],
   "source": [
    "email = \"\"\" Email Id patterns: shridharshende50@gmail*com\n",
    "            sagar_pandey45@gmail$com\n",
    "            vinay.patil123@gmail.com\n",
    "            pratik_kale_03@gmail.com\n",
    "            Darshan.patil785623@gmail.com\n",
    "            hr@tcs.co.in\n",
    "            info@capgemini.com\n",
    "            coeyp@edu.in\n",
    "            sale21info@company.com\n",
    "            \"\"\"\n",
    "\n",
    "mail = re.findall(r'[a-zA-Z0-9_.]{5,20}(@gmail|@edu).+',email)\n",
    "print(mail)"
   ]
  },
  {
   "cell_type": "code",
   "execution_count": 125,
   "id": "bbc567bd-af41-4e3e-a771-4bbbe8f75f2d",
   "metadata": {},
   "outputs": [
    {
     "name": "stdout",
     "output_type": "stream",
     "text": [
      "['shridharshende50@gmail', 'sagar_pandey45@gmail', 'vinay.patil123@gmail', 'pratik_kale_03@gmail', 'Darshan.patil785623@gmail', '@edu']\n"
     ]
    }
   ],
   "source": [
    "email = \"\"\" Email Id patterns: shridharshende50@gmail*com\n",
    "            sagar_pandey45@gmail$com\n",
    "            vinay.patil123@gmail.com\n",
    "            pratik_kale_03@gmail.com\n",
    "            Darshan.patil785623@gmail.com\n",
    "            hr@tcs.co.in\n",
    "            info@capgemini.com\n",
    "            coeyp@edu.in\n",
    "            sale21info@company.com\n",
    "            \"\"\"\n",
    "\n",
    "mail = re.findall(r'([a-zA-Z0-9_.]{5,20}@gmail|@edu).+',email)\n",
    "print(mail)"
   ]
  },
  {
   "cell_type": "code",
   "execution_count": null,
   "id": "73aab039-f7bc-4134-8fd1-75cb1bb5820f",
   "metadata": {},
   "outputs": [],
   "source": [
    "email = \"\"\" Email Id patterns: shridharshende50@gmail*com\n",
    "            sagar_pandey45@gmail$com\n",
    "            vinay.patil123@gmail.com\n",
    "            pratik_kale_03@gmail.com\n",
    "            Darshan.patil785623@gmail.com\n",
    "            hr@tcs.co.in\n",
    "            info@capgemini.com\n",
    "            coeyp@edu.in\n",
    "            sale21info@company.com\n",
    "            \"\"\"\n",
    "\n",
    "mail = re.findall(r'([a-zA-Z0-9_.]{5,20}@gmail|@edu).+',email)\n",
    "print(mail)"
   ]
  },
  {
   "cell_type": "code",
   "execution_count": 127,
   "id": "6bdc2685-527e-4666-b2c9-eceb09b81372",
   "metadata": {},
   "outputs": [
    {
     "data": {
      "text/plain": [
       "[]"
      ]
     },
     "execution_count": 127,
     "metadata": {},
     "output_type": "execute_result"
    }
   ],
   "source": [
    "text = 'batman and batwoman'\n",
    "result= re.findall(r'bat([w]{2}|[o]{2})man',text)\n",
    "result"
   ]
  },
  {
   "cell_type": "code",
   "execution_count": 129,
   "id": "2036f8a2-cd12-4ced-999a-38820642a13c",
   "metadata": {},
   "outputs": [
    {
     "data": {
      "text/plain": [
       "['bat', 'bat']"
      ]
     },
     "execution_count": 129,
     "metadata": {},
     "output_type": "execute_result"
    }
   ],
   "source": [
    "text = 'batman and batwoman'\n",
    "result= re.findall(r'(bat)',text)\n",
    "result"
   ]
  },
  {
   "cell_type": "code",
   "execution_count": 130,
   "id": "55a11e7b-1fb7-40cb-9d2c-227a56e8841a",
   "metadata": {},
   "outputs": [
    {
     "data": {
      "text/plain": [
       "[]"
      ]
     },
     "execution_count": 130,
     "metadata": {},
     "output_type": "execute_result"
    }
   ],
   "source": [
    "text = 'batman and batwoman'\n",
    "result= re.findall(r'a(bat)',text)\n",
    "result"
   ]
  },
  {
   "cell_type": "code",
   "execution_count": 131,
   "id": "ff3bc627-7131-462c-811f-fee5a2477e82",
   "metadata": {},
   "outputs": [
    {
     "data": {
      "text/plain": [
       "[]"
      ]
     },
     "execution_count": 131,
     "metadata": {},
     "output_type": "execute_result"
    }
   ],
   "source": [
    "text = 'batman and batwoman'\n",
    "result= re.findall(r'b(at)',text)\n",
    "result"
   ]
  },
  {
   "cell_type": "code",
   "execution_count": 132,
   "id": "01025296-044a-4028-8e5b-65f1eac8d063",
   "metadata": {},
   "outputs": [
    {
     "data": {
      "text/plain": [
       "[]"
      ]
     },
     "execution_count": 132,
     "metadata": {},
     "output_type": "execute_result"
    }
   ],
   "source": [
    "text = 'batman and batwoman'\n",
    "result= re.findall(r'ba(at)',text)\n",
    "result"
   ]
  },
  {
   "cell_type": "code",
   "execution_count": 133,
   "id": "bad7f9ab-0901-431f-a452-a4ab84326bd4",
   "metadata": {},
   "outputs": [
    {
     "data": {
      "text/plain": [
       "['t', 't']"
      ]
     },
     "execution_count": 133,
     "metadata": {},
     "output_type": "execute_result"
    }
   ],
   "source": [
    "text = 'batman and batwoman'\n",
    "result= re.findall(r'ba(t)',text)\n",
    "result"
   ]
  },
  {
   "cell_type": "code",
   "execution_count": 134,
   "id": "056faf65-2495-4be4-8641-e89f752a1299",
   "metadata": {},
   "outputs": [
    {
     "data": {
      "text/plain": [
       "['bat', 'man', 'bat', 'wo', 'man']"
      ]
     },
     "execution_count": 134,
     "metadata": {},
     "output_type": "execute_result"
    }
   ],
   "source": [
    "text = 'batman and batwoman'\n",
    "result= re.findall(r'(bat|wo|man)',text)\n",
    "result"
   ]
  },
  {
   "cell_type": "markdown",
   "id": "b1d09c72-4926-4423-a747-45f9b571af31",
   "metadata": {},
   "source": [
    "## Compile function"
   ]
  },
  {
   "cell_type": "code",
   "execution_count": null,
   "id": "9e1c8a30-c5bb-4498-afc2-7d6fb7e9f998",
   "metadata": {},
   "outputs": [],
   "source": [
    "syntax : \n",
    "    \n",
    "obj = re.compile(pattern)\n",
    "\n",
    "var = obj.findall ,search,match(text)\n",
    "\n",
    "\n",
    "### findall >> re.findall(pattern,text)"
   ]
  },
  {
   "cell_type": "code",
   "execution_count": 6,
   "id": "d0f5fe05-0b19-4e96-9d99-4fa3fc29c919",
   "metadata": {},
   "outputs": [
    {
     "data": {
      "text/plain": [
       "['1235 6872 5661', '1256 6737 2873']"
      ]
     },
     "execution_count": 6,
     "metadata": {},
     "output_type": "execute_result"
    }
   ],
   "source": [
    "string = \"\"\"1235 6872 5661\n",
    "        1256 6737 2873\"\"\"\n",
    "\n",
    "pattern = re.compile('\\d{4}\\s\\d{4}\\s\\d{4}')\n",
    "\n",
    "result = pattern.findall(string)\n",
    "result"
   ]
  },
  {
   "cell_type": "code",
   "execution_count": 7,
   "id": "11ba90b7",
   "metadata": {},
   "outputs": [
    {
     "data": {
      "text/plain": [
       "['1235 6872 5661', '1256 6737 2873']"
      ]
     },
     "execution_count": 7,
     "metadata": {},
     "output_type": "execute_result"
    }
   ],
   "source": [
    "pattern = re.compile('\\d{4}\\s\\d{4}\\s\\d{4}').findall(string)\n",
    "pattern"
   ]
  },
  {
   "cell_type": "code",
   "execution_count": 137,
   "id": "14161b4a-4941-4897-9656-d6616232602a",
   "metadata": {},
   "outputs": [
    {
     "data": {
      "text/plain": [
       "<re.Match object; span=(0, 14), match='1235 6872 5661'>"
      ]
     },
     "execution_count": 137,
     "metadata": {},
     "output_type": "execute_result"
    }
   ],
   "source": [
    "var = pattern.search(string)\n",
    "var"
   ]
  },
  {
   "cell_type": "code",
   "execution_count": 139,
   "id": "d6fd39f7-7cfa-4c82-8efa-f91d62c79a7b",
   "metadata": {},
   "outputs": [
    {
     "data": {
      "text/plain": [
       "['912-456-6788', '672-121-1351', '1223-652-2517']"
      ]
     },
     "execution_count": 139,
     "metadata": {},
     "output_type": "execute_result"
    }
   ],
   "source": [
    "mobile= \"\"\"912-456-6788\n",
    "              672-121-1351\n",
    "              1223-652-2517\"\"\"\n",
    "\n",
    "mobile_pattern = re.compile('\\d{3,4}[-]\\d{3}[-]\\d{4}')\n",
    "\n",
    "result = mobile_pattern.findall(mobile)\n",
    "result"
   ]
  },
  {
   "cell_type": "code",
   "execution_count": 140,
   "id": "ef9b1003-d223-47aa-a23a-147475bdf631",
   "metadata": {},
   "outputs": [],
   "source": [
    "var = mobile_pattern.search(mobile)"
   ]
  },
  {
   "cell_type": "markdown",
   "id": "4f79dc0a-cebf-490c-a928-55fc2c32fb70",
   "metadata": {},
   "source": [
    "## split"
   ]
  },
  {
   "cell_type": "code",
   "execution_count": 141,
   "id": "8e5eb30e-c8d2-4797-af1d-7111a937ca16",
   "metadata": {},
   "outputs": [
    {
     "name": "stdout",
     "output_type": "stream",
     "text": [
      "['Data', 'science', 'is', 'an', 'interdisciplinary', 'field', 'that', 'uses', 'scientific', 'methods,', 'processes,', 'algorithms', 'and', 'systems']\n"
     ]
    }
   ],
   "source": [
    "text = \"Data science is an interdisciplinary  field that uses scientific methods, processes,  algorithms and systems \"\n",
    "var = text.split()\n",
    "print(var)"
   ]
  },
  {
   "cell_type": "code",
   "execution_count": 143,
   "id": "254fd27d-de8f-4070-96c4-670af7ab25ab",
   "metadata": {},
   "outputs": [
    {
     "name": "stdout",
     "output_type": "stream",
     "text": [
      "['Data science is an interdisciplinary ', ' field that uses scientific methods, processes,  ', ' algorithms and systems ']\n"
     ]
    }
   ],
   "source": [
    "text = \"Data science is an interdisciplinary 6 field that uses scientific methods, processes,  6 algorithms and systems \"\n",
    "var = text.split('6')\n",
    "print(var)"
   ]
  },
  {
   "cell_type": "code",
   "execution_count": 144,
   "id": "b03ec356-47e0-493a-bc0f-7480787ba306",
   "metadata": {},
   "outputs": [
    {
     "name": "stdout",
     "output_type": "stream",
     "text": [
      "['Data science is an interdisciplinary ', ' field that uses scientific ', ' methods, processes,  ', ' algorithms and systems ']\n"
     ]
    }
   ],
   "source": [
    "text = \"Data science is an interdisciplinary 6 field that uses scientific 5 methods, processes,  9 algorithms and systems \"\n",
    "var = re.split(r'\\d',text)\n",
    "print(var)"
   ]
  },
  {
   "cell_type": "code",
   "execution_count": 146,
   "id": "3d28e2d1-44bb-4037-b3ff-1852c535fe2b",
   "metadata": {},
   "outputs": [
    {
     "name": "stdout",
     "output_type": "stream",
     "text": [
      "['', 'ata science is an interdisciplinary ', ' field that uses scientific ', ' methods, processes,  ', ' algorithms and systems ']\n"
     ]
    }
   ],
   "source": [
    "text = \"Data science is an interdisciplinary A field that uses scientific B methods, processes,  C algorithms and systems \"\n",
    "var = re.split(r'[A-Z]',text)\n",
    "print(var)"
   ]
  },
  {
   "cell_type": "code",
   "execution_count": 148,
   "id": "e7906f5a-0165-4414-a717-48a8aa3905d5",
   "metadata": {},
   "outputs": [
    {
     "data": {
      "text/plain": [
       "['912',\n",
       " '456',\n",
       " '6788\\n              672',\n",
       " '121',\n",
       " '1351\\n              1223',\n",
       " '652',\n",
       " '2517']"
      ]
     },
     "execution_count": 148,
     "metadata": {},
     "output_type": "execute_result"
    }
   ],
   "source": [
    "mobile= \"\"\"912-456-6788\n",
    "              672-121-1351\n",
    "              1223-652-2517\"\"\"\n",
    "\n",
    "var = re.split(r'[-]',mobile)\n",
    "var"
   ]
  },
  {
   "cell_type": "code",
   "execution_count": 149,
   "id": "ed18e4e4-24eb-46ac-8230-efdcc9c5b515",
   "metadata": {},
   "outputs": [
    {
     "data": {
      "text/plain": [
       "['912',\n",
       " '456',\n",
       " '6788',\n",
       " '',\n",
       " '',\n",
       " '',\n",
       " '',\n",
       " '',\n",
       " '',\n",
       " '',\n",
       " '',\n",
       " '',\n",
       " '',\n",
       " '',\n",
       " '',\n",
       " '',\n",
       " '',\n",
       " '672',\n",
       " '121',\n",
       " '1351',\n",
       " '',\n",
       " '',\n",
       " '',\n",
       " '',\n",
       " '',\n",
       " '',\n",
       " '',\n",
       " '',\n",
       " '',\n",
       " '',\n",
       " '',\n",
       " '',\n",
       " '',\n",
       " '',\n",
       " '1223',\n",
       " '652',\n",
       " '2517']"
      ]
     },
     "execution_count": 149,
     "metadata": {},
     "output_type": "execute_result"
    }
   ],
   "source": [
    "mobile= \"\"\"912,456,6788\n",
    "              672$121$1351\n",
    "              1223&652&2517\"\"\"\n",
    "\n",
    "var = re.split(r'\\W',mobile)\n",
    "var"
   ]
  },
  {
   "cell_type": "code",
   "execution_count": null,
   "id": "56f934c3-9e34-4e8b-af24-12893199f46c",
   "metadata": {},
   "outputs": [],
   "source": []
  }
 ],
 "metadata": {
  "kernelspec": {
   "display_name": "Python 3 (ipykernel)",
   "language": "python",
   "name": "python3"
  },
  "language_info": {
   "codemirror_mode": {
    "name": "ipython",
    "version": 3
   },
   "file_extension": ".py",
   "mimetype": "text/x-python",
   "name": "python",
   "nbconvert_exporter": "python",
   "pygments_lexer": "ipython3",
   "version": "3.9.7"
  }
 },
 "nbformat": 4,
 "nbformat_minor": 5
}
