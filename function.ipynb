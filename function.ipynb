{
 "cells": [
  {
   "cell_type": "code",
   "execution_count": null,
   "id": "teXokMV4GUZ_",
   "metadata": {
    "colab": {
     "base_uri": "https://localhost:8080/",
     "height": 35
    },
    "executionInfo": {
     "elapsed": 386,
     "status": "ok",
     "timestamp": 1645262096455,
     "user": {
      "displayName": "Sagar Kakade",
      "photoUrl": "https://lh3.googleusercontent.com/a-/AOh14GgQsUP8q7ptj--LG-l7KiKX_mNHbaG35e16SISgSKc=s64",
      "userId": "04122117444526890543"
     },
     "user_tz": -330
    },
    "id": "teXokMV4GUZ_",
    "outputId": "6ad9a06d-bdff-41fe-d26c-a82901243792"
   },
   "outputs": [
    {
     "data": {
      "application/vnd.google.colaboratory.intrinsic+json": {
       "type": "string"
      },
      "text/plain": [
       "'...data..'"
      ]
     },
     "execution_count": 7,
     "metadata": {},
     "output_type": "execute_result"
    }
   ],
   "source": [
    "p='data'\n",
    "p.center(9,'.')"
   ]
  },
  {
   "cell_type": "code",
   "execution_count": null,
   "id": "57-5mifPGUWa",
   "metadata": {
    "id": "57-5mifPGUWa"
   },
   "outputs": [],
   "source": []
  },
  {
   "cell_type": "code",
   "execution_count": null,
   "id": "mnLbeMAhGUR-",
   "metadata": {
    "id": "mnLbeMAhGUR-"
   },
   "outputs": [],
   "source": []
  },
  {
   "cell_type": "code",
   "execution_count": null,
   "id": "h5E2UNGcGUOd",
   "metadata": {
    "id": "h5E2UNGcGUOd"
   },
   "outputs": [],
   "source": []
  },
  {
   "cell_type": "code",
   "execution_count": null,
   "id": "xatsV-DvGULL",
   "metadata": {
    "id": "xatsV-DvGULL"
   },
   "outputs": [],
   "source": []
  },
  {
   "cell_type": "code",
   "execution_count": null,
   "id": "kYa_-Y68GT2F",
   "metadata": {
    "id": "kYa_-Y68GT2F"
   },
   "outputs": [],
   "source": []
  },
  {
   "cell_type": "code",
   "execution_count": null,
   "id": "c6fcbf42",
   "metadata": {
    "id": "c6fcbf42"
   },
   "outputs": [],
   "source": [
    "Function is an oragnized block of reuseable code. \n",
    "\n",
    "\n",
    "function is execute only when it called. \n",
    "\n",
    "\n",
    "def keyword we are going to create a function \n",
    "\n",
    "\n",
    "Synatx:\n",
    "    \n",
    "def function_name():\n",
    "    statements\n",
    "    expression \n",
    "    \n",
    "    \n",
    "#######################\n",
    "calling the function \n",
    "\n",
    "function_name()\n",
    "\n",
    "\n",
    "function name should follow indentifier rules."
   ]
  },
  {
   "cell_type": "code",
   "execution_count": null,
   "id": "75a075d1",
   "metadata": {
    "id": "75a075d1"
   },
   "outputs": [],
   "source": [
    "print()\n",
    "len()\n",
    "min()"
   ]
  },
  {
   "cell_type": "code",
   "execution_count": null,
   "id": "fd422495",
   "metadata": {
    "id": "fd422495",
    "outputId": "9c3afd67-0e9c-4d2d-9027-5c4a2f8cdc3a"
   },
   "outputs": [
    {
     "name": "stdout",
     "output_type": "stream",
     "text": [
      "Hello\n"
     ]
    }
   ],
   "source": [
    "print(\"Hello\")"
   ]
  },
  {
   "cell_type": "code",
   "execution_count": null,
   "id": "f4d6b589",
   "metadata": {
    "id": "f4d6b589"
   },
   "outputs": [],
   "source": [
    "def my_fun():\n",
    "    print(\"hello\")"
   ]
  },
  {
   "cell_type": "code",
   "execution_count": null,
   "id": "8e3a0580",
   "metadata": {
    "id": "8e3a0580",
    "outputId": "4381def9-b420-4096-fa1d-0e0b6aa5fa23"
   },
   "outputs": [
    {
     "name": "stdout",
     "output_type": "stream",
     "text": [
      "hello\n"
     ]
    }
   ],
   "source": [
    "my_fun()"
   ]
  },
  {
   "cell_type": "code",
   "execution_count": null,
   "id": "735924cd",
   "metadata": {
    "id": "735924cd",
    "outputId": "9222e8fa-4060-4751-b020-00f38d62ffff"
   },
   "outputs": [
    {
     "name": "stdout",
     "output_type": "stream",
     "text": [
      "50\n"
     ]
    }
   ],
   "source": [
    "list1 = [10,20,30,40,50]\n",
    "max_no = max(list1)\n",
    "print(max_no)"
   ]
  },
  {
   "cell_type": "code",
   "execution_count": null,
   "id": "59bcccd8",
   "metadata": {
    "id": "59bcccd8",
    "outputId": "4fbcedc4-8e60-497e-f08d-3f2b14a2359f"
   },
   "outputs": [
    {
     "name": "stdout",
     "output_type": "stream",
     "text": [
      "121.8\n"
     ]
    }
   ],
   "source": [
    "list2 = [7.8,9.2,8.3,110.6,121.8]\n",
    "max_no = max(list2)\n",
    "print(max_no)"
   ]
  },
  {
   "cell_type": "code",
   "execution_count": null,
   "id": "1df2f036",
   "metadata": {
    "id": "1df2f036",
    "outputId": "7f9c0063-ca1d-4ba8-e592-10c85558e3d0"
   },
   "outputs": [
    {
     "name": "stdout",
     "output_type": "stream",
     "text": [
      "535253\n"
     ]
    }
   ],
   "source": [
    "list3 = [9000,63546,535253,89487]\n",
    "max_no = max(list3)\n",
    "print(max_no)"
   ]
  },
  {
   "cell_type": "code",
   "execution_count": 1,
   "id": "f0b4aff5",
   "metadata": {
    "executionInfo": {
     "elapsed": 12,
     "status": "ok",
     "timestamp": 1645869914777,
     "user": {
      "displayName": "ganesh thombre",
      "photoUrl": "https://lh3.googleusercontent.com/a-/AOh14GgBNZlPo0pNoLAl1I-5a9QBt4PGCqHyfB8k_AAx2l0=s64",
      "userId": "00232612742108951698"
     },
     "user_tz": -330
    },
    "id": "f0b4aff5"
   },
   "outputs": [],
   "source": [
    "def find_max():\n",
    "    list3 = [7.8,9.2,8.3,110.6,121.8]\n",
    "    max_no = max(list3)\n",
    "    print(max_no)"
   ]
  },
  {
   "cell_type": "code",
   "execution_count": 2,
   "id": "049cd40c",
   "metadata": {
    "colab": {
     "base_uri": "https://localhost:8080/"
    },
    "executionInfo": {
     "elapsed": 12,
     "status": "ok",
     "timestamp": 1645869966814,
     "user": {
      "displayName": "ganesh thombre",
      "photoUrl": "https://lh3.googleusercontent.com/a-/AOh14GgBNZlPo0pNoLAl1I-5a9QBt4PGCqHyfB8k_AAx2l0=s64",
      "userId": "00232612742108951698"
     },
     "user_tz": -330
    },
    "id": "049cd40c",
    "outputId": "0bd8f430-af7f-477d-8a7d-77351f6fc928"
   },
   "outputs": [
    {
     "name": "stdout",
     "output_type": "stream",
     "text": [
      "121.8\n"
     ]
    }
   ],
   "source": [
    "find_max()"
   ]
  },
  {
   "cell_type": "code",
   "execution_count": null,
   "id": "76243fdc",
   "metadata": {
    "id": "76243fdc",
    "outputId": "dac3af98-12bf-4f69-ac08-5be8f3ac18e9"
   },
   "outputs": [
    {
     "name": "stdout",
     "output_type": "stream",
     "text": [
      "121.8\n"
     ]
    }
   ],
   "source": [
    "find_max()"
   ]
  },
  {
   "cell_type": "code",
   "execution_count": null,
   "id": "ebc3256e",
   "metadata": {
    "id": "ebc3256e",
    "outputId": "8b170d4f-e8eb-4cf7-c63d-f9493399f8c3"
   },
   "outputs": [
    {
     "data": {
      "text/plain": [
       "15"
      ]
     },
     "execution_count": 13,
     "metadata": {},
     "output_type": "execute_result"
    }
   ],
   "source": [
    "max([12,15])"
   ]
  },
  {
   "cell_type": "code",
   "execution_count": null,
   "id": "a0ecccb4",
   "metadata": {
    "id": "a0ecccb4"
   },
   "outputs": [],
   "source": [
    "Synatx for function with argument \n",
    "\n",
    "def my_func(parameter1,parameter2):\n",
    "    statements\n",
    "    exp\n",
    "    ....\n",
    "    ...\n",
    "    \n",
    "    \n",
    "#########################\n",
    "\n",
    "my_fun(argument1, argument2)\n",
    "\n",
    "\n",
    "parameters == arguments"
   ]
  },
  {
   "cell_type": "code",
   "execution_count": null,
   "id": "d63bc976",
   "metadata": {
    "id": "d63bc976"
   },
   "outputs": [],
   "source": [
    "def find_max(no1,no2,no3): ## nno1,no2,no3 are parameters \n",
    "    ## this function is for finding out the max number\n",
    "    \n",
    "    if no1 > no2 and no1 > no3:\n",
    "        print(f\"{no1} is max\")\n",
    "    if no2 > no3 and no2 > no1:\n",
    "        print(f\"{no2} is max\")\n",
    "    if no3 > no2 and no3 > no1:\n",
    "        print(f\"{no3} is max\")\n",
    "        "
   ]
  },
  {
   "cell_type": "code",
   "execution_count": null,
   "id": "dfdbe36b",
   "metadata": {
    "id": "dfdbe36b",
    "outputId": "68e45c38-9803-4c29-af6f-c831d99525b5"
   },
   "outputs": [
    {
     "name": "stdout",
     "output_type": "stream",
     "text": [
      "90 is max\n",
      "900 is max\n",
      "78.9 is max\n"
     ]
    }
   ],
   "source": [
    "find_max(45,78,90)\n",
    "find_max(45,900,4)\n",
    "find_max(4.5,78.9,5.4)"
   ]
  },
  {
   "cell_type": "code",
   "execution_count": null,
   "id": "028b2b3f",
   "metadata": {
    "id": "028b2b3f"
   },
   "outputs": [],
   "source": [
    "#### avg of 5 number using function \n",
    "\n",
    "def find_avg(no1,no2,no3,no4):\n",
    "    avg=(no1+no2+no3+no4)/4\n",
    "    print(avg) \n"
   ]
  },
  {
   "cell_type": "code",
   "execution_count": null,
   "id": "d2777ca3",
   "metadata": {
    "colab": {
     "base_uri": "https://localhost:8080/"
    },
    "executionInfo": {
     "elapsed": 9,
     "status": "ok",
     "timestamp": 1645164191538,
     "user": {
      "displayName": "Sagar Kakade",
      "photoUrl": "https://lh3.googleusercontent.com/a-/AOh14GgQsUP8q7ptj--LG-l7KiKX_mNHbaG35e16SISgSKc=s64",
      "userId": "04122117444526890543"
     },
     "user_tz": -330
    },
    "id": "d2777ca3",
    "outputId": "e3de7428-349b-4cef-d219-b9b5c02a9639"
   },
   "outputs": [
    {
     "name": "stdout",
     "output_type": "stream",
     "text": [
      "2.5\n"
     ]
    }
   ],
   "source": [
    "find_avg(1,2,3,4)"
   ]
  },
  {
   "cell_type": "code",
   "execution_count": null,
   "id": "4035787a",
   "metadata": {
    "colab": {
     "base_uri": "https://localhost:8080/",
     "height": 165
    },
    "executionInfo": {
     "elapsed": 1718,
     "status": "error",
     "timestamp": 1645414222387,
     "user": {
      "displayName": "Sagar Kakade",
      "photoUrl": "https://lh3.googleusercontent.com/a-/AOh14GgQsUP8q7ptj--LG-l7KiKX_mNHbaG35e16SISgSKc=s64",
      "userId": "04122117444526890543"
     },
     "user_tz": -330
    },
    "id": "4035787a",
    "outputId": "b326f4dc-aa9c-476e-ff43-ca4e8e90e984"
   },
   "outputs": [
    {
     "ename": "NameError",
     "evalue": "ignored",
     "output_type": "error",
     "traceback": [
      "\u001b[0;31m---------------------------------------------------------------------------\u001b[0m",
      "\u001b[0;31mNameError\u001b[0m                                 Traceback (most recent call last)",
      "\u001b[0;32m<ipython-input-1-4f75efd0b0fb>\u001b[0m in \u001b[0;36m<module>\u001b[0;34m()\u001b[0m\n\u001b[0;32m----> 1\u001b[0;31m \u001b[0mfind_avg\u001b[0m\u001b[0;34m(\u001b[0m\u001b[0;36m10\u001b[0m\u001b[0;34m,\u001b[0m\u001b[0;36m20\u001b[0m\u001b[0;34m,\u001b[0m\u001b[0;36m30\u001b[0m\u001b[0;34m)\u001b[0m\u001b[0;34m\u001b[0m\u001b[0;34m\u001b[0m\u001b[0m\n\u001b[0m",
      "\u001b[0;31mNameError\u001b[0m: name 'find_avg' is not defined"
     ]
    }
   ],
   "source": [
    "find_avg(10,20,30)"
   ]
  },
  {
   "cell_type": "code",
   "execution_count": null,
   "id": "9d6ce0c6",
   "metadata": {
    "id": "9d6ce0c6",
    "outputId": "27b2892b-9b16-4c51-dbb5-3426e81856d0"
   },
   "outputs": [
    {
     "ename": "TypeError",
     "evalue": "sorted expected 1 argument, got 2",
     "output_type": "error",
     "traceback": [
      "\u001b[1;31m---------------------------------------------------------------------------\u001b[0m",
      "\u001b[1;31mTypeError\u001b[0m                                 Traceback (most recent call last)",
      "\u001b[1;32m~\\AppData\\Local\\Temp/ipykernel_9460/2908248771.py\u001b[0m in \u001b[0;36m<module>\u001b[1;34m\u001b[0m\n\u001b[1;32m----> 1\u001b[1;33m \u001b[0msorted\u001b[0m\u001b[1;33m(\u001b[0m\u001b[1;33m[\u001b[0m\u001b[1;36m3\u001b[0m\u001b[1;33m,\u001b[0m\u001b[1;36m4\u001b[0m\u001b[1;33m,\u001b[0m\u001b[1;36m5\u001b[0m\u001b[1;33m,\u001b[0m\u001b[1;36m6\u001b[0m\u001b[1;33m]\u001b[0m\u001b[1;33m,\u001b[0m\u001b[1;33m[\u001b[0m\u001b[1;36m6\u001b[0m\u001b[1;33m,\u001b[0m\u001b[1;36m8\u001b[0m\u001b[1;33m,\u001b[0m\u001b[1;36m910\u001b[0m\u001b[1;33m]\u001b[0m\u001b[1;33m)\u001b[0m\u001b[1;33m\u001b[0m\u001b[1;33m\u001b[0m\u001b[0m\n\u001b[0m",
      "\u001b[1;31mTypeError\u001b[0m: sorted expected 1 argument, got 2"
     ]
    }
   ],
   "source": [
    "sorted([3,4,5,6],[6,8,910])"
   ]
  },
  {
   "cell_type": "code",
   "execution_count": null,
   "id": "385199c7",
   "metadata": {
    "id": "385199c7",
    "outputId": "04693944-7304-4c70-d8fa-c3988c14b248"
   },
   "outputs": [
    {
     "ename": "TypeError",
     "evalue": "find_avg() takes 5 positional arguments but 6 were given",
     "output_type": "error",
     "traceback": [
      "\u001b[1;31m---------------------------------------------------------------------------\u001b[0m",
      "\u001b[1;31mTypeError\u001b[0m                                 Traceback (most recent call last)",
      "\u001b[1;32m~\\AppData\\Local\\Temp/ipykernel_9460/1250520954.py\u001b[0m in \u001b[0;36m<module>\u001b[1;34m\u001b[0m\n\u001b[1;32m----> 1\u001b[1;33m \u001b[0mfind_avg\u001b[0m\u001b[1;33m(\u001b[0m\u001b[1;36m10\u001b[0m\u001b[1;33m,\u001b[0m\u001b[1;36m20\u001b[0m\u001b[1;33m,\u001b[0m\u001b[1;36m30\u001b[0m\u001b[1;33m,\u001b[0m\u001b[1;36m40\u001b[0m\u001b[1;33m,\u001b[0m\u001b[1;36m50\u001b[0m\u001b[1;33m,\u001b[0m\u001b[1;36m60\u001b[0m\u001b[1;33m)\u001b[0m\u001b[1;33m\u001b[0m\u001b[1;33m\u001b[0m\u001b[0m\n\u001b[0m",
      "\u001b[1;31mTypeError\u001b[0m: find_avg() takes 5 positional arguments but 6 were given"
     ]
    }
   ],
   "source": [
    "find_avg(10,20,30,40,50,60)"
   ]
  },
  {
   "cell_type": "code",
   "execution_count": null,
   "id": "9896d680",
   "metadata": {
    "id": "9896d680"
   },
   "outputs": [],
   "source": [
    "#### avg of 5 number using function \n",
    "\n",
    "def find_avg(list1):\n",
    "    avg = sum(list1)/len(list1)\n",
    "    print(avg) \n"
   ]
  },
  {
   "cell_type": "code",
   "execution_count": null,
   "id": "a4f57f49",
   "metadata": {
    "id": "a4f57f49",
    "outputId": "fded9512-f017-4e50-c5be-c319a2f10ad7"
   },
   "outputs": [
    {
     "name": "stdout",
     "output_type": "stream",
     "text": [
      "54.0\n"
     ]
    }
   ],
   "source": [
    "list1 = [23,59,69,65]\n",
    "\n",
    "find_avg(list1)"
   ]
  },
  {
   "cell_type": "code",
   "execution_count": null,
   "id": "d239c75e",
   "metadata": {
    "id": "d239c75e",
    "outputId": "8c5afd6f-3f70-4e51-8ef6-c83da7b04cc2"
   },
   "outputs": [
    {
     "name": "stdout",
     "output_type": "stream",
     "text": [
      "65.66666666666667\n"
     ]
    }
   ],
   "source": [
    "list2 = [34,89,65,45,34,12,78,111,74,34,90,122]\n",
    "find_avg(list2)"
   ]
  },
  {
   "cell_type": "code",
   "execution_count": null,
   "id": "6614f37b",
   "metadata": {
    "id": "6614f37b",
    "outputId": "09d82687-ff5e-419f-b52d-69064a41bef3"
   },
   "outputs": [
    {
     "name": "stdout",
     "output_type": "stream",
     "text": [
      "89 is max\n"
     ]
    }
   ],
   "source": [
    "find_max(34,89,65)"
   ]
  },
  {
   "cell_type": "code",
   "execution_count": null,
   "id": "45d1d601",
   "metadata": {
    "id": "45d1d601"
   },
   "outputs": [],
   "source": [
    "list2 = [34,89,65,45,34,12,78,111,74,34,90,122]\n",
    "\n",
    "even_list =[]\n",
    "odd_list =[]"
   ]
  },
  {
   "cell_type": "code",
   "execution_count": null,
   "id": "f0f1d080",
   "metadata": {
    "id": "f0f1d080"
   },
   "outputs": [],
   "source": [
    "def even_odd(input_list):\n",
    "    even_list =[]\n",
    "    odd_list = []\n",
    "    \n",
    "    for item in input_list:\n",
    "        if item%2 == 0:\n",
    "            even_list.append(item)\n",
    "        else:\n",
    "            odd_list.append(item)\n",
    "    print(f\"EVEN LIST == {even_list}\")\n",
    "    print(f\"ODD LIST == {odd_list}\")\n",
    "    \n",
    "    "
   ]
  },
  {
   "cell_type": "code",
   "execution_count": null,
   "id": "3425f15b",
   "metadata": {
    "id": "3425f15b",
    "outputId": "6768fe4d-75eb-4153-de58-dc856e0855c5"
   },
   "outputs": [
    {
     "name": "stdout",
     "output_type": "stream",
     "text": [
      "EVEN LIST == [34, 34, 12, 78, 74, 34, 90, 122]\n",
      "ODD LIST == [89, 65, 45, 111]\n"
     ]
    }
   ],
   "source": [
    "even_odd([34,89,65,45,34,12,78,111,74,34,90,122])"
   ]
  },
  {
   "cell_type": "code",
   "execution_count": null,
   "id": "e91eea11",
   "metadata": {
    "id": "e91eea11",
    "outputId": "f44d6093-bc16-4ecb-b625-a98321926ee5"
   },
   "outputs": [
    {
     "name": "stdout",
     "output_type": "stream",
     "text": [
      "EVEN LIST == [52454, 1534, 52, 56, 12, 2]\n",
      "ODD LIST == [76567, 7, 23, 87]\n"
     ]
    }
   ],
   "source": [
    "list2 = [76567,52454,1534,7,52,23,56,87,12,2]\n",
    "even_odd(list2)"
   ]
  },
  {
   "cell_type": "code",
   "execution_count": null,
   "id": "fb9dc1eb",
   "metadata": {
    "id": "fb9dc1eb",
    "outputId": "8779f4a9-2af4-447e-d92c-8bb0259092b5"
   },
   "outputs": [
    {
     "name": "stdout",
     "output_type": "stream",
     "text": [
      "EVEN LIST == [25352, 237828, 236256, 232526]\n",
      "ODD LIST == [65253, 8783]\n",
      "EVEN LIST == [324, 4524]\n",
      "ODD LIST == [355, 89, 889, 2535, 8723, 72637]\n",
      "EVEN LIST == [75774, 9889892]\n",
      "ODD LIST == [535, 2737, 42453, 384899]\n"
     ]
    }
   ],
   "source": [
    "list1 =[65253,25352,237828,236256,8783,232526]\n",
    "list2 =[355,324,89,4524,889,2535,8723,72637]\n",
    "list3 =[75774,535,2737,9889892,42453,384899]\n",
    "\n",
    "even_odd(list1)\n",
    "even_odd(list2)\n",
    "even_odd(list3)\n"
   ]
  },
  {
   "cell_type": "code",
   "execution_count": null,
   "id": "cb22c2fe",
   "metadata": {
    "id": "cb22c2fe"
   },
   "outputs": [],
   "source": [
    "def even_odd(input_list):\n",
    "    '''\n",
    "    This function is separting even and odd list\n",
    "    items from given input list\n",
    "    '''\n",
    "    even_list =[int(item) for item in input_list if item%2==0]\n",
    "    odd_list = [item for item in input_list if item%2!=0]\n",
    "    \n",
    "    print(f\"EVEN LIST == {even_list}\")\n",
    "    print(f\"ODD LIST == {odd_list}\")\n",
    "    \n"
   ]
  },
  {
   "cell_type": "code",
   "execution_count": null,
   "id": "a5c9e7ce",
   "metadata": {
    "id": "a5c9e7ce",
    "outputId": "e4af3b51-f454-4938-c80e-4a09eee7574d"
   },
   "outputs": [
    {
     "name": "stdout",
     "output_type": "stream",
     "text": [
      "50 is max\n"
     ]
    }
   ],
   "source": [
    "find_max(20,30,50)"
   ]
  },
  {
   "cell_type": "code",
   "execution_count": null,
   "id": "77edb309",
   "metadata": {
    "id": "77edb309",
    "outputId": "bf78381f-15ee-4560-a09d-9355049856b9"
   },
   "outputs": [
    {
     "name": "stdout",
     "output_type": "stream",
     "text": [
      "178 is max\n",
      "178 is max\n"
     ]
    }
   ],
   "source": [
    "no1 = 178\n",
    "no2 = 67\n",
    "no3 = 56\n",
    "\n",
    "find_max(no1,no2,no3) \n",
    "find_max(178,67,56)"
   ]
  },
  {
   "cell_type": "code",
   "execution_count": null,
   "id": "7a7e67c4",
   "metadata": {
    "id": "7a7e67c4",
    "outputId": "bf63b401-586d-4558-cf26-ecf66450c635"
   },
   "outputs": [
    {
     "name": "stdout",
     "output_type": "stream",
     "text": [
      "EVEN LIST == [25352, 237828, 236256, 232526]\n",
      "ODD LIST == [65253, 8783]\n"
     ]
    }
   ],
   "source": [
    "even_odd([65253,25352,237828,236256,8783,232526])"
   ]
  },
  {
   "cell_type": "code",
   "execution_count": null,
   "id": "58889eec",
   "metadata": {
    "id": "58889eec",
    "outputId": "b84fa7b4-c25e-4a84-fee3-5e2a467079b8"
   },
   "outputs": [
    {
     "name": "stdout",
     "output_type": "stream",
     "text": [
      "EVEN LIST == [25352, 237828, 236256, 232526]\n",
      "ODD LIST == [65253, 8783]\n"
     ]
    }
   ],
   "source": [
    "list1 = [65253,25352,237828,236256,8783,232526]\n",
    "even_odd(list1)"
   ]
  },
  {
   "cell_type": "code",
   "execution_count": null,
   "id": "139941b3",
   "metadata": {
    "id": "139941b3"
   },
   "outputs": [],
   "source": [
    "def find_max(no1,no2,no3): ## nno1,no2,no3 are parameters \n",
    "    ## this function is for finding out the max number\n",
    "    \n",
    "    if no1 > no2 and no1 > no3:\n",
    "        print(f\"{no1} is max\")\n",
    "    if no2 > no3 and no2 > no1:\n",
    "        print(f\"{no2} is max\")\n",
    "    if no3 > no2 and no3 > no1:\n",
    "        print(f\"{no3} is max\")\n",
    "    \n",
    "find_max(23,25,89) ## mapping no1 = 23 , no2 = 25 , no3 89"
   ]
  },
  {
   "cell_type": "code",
   "execution_count": null,
   "id": "6c4869a6",
   "metadata": {
    "id": "6c4869a6"
   },
   "outputs": [],
   "source": [
    "number1 = 78\n",
    "number2 = 45\n",
    "number3 = 90\n",
    "\n",
    "find_max(number1,number2,number3) #### number1 == no1, number2 == no2, number3 == no3"
   ]
  },
  {
   "cell_type": "code",
   "execution_count": null,
   "id": "ad7608a6",
   "metadata": {
    "id": "ad7608a6"
   },
   "outputs": [],
   "source": [
    "n1 = 78\n",
    "n2 = 45\n",
    "n3 = 90\n",
    "\n",
    "find_max(n1,n2,n3) #### n1 == no1, n2 == no2, n3 == no3"
   ]
  },
  {
   "cell_type": "code",
   "execution_count": null,
   "id": "eca7e6cc",
   "metadata": {
    "id": "eca7e6cc"
   },
   "outputs": [],
   "source": []
  },
  {
   "cell_type": "code",
   "execution_count": null,
   "id": "444fd477",
   "metadata": {
    "id": "444fd477",
    "outputId": "dff5df66-3ace-4f3a-dd59-1c84d81c8676"
   },
   "outputs": [
    {
     "name": "stdout",
     "output_type": "stream",
     "text": [
      "78 45 56 89\n",
      "['78', '45', '56', '89']\n",
      "EVEN LIST == [78, 56]\n",
      "ODD LIST == [45, 89]\n"
     ]
    }
   ],
   "source": [
    "var = input().split()\n",
    "print(var)\n",
    "\n",
    "even_odd(var)"
   ]
  },
  {
   "cell_type": "code",
   "execution_count": null,
   "id": "a0385168",
   "metadata": {
    "id": "a0385168"
   },
   "outputs": [],
   "source": [
    "def even_odd(input_list):\n",
    "    '''\n",
    "    This function is separting even and odd list\n",
    "    items from given input list\n",
    "    '''\n",
    "    even_list =[int(item) for item in input_list if int(item)%2==0]\n",
    "    odd_list = [int(item) for item in input_list if int(item)%2!=0]\n",
    "    \n",
    "    print(f\"EVEN LIST == {even_list}\")\n",
    "    print(f\"ODD LIST == {odd_list}\")\n",
    "    \n"
   ]
  },
  {
   "cell_type": "code",
   "execution_count": null,
   "id": "12b6585a",
   "metadata": {
    "id": "12b6585a"
   },
   "outputs": [],
   "source": []
  }
 ],
 "metadata": {
  "colab": {
   "name": "function.ipynb",
   "provenance": []
  },
  "kernelspec": {
   "display_name": "Python 3 (ipykernel)",
   "language": "python",
   "name": "python3"
  },
  "language_info": {
   "codemirror_mode": {
    "name": "ipython",
    "version": 3
   },
   "file_extension": ".py",
   "mimetype": "text/x-python",
   "name": "python",
   "nbconvert_exporter": "python",
   "pygments_lexer": "ipython3",
   "version": "3.9.7"
  }
 },
 "nbformat": 4,
 "nbformat_minor": 5
}
