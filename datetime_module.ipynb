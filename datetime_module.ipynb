{
 "cells": [
  {
   "cell_type": "code",
   "execution_count": null,
   "id": "f335f91a-166e-4f06-ab08-2256cfdb2b85",
   "metadata": {
    "id": "f335f91a-166e-4f06-ab08-2256cfdb2b85"
   },
   "outputs": [],
   "source": [
    "time ###\n",
    "datetime"
   ]
  },
  {
   "cell_type": "code",
   "execution_count": null,
   "id": "3c5af0a2-0ea2-4a12-b09c-7ab442bca92e",
   "metadata": {
    "id": "3c5af0a2-0ea2-4a12-b09c-7ab442bca92e"
   },
   "outputs": [],
   "source": [
    "import time\n",
    "import datetime"
   ]
  },
  {
   "cell_type": "code",
   "execution_count": null,
   "id": "5417682e-711d-42d9-ae79-0c47f7b3f58c",
   "metadata": {
    "id": "5417682e-711d-42d9-ae79-0c47f7b3f58c",
    "outputId": "50c79b1a-3244-4221-b833-1da5f9ebf04d"
   },
   "outputs": [
    {
     "name": "stdout",
     "output_type": "stream",
     "text": [
      "Wall time: 0 ns\n"
     ]
    }
   ],
   "source": [
    "%%time\n",
    "for i in range(10000):\n",
    "    # print(i)\n",
    "    pass"
   ]
  },
  {
   "cell_type": "code",
   "execution_count": null,
   "id": "9464996f-7ae8-4981-bd1c-058edf721699",
   "metadata": {
    "id": "9464996f-7ae8-4981-bd1c-058edf721699",
    "outputId": "013138db-fc41-4a70-cb16-4e38d255fe6f"
   },
   "outputs": [
    {
     "name": "stdout",
     "output_type": "stream",
     "text": [
      "Wall time: 105 ms\n"
     ]
    }
   ],
   "source": [
    "%%time\n",
    "for i in range(1000000):\n",
    "    # print(i)\n",
    "    pass"
   ]
  },
  {
   "cell_type": "code",
   "execution_count": null,
   "id": "fae1031e-70f9-4ffb-9728-66579f9f307f",
   "metadata": {
    "id": "fae1031e-70f9-4ffb-9728-66579f9f307f",
    "outputId": "a10841b8-f195-49ec-edd3-03474159d2ba"
   },
   "outputs": [
    {
     "name": "stdout",
     "output_type": "stream",
     "text": [
      "Wall time: 4.48 s\n"
     ]
    }
   ],
   "source": [
    "%%time\n",
    "for i in range(100000000):\n",
    "    # print(i)\n",
    "    pass"
   ]
  },
  {
   "cell_type": "code",
   "execution_count": null,
   "id": "35c3185e-8900-4e7a-9916-371f5a8284e4",
   "metadata": {
    "id": "35c3185e-8900-4e7a-9916-371f5a8284e4",
    "outputId": "0a98ea36-e86c-4a37-9799-91bfaccadf57"
   },
   "outputs": [
    {
     "name": "stdout",
     "output_type": "stream",
     "text": [
      "Wall time: 1min 2s\n"
     ]
    }
   ],
   "source": [
    "%%time\n",
    "for i in range(1000000000):\n",
    "    # print(i)\n",
    "    pass"
   ]
  },
  {
   "cell_type": "code",
   "execution_count": null,
   "id": "8e3459b7-eab8-4d1d-980f-9abb9cd083ff",
   "metadata": {
    "id": "8e3459b7-eab8-4d1d-980f-9abb9cd083ff",
    "outputId": "17fba69d-6e44-4a98-c35d-c47bd606fe92"
   },
   "outputs": [
    {
     "name": "stdout",
     "output_type": "stream",
     "text": [
      "Hello\n",
      "0.0005993843078613281\n"
     ]
    }
   ],
   "source": [
    "start_time = time.time()\n",
    "print(\"Hello\")\n",
    "end_time = time.time()\n",
    "print(end_time-start_time)"
   ]
  },
  {
   "cell_type": "code",
   "execution_count": null,
   "id": "84d01b54-6605-44f3-9a46-b2c303dbabf9",
   "metadata": {
    "id": "84d01b54-6605-44f3-9a46-b2c303dbabf9",
    "outputId": "9b690c03-5ba3-43e1-8db5-470e9e749031"
   },
   "outputs": [
    {
     "name": "stdout",
     "output_type": "stream",
     "text": [
      "1646402032.702918\n",
      "Hello\n",
      "1646402032.702918\n",
      "0.0\n"
     ]
    }
   ],
   "source": [
    "start_time = time.time()\n",
    "print(start_time)\n",
    "print(\"Hello\")\n",
    "end_time = time.time()\n",
    "print(end_time)\n",
    "print(end_time-start_time)"
   ]
  },
  {
   "cell_type": "code",
   "execution_count": null,
   "id": "611b7adf-29f1-4de7-b6e6-d7f6cea17d33",
   "metadata": {
    "id": "611b7adf-29f1-4de7-b6e6-d7f6cea17d33"
   },
   "outputs": [],
   "source": [
    "unix system started at 1 jan 1970"
   ]
  },
  {
   "cell_type": "code",
   "execution_count": null,
   "id": "afdd6b0a-4323-4250-8e53-902adacc66a4",
   "metadata": {
    "id": "afdd6b0a-4323-4250-8e53-902adacc66a4"
   },
   "outputs": [],
   "source": []
  },
  {
   "cell_type": "code",
   "execution_count": null,
   "id": "e9bf421b-8b70-4285-8518-8975b06a39d8",
   "metadata": {
    "id": "e9bf421b-8b70-4285-8518-8975b06a39d8",
    "outputId": "0c786fac-cf75-4a68-e35e-7e42ea3c540a"
   },
   "outputs": [
    {
     "name": "stdout",
     "output_type": "stream",
     "text": [
      "1646402157.0260043\n",
      "1646402157.120825\n",
      "0.09482073783874512\n"
     ]
    }
   ],
   "source": [
    "start_time = time.time()\n",
    "print(start_time)\n",
    "for i in range(1000000):\n",
    "    # print(i)\n",
    "    pass\n",
    "end_time = time.time()\n",
    "print(end_time)\n",
    "print(end_time-start_time)"
   ]
  },
  {
   "cell_type": "code",
   "execution_count": null,
   "id": "bbcc9c9b-1ffc-481c-a589-2486e14fe184",
   "metadata": {
    "id": "bbcc9c9b-1ffc-481c-a589-2486e14fe184",
    "outputId": "2724dc65-5321-4908-b3f7-8147c3689dea"
   },
   "outputs": [
    {
     "name": "stdout",
     "output_type": "stream",
     "text": [
      "1646402283.2809896\n",
      "1646402288.5239022\n",
      "execution time: 5.242912530899048\n"
     ]
    }
   ],
   "source": [
    "start_time = time.time()\n",
    "print(start_time)\n",
    "for i in range(100000000):\n",
    "    # print(i)\n",
    "    pass\n",
    "end_time = time.time()\n",
    "print(end_time)\n",
    "print(\"execution time:\",end_time-start_time)"
   ]
  },
  {
   "cell_type": "code",
   "execution_count": null,
   "id": "1e413b04-3bb8-45b4-918b-3443c1a43447",
   "metadata": {
    "id": "1e413b04-3bb8-45b4-918b-3443c1a43447",
    "outputId": "e7de4c80-77f6-412c-e9c9-b151432b70ee"
   },
   "outputs": [
    {
     "name": "stdout",
     "output_type": "stream",
     "text": [
      "Wall time: 119 ms\n"
     ]
    }
   ],
   "source": [
    "%%time\n",
    "for i in range(1000000):\n",
    "    # print(i)\n",
    "    pass\n",
    "for i in range(100000):\n",
    "    pass"
   ]
  },
  {
   "cell_type": "code",
   "execution_count": null,
   "id": "5bf69f8b-cf75-4919-b4c6-74a761c5135a",
   "metadata": {
    "id": "5bf69f8b-cf75-4919-b4c6-74a761c5135a",
    "outputId": "26181279-339d-4f73-a413-b1003628c6ec"
   },
   "outputs": [
    {
     "name": "stdout",
     "output_type": "stream",
     "text": [
      "Wall time: 5.08 s\n"
     ]
    }
   ],
   "source": [
    "%%time\n",
    "for i in range(100000000):\n",
    "    # print(i)\n",
    "    pass\n"
   ]
  },
  {
   "cell_type": "code",
   "execution_count": null,
   "id": "5786381b-e967-47ca-9e1d-af48f9fc13ad",
   "metadata": {
    "id": "5786381b-e967-47ca-9e1d-af48f9fc13ad",
    "outputId": "f7b2bc18-17a6-42b4-a091-8abb41a921a8"
   },
   "outputs": [
    {
     "name": "stdout",
     "output_type": "stream",
     "text": [
      "1646402433.8872824\n",
      "1646402439.8217666\n",
      "execution time: 5.934484243392944\n"
     ]
    }
   ],
   "source": [
    "start_time = time.time()\n",
    "print(start_time)\n",
    "for i in range(100000000):\n",
    "    # print(i)\n",
    "    pass\n",
    "end_time = time.time()\n",
    "print(end_time)\n",
    "print(\"execution time:\",end_time-start_time)"
   ]
  },
  {
   "cell_type": "code",
   "execution_count": null,
   "id": "d4d265ff-c114-4626-b2dc-a1896493b5a9",
   "metadata": {
    "id": "d4d265ff-c114-4626-b2dc-a1896493b5a9",
    "outputId": "3bb75474-8adb-4685-ec1b-d16f02d373c7"
   },
   "outputs": [
    {
     "name": "stdout",
     "output_type": "stream",
     "text": [
      "1646402529.4425778\n",
      "1646402529.4434402\n",
      "execution time: 0.0008623600006103516\n"
     ]
    }
   ],
   "source": [
    "start_time = time.time()\n",
    "print(start_time)\n",
    "\n",
    "\n",
    "def my_fun():\n",
    "    for i in range(100000):\n",
    "        pass\n",
    "\n",
    "\n",
    "end_time = time.time()\n",
    "print(end_time)\n",
    "print(\"execution time:\",end_time-start_time)"
   ]
  },
  {
   "cell_type": "code",
   "execution_count": null,
   "id": "b9dcd770-dcff-4eb1-a074-bdb9b73500cb",
   "metadata": {
    "id": "b9dcd770-dcff-4eb1-a074-bdb9b73500cb",
    "outputId": "6e3c6eb5-c9f2-4a65-bb0a-f0efcdac8ba0"
   },
   "outputs": [
    {
     "name": "stdout",
     "output_type": "stream",
     "text": [
      "1646402556.2356255\n",
      "1646402556.2416096\n",
      "execution time: 0.005984067916870117\n"
     ]
    }
   ],
   "source": [
    "start_time = time.time()\n",
    "print(start_time)\n",
    "\n",
    "\n",
    "def my_fun():\n",
    "    for i in range(100000):\n",
    "        pass\n",
    "\n",
    "my_fun()\n",
    "\n",
    "\n",
    "end_time = time.time()\n",
    "print(end_time)\n",
    "print(\"execution time:\",end_time-start_time)"
   ]
  },
  {
   "cell_type": "code",
   "execution_count": null,
   "id": "21f6770e-0c7b-4668-b5ee-33e875c80236",
   "metadata": {
    "id": "21f6770e-0c7b-4668-b5ee-33e875c80236",
    "outputId": "668fab44-4699-44cd-99b6-0dc979b7bc75"
   },
   "outputs": [
    {
     "name": "stdout",
     "output_type": "stream",
     "text": [
      "1646402724.8444564\n"
     ]
    }
   ],
   "source": [
    "var = time.time() # It will return the seconds from UTC epoch (1 jan 1970)\n",
    "print(var)"
   ]
  },
  {
   "cell_type": "code",
   "execution_count": null,
   "id": "8e0d4f99-328a-4443-aa23-318cff5fd028",
   "metadata": {
    "id": "8e0d4f99-328a-4443-aa23-318cff5fd028",
    "outputId": "e8544a25-3aa0-4376-d618-3acc7b44e16b"
   },
   "outputs": [
    {
     "name": "stdout",
     "output_type": "stream",
     "text": [
      "0.33553409576416016\n"
     ]
    }
   ],
   "source": [
    "start_time = time.time()\n",
    "\n",
    "####################\n",
    "# code for 150 lines\n",
    "##################\n",
    "def my_fun():\n",
    "    for i in range(10000000):\n",
    "        pass\n",
    "\n",
    "my_fun()\n",
    "\n",
    "end_time = time.time()\n",
    "\n",
    "execution_time = end_time- start_time\n",
    "print(execution_time)"
   ]
  },
  {
   "cell_type": "code",
   "execution_count": null,
   "id": "e66f6ba6-c7e1-4b3c-a434-5c403a479e80",
   "metadata": {
    "id": "e66f6ba6-c7e1-4b3c-a434-5c403a479e80",
    "outputId": "178198ec-8fb8-4678-b507-00f78cba92a0"
   },
   "outputs": [
    {
     "name": "stdout",
     "output_type": "stream",
     "text": [
      "Wall time: 369 ms\n"
     ]
    }
   ],
   "source": [
    "%%time\n",
    "def my_fun():\n",
    "    for i in range(10000000):\n",
    "        pass\n",
    "\n",
    "my_fun()"
   ]
  },
  {
   "cell_type": "markdown",
   "id": "05505d39-1fab-4a9c-8141-c1d1ca436924",
   "metadata": {
    "id": "05505d39-1fab-4a9c-8141-c1d1ca436924"
   },
   "source": [
    "## time.ctime()"
   ]
  },
  {
   "cell_type": "code",
   "execution_count": null,
   "id": "a525550a-1ca0-4d97-8bc3-21d5257fd2aa",
   "metadata": {
    "id": "a525550a-1ca0-4d97-8bc3-21d5257fd2aa"
   },
   "outputs": [],
   "source": [
    "it will return the current time but it require the argument as seconds \n",
    "\n",
    "syntax:\n",
    "time.ctime(seconds)"
   ]
  },
  {
   "cell_type": "code",
   "execution_count": null,
   "id": "bb97c1a8-ed4c-40ab-b262-07c03be31e84",
   "metadata": {
    "id": "bb97c1a8-ed4c-40ab-b262-07c03be31e84",
    "outputId": "d7fb3f49-8222-4d4a-eda4-7e2848ae220a"
   },
   "outputs": [
    {
     "name": "stdout",
     "output_type": "stream",
     "text": [
      "1646403098.1740892\n"
     ]
    },
    {
     "data": {
      "text/plain": [
       "'Fri Mar  4 19:41:38 2022'"
      ]
     },
     "execution_count": 30,
     "metadata": {},
     "output_type": "execute_result"
    }
   ],
   "source": [
    "current_time = time.time()\n",
    "print(current_time)\n",
    "time.ctime(current_time)"
   ]
  },
  {
   "cell_type": "code",
   "execution_count": null,
   "id": "4ebed106-ed47-430a-8a0a-f63d46720e4d",
   "metadata": {
    "id": "4ebed106-ed47-430a-8a0a-f63d46720e4d",
    "outputId": "30c7d0f5-690f-4717-fb56-993e5d7c4733"
   },
   "outputs": [
    {
     "name": "stdout",
     "output_type": "stream",
     "text": [
      "1646402556.2356255\n"
     ]
    },
    {
     "data": {
      "text/plain": [
       "'Fri Mar  4 19:32:36 2022'"
      ]
     },
     "execution_count": 31,
     "metadata": {},
     "output_type": "execute_result"
    }
   ],
   "source": [
    "current_time = 1646402556.2356255\n",
    "print(current_time)\n",
    "time.ctime(current_time)"
   ]
  },
  {
   "cell_type": "code",
   "execution_count": null,
   "id": "24b7c976-f4bd-4fb7-abd8-c102c6343578",
   "metadata": {
    "id": "24b7c976-f4bd-4fb7-abd8-c102c6343578",
    "outputId": "b9f7bbe6-e84f-45bf-a6c2-8ad77e31e1dd"
   },
   "outputs": [
    {
     "name": "stdout",
     "output_type": "stream",
     "text": [
      "1643402556.2356255\n"
     ]
    },
    {
     "data": {
      "text/plain": [
       "'Sat Jan 29 02:12:36 2022'"
      ]
     },
     "execution_count": 32,
     "metadata": {},
     "output_type": "execute_result"
    }
   ],
   "source": [
    "current_time = 1643402556.2356255\n",
    "print(current_time)\n",
    "time.ctime(current_time)"
   ]
  },
  {
   "cell_type": "code",
   "execution_count": null,
   "id": "a3d980d3-1492-43a8-8476-81faf27d5dc5",
   "metadata": {
    "id": "a3d980d3-1492-43a8-8476-81faf27d5dc5",
    "outputId": "62192f1d-6b7a-4592-dd26-c45e2ca49ef9"
   },
   "outputs": [
    {
     "name": "stdout",
     "output_type": "stream",
     "text": [
      "1642402556.2356255\n",
      "Mon Jan 17 12:25:56 2022\n"
     ]
    }
   ],
   "source": [
    "current_time = 1642402556.2356255\n",
    "print(current_time)\n",
    "local_time = time.ctime(current_time)\n",
    "print(local_time)"
   ]
  },
  {
   "cell_type": "code",
   "execution_count": null,
   "id": "dc2cf797-29d1-4733-9290-c778062f2990",
   "metadata": {
    "id": "dc2cf797-29d1-4733-9290-c778062f2990",
    "outputId": "dd2fa2b3-a27e-49bc-8b76-12963db8da76"
   },
   "outputs": [
    {
     "name": "stdout",
     "output_type": "stream",
     "text": [
      "Fri Mar  4 19:44:23 2022\n"
     ]
    }
   ],
   "source": [
    "\n",
    "local_time = time.ctime(time.time())\n",
    "print(local_time)"
   ]
  },
  {
   "cell_type": "code",
   "execution_count": null,
   "id": "c26103eb-a3a5-4b14-acd1-8e14e7dc801e",
   "metadata": {
    "id": "c26103eb-a3a5-4b14-acd1-8e14e7dc801e",
    "outputId": "7651a293-53f7-4ede-a33b-2f1aed9f4d1b"
   },
   "outputs": [
    {
     "name": "stdout",
     "output_type": "stream",
     "text": [
      "0\n",
      "Thu Jan  1 05:30:00 1970\n"
     ]
    }
   ],
   "source": [
    "current_time = 0\n",
    "print(current_time)\n",
    "local_time = time.ctime(current_time)\n",
    "print(local_time)"
   ]
  },
  {
   "cell_type": "markdown",
   "id": "3bc975e9-6677-473c-8dc5-2a5905e6f786",
   "metadata": {
    "id": "3bc975e9-6677-473c-8dc5-2a5905e6f786"
   },
   "source": [
    "### time.localtime()"
   ]
  },
  {
   "cell_type": "code",
   "execution_count": null,
   "id": "6c180f29-bd7a-44cd-8c91-a076f83a60ce",
   "metadata": {
    "id": "6c180f29-bd7a-44cd-8c91-a076f83a60ce"
   },
   "outputs": [],
   "source": [
    "It will return local time but format will be different \n",
    "It also required argument as seconds\n",
    "\n",
    "syntax\n",
    "time.localtime(seconds)"
   ]
  },
  {
   "cell_type": "code",
   "execution_count": null,
   "id": "6b7067d8-8db2-40c3-9339-45723610abea",
   "metadata": {
    "id": "6b7067d8-8db2-40c3-9339-45723610abea",
    "outputId": "e2673f0c-f506-490e-9681-9b1d4490193b"
   },
   "outputs": [
    {
     "name": "stdout",
     "output_type": "stream",
     "text": [
      "time.struct_time(tm_year=2022, tm_mon=3, tm_mday=4, tm_hour=19, tm_min=47, tm_sec=32, tm_wday=4, tm_yday=63, tm_isdst=0)\n"
     ]
    }
   ],
   "source": [
    "\n",
    "local_time = time.localtime(time.time())\n",
    "print(local_time)"
   ]
  },
  {
   "cell_type": "markdown",
   "id": "c205670e-9780-4f8a-8f8e-e67cff96d0e1",
   "metadata": {
    "id": "c205670e-9780-4f8a-8f8e-e67cff96d0e1"
   },
   "source": [
    "## time.perf_counter()"
   ]
  },
  {
   "cell_type": "code",
   "execution_count": null,
   "id": "772256f4-8787-4dca-9677-44f49a30eea7",
   "metadata": {
    "id": "772256f4-8787-4dca-9677-44f49a30eea7",
    "outputId": "5aafd330-18a1-49f6-e91a-c4dca80a26e1"
   },
   "outputs": [
    {
     "name": "stdout",
     "output_type": "stream",
     "text": [
      "1885.6710121\n",
      "1886.0443611\n",
      "TOTAL time== 0.37334899999996196\n"
     ]
    }
   ],
   "source": [
    "start_time = time.perf_counter()\n",
    "print(start_time)\n",
    "\n",
    "def my_fun():\n",
    "    for i in range(10000000):\n",
    "        pass\n",
    "\n",
    "my_fun()\n",
    "\n",
    "\n",
    "end_time = time.perf_counter()\n",
    "\n",
    "print(end_time)\n",
    "\n",
    "print(\"TOTAL time==\",end_time-start_time)\n"
   ]
  },
  {
   "cell_type": "code",
   "execution_count": null,
   "id": "2f040c31-261a-470e-88ac-4fba0469b952",
   "metadata": {
    "id": "2f040c31-261a-470e-88ac-4fba0469b952",
    "outputId": "ef36a9a6-7bc8-436a-fea0-0b2a6b9830c3"
   },
   "outputs": [
    {
     "name": "stdout",
     "output_type": "stream",
     "text": [
      "1918.1061733\n",
      "1919.6711439\n",
      "TOTAL time== 1.5649706000001515\n"
     ]
    }
   ],
   "source": [
    "start_time = time.perf_counter()\n",
    "print(start_time)\n",
    "\n",
    "def my_fun():\n",
    "    for i in range(10000000):\n",
    "        pass\n",
    "\n",
    "my_fun()\n",
    "my_fun()\n",
    "my_fun()\n",
    "\n",
    "my_fun()\n",
    "my_fun()\n",
    "\n",
    "\n",
    "end_time = time.perf_counter()\n",
    "\n",
    "print(end_time)\n",
    "\n",
    "print(\"TOTAL time==\",end_time-start_time)\n"
   ]
  },
  {
   "cell_type": "markdown",
   "id": "b0369729-866f-4a1e-85a6-c73524c8e93c",
   "metadata": {
    "id": "b0369729-866f-4a1e-85a6-c73524c8e93c"
   },
   "source": [
    "## time.sleep()"
   ]
  },
  {
   "cell_type": "code",
   "execution_count": null,
   "id": "505bbf0c-b071-40de-b949-c0c68e4836bf",
   "metadata": {
    "id": "505bbf0c-b071-40de-b949-c0c68e4836bf"
   },
   "outputs": [],
   "source": [
    "it will suspend operation for the time we giving to this function.\n",
    "we pass seconds as argument \n",
    "\n",
    "syntax:\n",
    "    time.sleep(seconds)"
   ]
  },
  {
   "cell_type": "code",
   "execution_count": null,
   "id": "9928d370-8cc7-41c2-92e6-e9376f64abcf",
   "metadata": {
    "id": "9928d370-8cc7-41c2-92e6-e9376f64abcf",
    "outputId": "9124c93e-11de-45b0-d320-c2e085401a7c"
   },
   "outputs": [
    {
     "name": "stdout",
     "output_type": "stream",
     "text": [
      "Pune\n",
      "mumbai\n",
      "delhi\n",
      "chennai\n",
      "hyderabad\n",
      "Wall time: 15 s\n"
     ]
    }
   ],
   "source": [
    "%%time\n",
    "\n",
    "city_name=['Pune','mumbai','delhi','chennai','hyderabad']\n",
    "for city in city_name:\n",
    "    print(city)\n",
    "    time.sleep(3) ## suspend operations for 3 seconds"
   ]
  },
  {
   "cell_type": "code",
   "execution_count": null,
   "id": "1377d7e6-4ede-495e-a939-2f0b1425ebf7",
   "metadata": {
    "id": "1377d7e6-4ede-495e-a939-2f0b1425ebf7",
    "outputId": "4376e7c0-6f03-4a04-f818-6d1f58d55f16"
   },
   "outputs": [
    {
     "name": "stdout",
     "output_type": "stream",
     "text": [
      "Pune\n",
      "mumbai\n",
      "delhi\n",
      "chennai\n",
      "hyderabad\n",
      "We have printed all cities\n",
      "Wall time: 3.02 s\n"
     ]
    }
   ],
   "source": [
    "%%time\n",
    "\n",
    "city_name=['Pune','mumbai','delhi','chennai','hyderabad']\n",
    "for city in city_name:\n",
    "    print(city)\n",
    "time.sleep(3) ## suspend operations for 3 seconds\n",
    "print(\"We have printed all cities\")"
   ]
  },
  {
   "cell_type": "markdown",
   "id": "83179715-3804-4533-b770-009bddee9931",
   "metadata": {
    "id": "83179715-3804-4533-b770-009bddee9931"
   },
   "source": [
    "# datetime"
   ]
  },
  {
   "cell_type": "code",
   "execution_count": null,
   "id": "27ae76dc-e907-4718-81c5-fb45b780a589",
   "metadata": {
    "id": "27ae76dc-e907-4718-81c5-fb45b780a589"
   },
   "outputs": [],
   "source": [
    "04-03-2022\n",
    "04 mar 2022\n",
    "2022-03-04\n",
    "04/03/2022\n",
    "mar 04 2022"
   ]
  },
  {
   "cell_type": "markdown",
   "id": "9e05bc7c-a647-41f7-9fbf-5add03dcb964",
   "metadata": {
    "id": "9e05bc7c-a647-41f7-9fbf-5add03dcb964"
   },
   "source": [
    "# 1. current date"
   ]
  },
  {
   "cell_type": "code",
   "execution_count": 2,
   "id": "9c4772dd-3ab3-46c4-9622-63bd9865661e",
   "metadata": {
    "colab": {
     "base_uri": "https://localhost:8080/"
    },
    "executionInfo": {
     "elapsed": 25,
     "status": "ok",
     "timestamp": 1646457524434,
     "user": {
      "displayName": "ganesh thombre",
      "photoUrl": "https://lh3.googleusercontent.com/a-/AOh14GgBNZlPo0pNoLAl1I-5a9QBt4PGCqHyfB8k_AAx2l0=s64",
      "userId": "00232612742108951698"
     },
     "user_tz": -330
    },
    "id": "9c4772dd-3ab3-46c4-9622-63bd9865661e",
    "outputId": "32311e08-4c10-4f56-c9a4-4daefda3c847"
   },
   "outputs": [
    {
     "name": "stdout",
     "output_type": "stream",
     "text": [
      "2022-03-05 05:18:43.777980\n"
     ]
    }
   ],
   "source": [
    "import datetime \n",
    "today_date = datetime.datetime.now()\n",
    "print(today_date)"
   ]
  },
  {
   "cell_type": "code",
   "execution_count": 3,
   "id": "8aff0aae-9a45-4a22-92c0-9134116be9fc",
   "metadata": {
    "colab": {
     "base_uri": "https://localhost:8080/"
    },
    "executionInfo": {
     "elapsed": 392,
     "status": "ok",
     "timestamp": 1646457527600,
     "user": {
      "displayName": "ganesh thombre",
      "photoUrl": "https://lh3.googleusercontent.com/a-/AOh14GgBNZlPo0pNoLAl1I-5a9QBt4PGCqHyfB8k_AAx2l0=s64",
      "userId": "00232612742108951698"
     },
     "user_tz": -330
    },
    "id": "8aff0aae-9a45-4a22-92c0-9134116be9fc",
    "outputId": "1715e8b3-4d17-432b-a1ce-62b1bde26e0b"
   },
   "outputs": [
    {
     "name": "stdout",
     "output_type": "stream",
     "text": [
      "2022-03-05 05:18:46.736078\n"
     ]
    }
   ],
   "source": [
    "import datetime \n",
    "today_date = datetime.datetime.today()\n",
    "print(today_date)"
   ]
  },
  {
   "cell_type": "code",
   "execution_count": null,
   "id": "912df89d-ef3d-43ec-89fa-08657170c70f",
   "metadata": {
    "id": "912df89d-ef3d-43ec-89fa-08657170c70f",
    "outputId": "a7fd2f56-4ff1-463f-d5a2-eecd43fdcc32"
   },
   "outputs": [
    {
     "name": "stdout",
     "output_type": "stream",
     "text": [
      "<class 'datetime.datetime'>\n"
     ]
    }
   ],
   "source": []
  },
  {
   "cell_type": "code",
   "execution_count": null,
   "id": "423de1ee-bf48-41ba-97fc-8a0a60de09ee",
   "metadata": {
    "id": "423de1ee-bf48-41ba-97fc-8a0a60de09ee",
    "outputId": "7e504e4e-9e11-4426-ff0e-9dabf4e4e4bd"
   },
   "outputs": [
    {
     "data": {
      "text/plain": [
       "2022"
      ]
     },
     "execution_count": 49,
     "metadata": {},
     "output_type": "execute_result"
    }
   ],
   "source": [
    "today_date.year"
   ]
  },
  {
   "cell_type": "code",
   "execution_count": null,
   "id": "d31e30e7-3f04-4619-bbc3-804de97ba5fa",
   "metadata": {
    "id": "d31e30e7-3f04-4619-bbc3-804de97ba5fa",
    "outputId": "6bb7e498-09b2-42ea-9d40-e1cf0cf5ff6b"
   },
   "outputs": [
    {
     "data": {
      "text/plain": [
       "3"
      ]
     },
     "execution_count": 50,
     "metadata": {},
     "output_type": "execute_result"
    }
   ],
   "source": [
    "today_date.month"
   ]
  },
  {
   "cell_type": "code",
   "execution_count": null,
   "id": "59306e29-ead4-45be-a291-032490e2a0db",
   "metadata": {
    "id": "59306e29-ead4-45be-a291-032490e2a0db",
    "outputId": "65497ba0-f864-4034-92b0-b13345e200b5"
   },
   "outputs": [
    {
     "data": {
      "text/plain": [
       "4"
      ]
     },
     "execution_count": 51,
     "metadata": {},
     "output_type": "execute_result"
    }
   ],
   "source": [
    "today_date.day"
   ]
  },
  {
   "cell_type": "code",
   "execution_count": null,
   "id": "ddd3a40c-7f16-45c6-8be8-dc9b7f82674d",
   "metadata": {
    "id": "ddd3a40c-7f16-45c6-8be8-dc9b7f82674d",
    "outputId": "6a9be37e-8c67-4ece-c8db-1c00e60954f7"
   },
   "outputs": [
    {
     "data": {
      "text/plain": [
       "20"
      ]
     },
     "execution_count": 56,
     "metadata": {},
     "output_type": "execute_result"
    }
   ],
   "source": [
    "today_date.hour"
   ]
  },
  {
   "cell_type": "code",
   "execution_count": null,
   "id": "19f44833-3165-4bf8-bfa6-bb8d080103da",
   "metadata": {
    "id": "19f44833-3165-4bf8-bfa6-bb8d080103da",
    "outputId": "b03bc2a8-ff9b-4a17-eff8-faafee5020e5"
   },
   "outputs": [
    {
     "data": {
      "text/plain": [
       "4"
      ]
     },
     "execution_count": 53,
     "metadata": {},
     "output_type": "execute_result"
    }
   ],
   "source": [
    "today_date.minute"
   ]
  },
  {
   "cell_type": "code",
   "execution_count": 5,
   "id": "68eb5dac-cac1-431e-bdc4-9f40e0a998b4",
   "metadata": {
    "colab": {
     "base_uri": "https://localhost:8080/"
    },
    "executionInfo": {
     "elapsed": 423,
     "status": "ok",
     "timestamp": 1646457547807,
     "user": {
      "displayName": "ganesh thombre",
      "photoUrl": "https://lh3.googleusercontent.com/a-/AOh14GgBNZlPo0pNoLAl1I-5a9QBt4PGCqHyfB8k_AAx2l0=s64",
      "userId": "00232612742108951698"
     },
     "user_tz": -330
    },
    "id": "68eb5dac-cac1-431e-bdc4-9f40e0a998b4",
    "outputId": "32680fb2-bcec-4ab6-9955-be425ed9d87e"
   },
   "outputs": [
    {
     "name": "stdout",
     "output_type": "stream",
     "text": [
      "2022-03-05\n"
     ]
    }
   ],
   "source": [
    "today_date.date()"
   ]
  },
  {
   "cell_type": "code",
   "execution_count": null,
   "id": "77e70e4b-0206-4873-b620-a034b47aded9",
   "metadata": {
    "id": "77e70e4b-0206-4873-b620-a034b47aded9",
    "outputId": "00a6e955-9568-45ec-a519-b6c1f1908c87"
   },
   "outputs": [
    {
     "name": "stdout",
     "output_type": "stream",
     "text": [
      "2022-03-04\n",
      "<class 'datetime.date'>\n"
     ]
    }
   ],
   "source": [
    "date1 = today_date.date()\n",
    "print(date1)\n",
    "print(type(date1))"
   ]
  },
  {
   "cell_type": "code",
   "execution_count": null,
   "id": "027aa5de-e74b-4057-9a84-64dcfede47fc",
   "metadata": {
    "id": "027aa5de-e74b-4057-9a84-64dcfede47fc",
    "outputId": "4a067bf6-edbc-40f9-df45-319b4291d45e"
   },
   "outputs": [
    {
     "name": "stdout",
     "output_type": "stream",
     "text": [
      "20\n",
      "<class 'int'>\n"
     ]
    }
   ],
   "source": [
    "h = today_date.hour\n",
    "print(h)\n",
    "print(type(h))"
   ]
  },
  {
   "cell_type": "code",
   "execution_count": null,
   "id": "b65a1a67-7986-4cac-848e-5b765daaaabe",
   "metadata": {
    "id": "b65a1a67-7986-4cac-848e-5b765daaaabe",
    "outputId": "6ca563a6-825f-4d78-ed2e-61a558c244fb"
   },
   "outputs": [
    {
     "data": {
      "text/plain": [
       "50"
      ]
     },
     "execution_count": 64,
     "metadata": {},
     "output_type": "execute_result"
    }
   ],
   "source": [
    "today_date.second"
   ]
  },
  {
   "cell_type": "code",
   "execution_count": null,
   "id": "421dad7b-dd87-4265-a2e0-395141cfeba1",
   "metadata": {
    "id": "421dad7b-dd87-4265-a2e0-395141cfeba1",
    "outputId": "5084b544-f331-47c8-8fb7-d5a0e249847b"
   },
   "outputs": [
    {
     "name": "stdout",
     "output_type": "stream",
     "text": [
      "2022-03-04 20:14:35.228577\n"
     ]
    }
   ],
   "source": [
    "import datetime\n",
    "today_date = datetime.datetime.today()\n",
    "print(today_date)"
   ]
  },
  {
   "cell_type": "code",
   "execution_count": null,
   "id": "eecf202e-62d2-4b29-9989-098153f894cd",
   "metadata": {
    "id": "eecf202e-62d2-4b29-9989-098153f894cd",
    "outputId": "5b40a747-c367-46a5-b28f-8d95f47eddbc"
   },
   "outputs": [
    {
     "name": "stdout",
     "output_type": "stream",
     "text": [
      "2022-03-04\n"
     ]
    }
   ],
   "source": [
    "import datetime\n",
    "datetime.datetime.now()print(today_date)"
   ]
  },
  {
   "cell_type": "code",
   "execution_count": null,
   "id": "f1328be5-6151-4012-857b-6f7cb1a03296",
   "metadata": {
    "id": "f1328be5-6151-4012-857b-6f7cb1a03296",
    "outputId": "49930326-3a0c-42e3-fd72-ac88f1200d95"
   },
   "outputs": [
    {
     "name": "stdout",
     "output_type": "stream",
     "text": [
      "20:15:15.325422\n"
     ]
    }
   ],
   "source": [
    "import datetime\n",
    "today_date = datetime.datetime.today().time()\n",
    "print(today_date)"
   ]
  },
  {
   "cell_type": "markdown",
   "id": "9626f01a-cd93-4779-a0df-7bf544d9d2c0",
   "metadata": {
    "id": "9626f01a-cd93-4779-a0df-7bf544d9d2c0"
   },
   "source": [
    "## timedelta"
   ]
  },
  {
   "cell_type": "code",
   "execution_count": null,
   "id": "6a67d179-2cf8-40b8-a4ef-09a9b259d8de",
   "metadata": {
    "id": "6a67d179-2cf8-40b8-a4ef-09a9b259d8de"
   },
   "outputs": [],
   "source": [
    "timedelta() --->> when we want to use or get future date or past date that time we use this \n",
    "time delta function\n",
    "\n",
    "syntax:\n",
    "\n",
    "datetime.timedelta(arg)"
   ]
  },
  {
   "cell_type": "code",
   "execution_count": 5,
   "id": "22e7e105-cbf2-47c7-bfe1-72b29e08fcbb",
   "metadata": {
    "id": "22e7e105-cbf2-47c7-bfe1-72b29e08fcbb",
    "outputId": "0ee6af13-5d24-4b11-de48-7b0c8781ed1a"
   },
   "outputs": [
    {
     "ename": "NameError",
     "evalue": "name 'datetime' is not defined",
     "output_type": "error",
     "traceback": [
      "\u001b[1;31m---------------------------------------------------------------------------\u001b[0m",
      "\u001b[1;31mNameError\u001b[0m                                 Traceback (most recent call last)",
      "\u001b[1;32m~\\AppData\\Local\\Temp/ipykernel_17540/3710668607.py\u001b[0m in \u001b[0;36m<module>\u001b[1;34m\u001b[0m\n\u001b[1;32m----> 1\u001b[1;33m \u001b[0mcurrent_date\u001b[0m \u001b[1;33m=\u001b[0m \u001b[0mdatetime\u001b[0m\u001b[1;33m.\u001b[0m\u001b[0mdatetime\u001b[0m\u001b[1;33m.\u001b[0m\u001b[0mtoday\u001b[0m\u001b[1;33m(\u001b[0m\u001b[1;33m)\u001b[0m\u001b[1;33m.\u001b[0m\u001b[0mdate\u001b[0m\u001b[1;33m(\u001b[0m\u001b[1;33m)\u001b[0m\u001b[1;33m\u001b[0m\u001b[1;33m\u001b[0m\u001b[0m\n\u001b[0m\u001b[0;32m      2\u001b[0m \u001b[0mprint\u001b[0m\u001b[1;33m(\u001b[0m\u001b[0mcurrent_date\u001b[0m\u001b[1;33m)\u001b[0m\u001b[1;33m\u001b[0m\u001b[1;33m\u001b[0m\u001b[0m\n",
      "\u001b[1;31mNameError\u001b[0m: name 'datetime' is not defined"
     ]
    }
   ],
   "source": [
    "current_date = datetime.datetime.today().date()\n",
    "print(current_date)"
   ]
  },
  {
   "cell_type": "code",
   "execution_count": null,
   "id": "536543d9-5bc7-4305-83a6-dd5a483c8190",
   "metadata": {
    "id": "536543d9-5bc7-4305-83a6-dd5a483c8190",
    "outputId": "f5a3c3f8-474f-44e2-a085-2cf795b82e28"
   },
   "outputs": [
    {
     "name": "stdout",
     "output_type": "stream",
     "text": [
      "2022-03-06\n"
     ]
    }
   ],
   "source": [
    "### WAP to get date from 2 days now \n",
    "current_date = datetime.datetime.today().date()\n",
    "new_date = current_date + datetime.timedelta(days = 2)\n",
    "print(new_date)"
   ]
  },
  {
   "cell_type": "code",
   "execution_count": null,
   "id": "dc020eee-9a7e-44e8-9f11-32f7fe95d6ae",
   "metadata": {
    "id": "dc020eee-9a7e-44e8-9f11-32f7fe95d6ae",
    "outputId": "186bbc42-2161-4db3-d64e-06e15e43ec8e"
   },
   "outputs": [
    {
     "name": "stdout",
     "output_type": "stream",
     "text": [
      "2022-03-11\n"
     ]
    }
   ],
   "source": [
    "### WAP to get date from 7 days now \n",
    "current_date = datetime.datetime.today().date()\n",
    "new_date = current_date + datetime.timedelta(days = 7)\n",
    "print(new_date)"
   ]
  },
  {
   "cell_type": "code",
   "execution_count": null,
   "id": "821604c1-bef0-4eb8-a9cb-d37ef26aec26",
   "metadata": {
    "id": "821604c1-bef0-4eb8-a9cb-d37ef26aec26",
    "outputId": "1976e304-c38f-4450-b267-065fbe474ab7"
   },
   "outputs": [
    {
     "name": "stdout",
     "output_type": "stream",
     "text": [
      "2022-04-03\n"
     ]
    }
   ],
   "source": [
    "### WAP to get date from 30 days now \n",
    "current_date = datetime.datetime.today().date()\n",
    "new_date = current_date + datetime.timedelta(days = 30)\n",
    "print(new_date)"
   ]
  },
  {
   "cell_type": "code",
   "execution_count": null,
   "id": "d6436826-3237-4414-93c1-67b54b2ea84e",
   "metadata": {
    "id": "d6436826-3237-4414-93c1-67b54b2ea84e",
    "outputId": "3281cb9c-599e-4580-ca00-9df4ffc1841f"
   },
   "outputs": [
    {
     "name": "stdout",
     "output_type": "stream",
     "text": [
      "LAST 10 DAYS\n",
      "current_date: 2022-03-04\n",
      "past_day: 2022-02-22\n",
      "future_day: 2022-03-14\n"
     ]
    }
   ],
   "source": [
    "# WAP to print Last 10 day and next 10 days \n",
    "\n",
    "print(\"LAST 10 DAYS\")\n",
    "    \n",
    "import datetime\n",
    "current_date=datetime.datetime.today().date()\n",
    "\n",
    "past_day= current_date-datetime.timedelta(days=10)\n",
    "\n",
    "future_day=current_date+datetime.timedelta(days=10)\n",
    "\n",
    "print(f\"current_date: {current_date}\")\n",
    "print(f\"past_day: {past_day}\")\n",
    "print(f\"future_day: {future_day}\")\n",
    "    "
   ]
  },
  {
   "cell_type": "code",
   "execution_count": null,
   "id": "0d696528-3c20-4d3d-9ef5-71e215e72fdd",
   "metadata": {
    "id": "0d696528-3c20-4d3d-9ef5-71e215e72fdd",
    "outputId": "5efb0d27-3700-431f-daad-301718162149"
   },
   "outputs": [
    {
     "name": "stdout",
     "output_type": "stream",
     "text": [
      "LAST 10 Days:\n",
      "Last day = 2022-02-22\n",
      "Last day = 2022-02-23\n",
      "Last day = 2022-02-24\n",
      "Last day = 2022-02-25\n",
      "Last day = 2022-02-26\n",
      "Last day = 2022-02-27\n",
      "Last day = 2022-02-28\n",
      "Last day = 2022-03-01\n",
      "Last day = 2022-03-02\n",
      "Last day = 2022-03-03\n",
      "NEXT 10 Days:\n",
      "NEXT day = 2022-03-04\n",
      "NEXT day = 2022-03-05\n",
      "NEXT day = 2022-03-06\n",
      "NEXT day = 2022-03-07\n",
      "NEXT day = 2022-03-08\n",
      "NEXT day = 2022-03-09\n",
      "NEXT day = 2022-03-10\n",
      "NEXT day = 2022-03-11\n",
      "NEXT day = 2022-03-12\n",
      "NEXT day = 2022-03-13\n"
     ]
    }
   ],
   "source": [
    "import datetime\n",
    "currentdate=datetime.datetime.today().date()\n",
    "print(\"LAST 10 Days:\")\n",
    "for i in range(-10,0):\n",
    "    newdate=currentdate + datetime.timedelta(days = i)\n",
    "    print(\"Last day =\",newdate)\n",
    "    \n",
    "print(\"NEXT 10 Days:\")\n",
    "for i in range(0,10):\n",
    "    newdate=currentdate + datetime.timedelta(days = i)\n",
    "    print(\"NEXT day =\",newdate)"
   ]
  },
  {
   "cell_type": "code",
   "execution_count": null,
   "id": "57a2dbca-7ebd-4fb0-90f5-716902805307",
   "metadata": {
    "id": "57a2dbca-7ebd-4fb0-90f5-716902805307",
    "outputId": "dbe17685-7149-44c2-cd0d-3add968a95e6"
   },
   "outputs": [
    {
     "name": "stdout",
     "output_type": "stream",
     "text": [
      "2022-03-11\n"
     ]
    }
   ],
   "source": [
    "newdate=currentdate + datetime.timedelta(weeks = 1)\n",
    "print(newdate)"
   ]
  },
  {
   "cell_type": "code",
   "execution_count": null,
   "id": "c46cf0de-d714-42b5-8164-22e546381ab7",
   "metadata": {
    "id": "c46cf0de-d714-42b5-8164-22e546381ab7",
    "outputId": "a86777d1-fa3d-4315-c96b-016b7de1cc9c"
   },
   "outputs": [
    {
     "name": "stdout",
     "output_type": "stream",
     "text": [
      "2022-02-25\n"
     ]
    }
   ],
   "source": [
    "newdate=currentdate + datetime.timedelta(weeks = -1)\n",
    "print(newdate)"
   ]
  },
  {
   "cell_type": "code",
   "execution_count": null,
   "id": "49b16288-b40b-4651-88b8-0eb2adfb3a74",
   "metadata": {
    "id": "49b16288-b40b-4651-88b8-0eb2adfb3a74",
    "outputId": "949dfb12-908a-4562-96aa-bf7d95ac547c"
   },
   "outputs": [
    {
     "name": "stdout",
     "output_type": "stream",
     "text": [
      "2022-02-18\n"
     ]
    }
   ],
   "source": [
    "newdate=currentdate + datetime.timedelta(weeks = -2)\n",
    "print(newdate)"
   ]
  },
  {
   "cell_type": "code",
   "execution_count": null,
   "id": "d7924e10-b580-458d-81a2-55f10b4e09fd",
   "metadata": {
    "id": "d7924e10-b580-458d-81a2-55f10b4e09fd"
   },
   "outputs": [],
   "source": [
    " days = 0, seconds=0 , microseconds = 0, milliseconds= 0, minutes =0, hours= 0, weeks= 0"
   ]
  },
  {
   "cell_type": "code",
   "execution_count": null,
   "id": "761bfeac-1263-44d1-8554-20061b79d808",
   "metadata": {
    "id": "761bfeac-1263-44d1-8554-20061b79d808",
    "outputId": "8157848f-3c3d-4102-b480-4d005f4bc9c4"
   },
   "outputs": [
    {
     "name": "stdout",
     "output_type": "stream",
     "text": [
      "2022-03-04 20:32:20.235302\n"
     ]
    }
   ],
   "source": [
    "current_time = datetime.datetime.today()\n",
    "print(current_time)"
   ]
  },
  {
   "cell_type": "code",
   "execution_count": null,
   "id": "0cb9f96f-71a4-4360-a24e-9df45e616cd0",
   "metadata": {
    "id": "0cb9f96f-71a4-4360-a24e-9df45e616cd0"
   },
   "outputs": [],
   "source": []
  },
  {
   "cell_type": "code",
   "execution_count": null,
   "id": "6a7f9587-a5e2-4673-bcf7-5a0e8003fee3",
   "metadata": {
    "id": "6a7f9587-a5e2-4673-bcf7-5a0e8003fee3"
   },
   "outputs": [],
   "source": []
  },
  {
   "cell_type": "code",
   "execution_count": null,
   "id": "042e675c-9e31-4477-b513-5e029a2ba106",
   "metadata": {
    "id": "042e675c-9e31-4477-b513-5e029a2ba106",
    "outputId": "31641cd7-5c89-4b2b-b7fd-65863acd6a35"
   },
   "outputs": [
    {
     "name": "stdout",
     "output_type": "stream",
     "text": [
      "2022-03-04 22:32:20.235302\n"
     ]
    }
   ],
   "source": [
    "new_time = current_time + datetime.timedelta(hours=2)\n",
    "print(new_time)"
   ]
  },
  {
   "cell_type": "markdown",
   "id": "31a5ad03-646d-43ff-bd07-18fdf1f4b0d5",
   "metadata": {
    "id": "31a5ad03-646d-43ff-bd07-18fdf1f4b0d5"
   },
   "source": [
    "# strftime()"
   ]
  },
  {
   "cell_type": "code",
   "execution_count": null,
   "id": "541a9644-8968-4ab2-866b-f1206a525df4",
   "metadata": {
    "id": "541a9644-8968-4ab2-866b-f1206a525df4"
   },
   "outputs": [],
   "source": [
    "str -- > string\n",
    "strftime --->>> string from time object\n",
    "\n",
    "time to string "
   ]
  },
  {
   "cell_type": "code",
   "execution_count": null,
   "id": "3862c100-7535-4de8-a9f1-6218f5897073",
   "metadata": {
    "id": "3862c100-7535-4de8-a9f1-6218f5897073",
    "outputId": "0492e56b-adeb-44a9-c171-f7175947009b"
   },
   "outputs": [
    {
     "name": "stdout",
     "output_type": "stream",
     "text": [
      "2022-03-04 20:35:30.734816\n"
     ]
    }
   ],
   "source": [
    "current_date = datetime.datetime.today()\n",
    "print(current_date)"
   ]
  },
  {
   "cell_type": "code",
   "execution_count": null,
   "id": "05841a8d-2ce9-4d5f-b63d-d3bc7d2a93ec",
   "metadata": {
    "id": "05841a8d-2ce9-4d5f-b63d-d3bc7d2a93ec",
    "outputId": "a83d5f1a-f2f8-4e34-df0c-0d2a14bf173b"
   },
   "outputs": [
    {
     "data": {
      "text/plain": [
       "'2022'"
      ]
     },
     "execution_count": 91,
     "metadata": {},
     "output_type": "execute_result"
    }
   ],
   "source": [
    "year = current_date.strftime(\"%Y\")\n",
    "year"
   ]
  },
  {
   "cell_type": "code",
   "execution_count": null,
   "id": "ec05d21d-05f3-4e0f-a96a-5a6eed9528df",
   "metadata": {
    "id": "ec05d21d-05f3-4e0f-a96a-5a6eed9528df",
    "outputId": "e0ae0c52-3ed7-4245-eb38-2a1985dc6af7"
   },
   "outputs": [
    {
     "data": {
      "text/plain": [
       "'22'"
      ]
     },
     "execution_count": 92,
     "metadata": {},
     "output_type": "execute_result"
    }
   ],
   "source": [
    "year = current_date.strftime(\"%y\")\n",
    "year"
   ]
  },
  {
   "cell_type": "code",
   "execution_count": null,
   "id": "601039fb-5157-4e94-91e4-b8a19582f2af",
   "metadata": {
    "id": "601039fb-5157-4e94-91e4-b8a19582f2af",
    "outputId": "9c3bd80c-6add-4e45-e536-01378148d605"
   },
   "outputs": [
    {
     "name": "stdout",
     "output_type": "stream",
     "text": [
      "03\n"
     ]
    }
   ],
   "source": [
    "month = current_date.strftime(\"%m\")\n",
    "print(month)"
   ]
  },
  {
   "cell_type": "code",
   "execution_count": null,
   "id": "bb7cf664-9b2a-41b7-ae4c-00fa0dd49e3b",
   "metadata": {
    "id": "bb7cf664-9b2a-41b7-ae4c-00fa0dd49e3b",
    "outputId": "2e2e9bab-52f9-4a96-e936-9af57c389fc1"
   },
   "outputs": [
    {
     "name": "stdout",
     "output_type": "stream",
     "text": [
      "March\n"
     ]
    }
   ],
   "source": [
    "month = current_date.strftime(\"%B\")\n",
    "print(month)"
   ]
  },
  {
   "cell_type": "code",
   "execution_count": null,
   "id": "01d86755-edab-4cec-935b-235e2cdeed39",
   "metadata": {
    "id": "01d86755-edab-4cec-935b-235e2cdeed39",
    "outputId": "f6e3d6c4-03d4-4c39-e7db-2341ddd6beb9"
   },
   "outputs": [
    {
     "name": "stdout",
     "output_type": "stream",
     "text": [
      "Mar\n"
     ]
    }
   ],
   "source": [
    "month = current_date.strftime(\"%b\")\n",
    "print(month)"
   ]
  },
  {
   "cell_type": "code",
   "execution_count": null,
   "id": "d1d0af76-7f0c-48e7-893b-f383b8f89e67",
   "metadata": {
    "id": "d1d0af76-7f0c-48e7-893b-f383b8f89e67",
    "outputId": "11171e49-6a1f-425e-9825-cd84a1d75262"
   },
   "outputs": [
    {
     "name": "stdout",
     "output_type": "stream",
     "text": [
      "04\n",
      "<class 'str'>\n"
     ]
    }
   ],
   "source": [
    "date = current_date.strftime(\"%d\")\n",
    "print(date)\n",
    "print(type(date))"
   ]
  },
  {
   "cell_type": "code",
   "execution_count": null,
   "id": "8f9db1d9-5a24-4026-8181-436609dc7f73",
   "metadata": {
    "id": "8f9db1d9-5a24-4026-8181-436609dc7f73",
    "outputId": "d532c78a-4507-403b-de4b-fe9f851789d9"
   },
   "outputs": [
    {
     "name": "stdout",
     "output_type": "stream",
     "text": [
      "Friday\n",
      "<class 'str'>\n"
     ]
    }
   ],
   "source": [
    "day = current_date.strftime(\"%A\")\n",
    "print(day)\n",
    "print(type(day))"
   ]
  },
  {
   "cell_type": "code",
   "execution_count": null,
   "id": "5d840d11-cbb4-4b78-b68c-af014549b349",
   "metadata": {
    "id": "5d840d11-cbb4-4b78-b68c-af014549b349",
    "outputId": "6f1d562d-7101-405c-c2a8-cf0a048c27b4"
   },
   "outputs": [
    {
     "name": "stdout",
     "output_type": "stream",
     "text": [
      "Fri\n",
      "<class 'str'>\n"
     ]
    }
   ],
   "source": [
    "day = current_date.strftime(\"%a\")\n",
    "print(day)\n",
    "print(type(day))"
   ]
  },
  {
   "cell_type": "code",
   "execution_count": null,
   "id": "fb92c2bc-9815-4fd5-ab21-a84e1ce1050e",
   "metadata": {
    "id": "fb92c2bc-9815-4fd5-ab21-a84e1ce1050e",
    "outputId": "9e2e979d-8885-432f-b37c-aeb6e5396110"
   },
   "outputs": [
    {
     "name": "stdout",
     "output_type": "stream",
     "text": [
      "5\n",
      "<class 'str'>\n"
     ]
    }
   ],
   "source": [
    "day = current_date.strftime(\"%w\") # sun = 0 mon= 1\n",
    "print(day)\n",
    "print(type(day))"
   ]
  },
  {
   "cell_type": "code",
   "execution_count": null,
   "id": "d3d34f17-4592-4f8a-90ee-e8e6ad4ef949",
   "metadata": {
    "id": "d3d34f17-4592-4f8a-90ee-e8e6ad4ef949",
    "outputId": "426ca5fe-da09-4df7-fd1d-786861c4b335"
   },
   "outputs": [
    {
     "name": "stdout",
     "output_type": "stream",
     "text": [
      "063\n",
      "<class 'str'>\n"
     ]
    }
   ],
   "source": [
    "day = current_date.strftime(\"%j\") #day number\n",
    "print(day)\n",
    "print(type(day))"
   ]
  },
  {
   "cell_type": "code",
   "execution_count": null,
   "id": "0d665fdf-8ef8-441d-8c1a-325f99ec8278",
   "metadata": {
    "id": "0d665fdf-8ef8-441d-8c1a-325f99ec8278",
    "outputId": "22f4f525-87e1-47fc-a521-bcd09b8532af"
   },
   "outputs": [
    {
     "name": "stdout",
     "output_type": "stream",
     "text": [
      "09\n"
     ]
    }
   ],
   "source": [
    "\n",
    "## week number\n",
    "week = current_date.strftime(\"%U\") #week number\n",
    "print(week)\n"
   ]
  },
  {
   "cell_type": "code",
   "execution_count": null,
   "id": "ed4e80b5-ef66-42d6-a170-4048e1a5edaa",
   "metadata": {
    "id": "ed4e80b5-ef66-42d6-a170-4048e1a5edaa",
    "outputId": "008c66d0-3705-46fb-bd1c-d8601156793b"
   },
   "outputs": [
    {
     "name": "stdout",
     "output_type": "stream",
     "text": [
      "PM\n"
     ]
    }
   ],
   "source": [
    "\n",
    "## week number\n",
    "am_pm = current_date.strftime(\"%p\") #AM/PM\n",
    "print(am_pm)\n"
   ]
  },
  {
   "cell_type": "code",
   "execution_count": null,
   "id": "abca6fed-f402-452e-a658-a584f2f4682e",
   "metadata": {
    "id": "abca6fed-f402-452e-a658-a584f2f4682e"
   },
   "outputs": [],
   "source": [
    "### YEAR\n",
    "current_datetime_obj.strftime(\"%Y\") # year 2022\n",
    "current_datetime_obj.strftime(\"%y\") # year 22\n",
    "\n",
    "### Month \n",
    "current_datetime_obj.strftime(\"%m\") # month 03\n",
    "current_datetime_obj.strftime(\"%B\") # month March\n",
    "current_datetime_obj.strftime(\"%b\") # month mar\n",
    "\n",
    "### date \n",
    "current_datetime_obj.strftime(\"%d\") # date 04\n",
    "\n",
    "### Weekdays\n",
    "current_datetime_obj.strftime(\"%A\") # weekday >> Friday\n",
    "current_datetime_obj.strftime(\"%a\") # short weekday name >> Fri\n",
    "current_datetime_obj.strftime(\"%w\") # week number >> sun=0, mon = 1\n",
    "\n",
    "### day Number \n",
    "current_datetime_obj.strftime(\"%j\") # Day number >> 063\n",
    "\n",
    "### Week Numbers from 1 Jan \n",
    "current_datetime_obj.strftime(\"%U\") # week number >> 09\n",
    "\n",
    "### AM/PM\n",
    "current_datetime_obj.strftime(\"%p\") # AM/PM >> PM\n"
   ]
  },
  {
   "cell_type": "code",
   "execution_count": null,
   "id": "10349e70-cbd9-40dd-9c05-76a67af1ac7c",
   "metadata": {
    "id": "10349e70-cbd9-40dd-9c05-76a67af1ac7c",
    "outputId": "d1a65046-bd03-406a-8bfc-b50223a18e6b"
   },
   "outputs": [
    {
     "name": "stdout",
     "output_type": "stream",
     "text": [
      "1995-03-04 00:00:00\n"
     ]
    }
   ],
   "source": [
    "random_day = datetime.datetime(1995, 3,4)\n",
    "print(random_day)\n",
    "\n"
   ]
  },
  {
   "cell_type": "code",
   "execution_count": null,
   "id": "335194f7-b55b-43f4-a0be-12b709a6daf8",
   "metadata": {
    "id": "335194f7-b55b-43f4-a0be-12b709a6daf8",
    "outputId": "2ea7836d-a258-4efd-f9d6-a8453e507d88"
   },
   "outputs": [
    {
     "name": "stdout",
     "output_type": "stream",
     "text": [
      "1995-03-04 00:00:00\n",
      "Saturday\n"
     ]
    }
   ],
   "source": [
    "random_day = datetime.datetime(1995, 3,4)\n",
    "print(random_day)\n",
    "\n",
    "weekday = random_day.strftime(\"%A\")\n",
    "print(weekday)"
   ]
  },
  {
   "cell_type": "code",
   "execution_count": null,
   "id": "e146f25b-26e1-40e2-9dfc-118204cf4d74",
   "metadata": {
    "id": "e146f25b-26e1-40e2-9dfc-118204cf4d74",
    "outputId": "aa65727f-972e-4496-a4bd-804f7a4a74b8"
   },
   "outputs": [
    {
     "name": "stdout",
     "output_type": "stream",
     "text": [
      "2001-10-25 00:00:00\n",
      "Thursday\n"
     ]
    }
   ],
   "source": [
    "random_day = datetime.datetime(2001, 10,25)\n",
    "print(random_day)\n",
    "\n",
    "weekday = random_day.strftime(\"%A\")\n",
    "print(weekday)"
   ]
  },
  {
   "cell_type": "code",
   "execution_count": null,
   "id": "69bce969-95f9-44a8-95f8-206eb495bf6a",
   "metadata": {
    "id": "69bce969-95f9-44a8-95f8-206eb495bf6a",
    "outputId": "74f5da9a-c816-426e-dcc6-8ba0730cebb1"
   },
   "outputs": [
    {
     "name": "stdout",
     "output_type": "stream",
     "text": [
      "2001-10-25 00:00:00\n",
      "298\n"
     ]
    }
   ],
   "source": [
    "random_day = datetime.datetime(2001, 10,25)\n",
    "print(random_day)\n",
    "\n",
    "days = random_day.strftime(\"%j\")\n",
    "print(days)"
   ]
  },
  {
   "cell_type": "code",
   "execution_count": null,
   "id": "33228170-bce2-4a06-9337-f5cd784da197",
   "metadata": {
    "id": "33228170-bce2-4a06-9337-f5cd784da197",
    "outputId": "5c8fc55c-2f55-492b-ae9f-ae249dca658c"
   },
   "outputs": [
    {
     "name": "stdout",
     "output_type": "stream",
     "text": [
      "2001-10-25 00:00:00\n",
      "Thursday 25 October 2001\n"
     ]
    }
   ],
   "source": [
    "random_day = datetime.datetime(2001, 10,25)\n",
    "print(random_day)\n",
    "\n",
    "day = random_day.strftime(\"%A %d %B %Y\")\n",
    "print(day)"
   ]
  },
  {
   "cell_type": "code",
   "execution_count": null,
   "id": "638c9ca6-63f8-44ac-9d83-3ed5b082d5c8",
   "metadata": {
    "id": "638c9ca6-63f8-44ac-9d83-3ed5b082d5c8",
    "outputId": "9fe6a888-a39d-49b4-c64e-50366385fac5"
   },
   "outputs": [
    {
     "name": "stdout",
     "output_type": "stream",
     "text": [
      "2001-10-25 00:00:00\n",
      "Thursday 25 Oct 2001\n"
     ]
    }
   ],
   "source": [
    "random_day = datetime.datetime(2001, 10,25)\n",
    "print(random_day)\n",
    "\n",
    "day = random_day.strftime(\"%A %d %b %Y\")\n",
    "print(day)"
   ]
  },
  {
   "cell_type": "code",
   "execution_count": null,
   "id": "1c12dd0b-3618-44f4-bb7e-66a87accc0fa",
   "metadata": {
    "id": "1c12dd0b-3618-44f4-bb7e-66a87accc0fa",
    "outputId": "3a58f76b-2f1a-4473-8f3d-a0ab9706b3f7"
   },
   "outputs": [
    {
     "name": "stdout",
     "output_type": "stream",
     "text": [
      "2001-10-25 00:00:00\n",
      "Thu 25 Oct 2001\n"
     ]
    }
   ],
   "source": [
    "random_day = datetime.datetime(2001, 10,25)\n",
    "print(random_day)\n",
    "\n",
    "day = random_day.strftime(\"%a %d %b %Y\")\n",
    "print(day)"
   ]
  },
  {
   "cell_type": "code",
   "execution_count": null,
   "id": "b19fb174-63bc-4b52-9cca-ee78464e40fa",
   "metadata": {
    "id": "b19fb174-63bc-4b52-9cca-ee78464e40fa",
    "outputId": "73b53393-b86f-4f8b-f2c4-581210da7441"
   },
   "outputs": [
    {
     "name": "stdout",
     "output_type": "stream",
     "text": [
      "2001-10-25 00:00:00\n",
      "25 Oct 2001 Thu\n"
     ]
    }
   ],
   "source": [
    "random_day = datetime.datetime(2001, 10,25)\n",
    "print(random_day)\n",
    "print(day)\n",
    "\n",
    "day = random_day.strftime(\"%d %b %Y %a\")"
   ]
  },
  {
   "cell_type": "markdown",
   "id": "56e80f5a-a6d5-4945-8f2b-ee9b541bc564",
   "metadata": {
    "id": "56e80f5a-a6d5-4945-8f2b-ee9b541bc564"
   },
   "source": [
    "### strptime()"
   ]
  },
  {
   "cell_type": "code",
   "execution_count": null,
   "id": "ff5b601d-3c99-4d3b-bdd3-dd83c1d4a7cd",
   "metadata": {
    "id": "ff5b601d-3c99-4d3b-bdd3-dd83c1d4a7cd"
   },
   "outputs": [],
   "source": [
    "strptime() --- >> string points to time\n",
    "\n",
    "syntax:\n",
    "strptime(date,date_format)\n",
    "\n",
    "\n",
    "Return standard datetime"
   ]
  },
  {
   "cell_type": "code",
   "execution_count": null,
   "id": "eab4e7a9-d618-4648-b551-bf6048c271f4",
   "metadata": {
    "id": "eab4e7a9-d618-4648-b551-bf6048c271f4"
   },
   "outputs": [],
   "source": [
    "date1 = \"04-03-2022\"\n",
    "date2 = \"04/03/2022\"\n",
    "date3 = \"04 mar 2022\"\n",
    "date4 = '04 March 2022'\n",
    "date5 = \"2022-03-04\""
   ]
  },
  {
   "cell_type": "code",
   "execution_count": null,
   "id": "e3a37465-4d58-4a7c-a617-9b3388d585ea",
   "metadata": {
    "id": "e3a37465-4d58-4a7c-a617-9b3388d585ea",
    "outputId": "54663900-44b1-4411-833f-f040731d87a2"
   },
   "outputs": [
    {
     "name": "stdout",
     "output_type": "stream",
     "text": [
      "2022-03-04 00:00:00\n"
     ]
    }
   ],
   "source": [
    "date1 = \"04-03-2022\"\n",
    "date_format = \"%d-%m-%Y\"\n",
    "\n",
    "std_date = datetime.datetime.strptime(date1,date_format)\n",
    "print(std_date)"
   ]
  },
  {
   "cell_type": "code",
   "execution_count": null,
   "id": "9d0153bd-55c8-40c0-97a3-a05d23d9a8da",
   "metadata": {
    "id": "9d0153bd-55c8-40c0-97a3-a05d23d9a8da",
    "outputId": "f9665c39-bb2b-4ed7-9dbc-a75350c67a85"
   },
   "outputs": [
    {
     "name": "stdout",
     "output_type": "stream",
     "text": [
      "2022-03-04\n"
     ]
    }
   ],
   "source": [
    "date1 = \"04-03-2022\"\n",
    "date_format = \"%d-%m-%Y\"\n",
    "\n",
    "std_date = datetime.datetime.strptime(date1,date_format).date()\n",
    "print(std_date)"
   ]
  },
  {
   "cell_type": "code",
   "execution_count": null,
   "id": "d9269f33-0155-46be-929a-a17ee6cfc328",
   "metadata": {
    "id": "d9269f33-0155-46be-929a-a17ee6cfc328",
    "outputId": "09ab46ff-bb01-44e0-94bb-0c732cd8ba81"
   },
   "outputs": [
    {
     "name": "stdout",
     "output_type": "stream",
     "text": [
      "2022-03-04\n"
     ]
    }
   ],
   "source": [
    "date2 = \"04/03/2022\"\n",
    "date_format = \"%d/%m/%Y\"\n",
    "\n",
    "std_date = datetime.datetime.strptime(date2,date_format).date()\n",
    "print(std_date)"
   ]
  },
  {
   "cell_type": "code",
   "execution_count": null,
   "id": "e17e86a2-045f-47fe-9858-29a8f1d418bf",
   "metadata": {
    "id": "e17e86a2-045f-47fe-9858-29a8f1d418bf",
    "outputId": "04ab359a-4cbd-4d14-a4bb-b8a719db240f"
   },
   "outputs": [
    {
     "name": "stdout",
     "output_type": "stream",
     "text": [
      "2022-03-04\n"
     ]
    }
   ],
   "source": [
    "string_date = \"04 mar 2022\"\n",
    "date_format = \"%d %b %Y\"\n",
    "\n",
    "std_date = datetime.datetime.strptime(string_date,date_format).date()\n",
    "print(std_date)"
   ]
  },
  {
   "cell_type": "code",
   "execution_count": null,
   "id": "90e003bd-995e-4243-ae3d-470cf0af78a7",
   "metadata": {
    "id": "90e003bd-995e-4243-ae3d-470cf0af78a7",
    "outputId": "86d3d829-e494-4983-b1e9-bf0a02baea4d"
   },
   "outputs": [
    {
     "name": "stdout",
     "output_type": "stream",
     "text": [
      "2022-03-04\n"
     ]
    }
   ],
   "source": [
    "date4 = '04 March 22'\n",
    "date_format = \"%d %B %y\"\n",
    "\n",
    "std_date = datetime.datetime.strptime(date4,date_format).date()\n",
    "print(std_date)\n"
   ]
  },
  {
   "cell_type": "code",
   "execution_count": null,
   "id": "6e9a45fc-8c15-4f40-8c72-c67a8776cb11",
   "metadata": {
    "id": "6e9a45fc-8c15-4f40-8c72-c67a8776cb11",
    "outputId": "f32892a0-51d7-4ae5-ea47-89a6721fae23"
   },
   "outputs": [
    {
     "name": "stdout",
     "output_type": "stream",
     "text": [
      "2022-03-04\n"
     ]
    }
   ],
   "source": [
    "date5 = \"2022-03-04\"\n",
    "date_format =\"%Y-%m-%d\"\n",
    "\n",
    "std_date = datetime.datetime.strptime(date5,date_format).date()\n",
    "print(std_date)\n"
   ]
  },
  {
   "cell_type": "code",
   "execution_count": null,
   "id": "bbc7c4e2-e5b3-43ec-82eb-b8a64d1a710e",
   "metadata": {
    "id": "bbc7c4e2-e5b3-43ec-82eb-b8a64d1a710e",
    "outputId": "745a4a2b-8463-420e-a30a-8544af434bf2"
   },
   "outputs": [
    {
     "name": "stdout",
     "output_type": "stream",
     "text": [
      "2022-03-04\n"
     ]
    }
   ],
   "source": [
    "date5 = \"2022-3-4\"\n",
    "\n",
    "\n",
    "std_date = datetime.datetime.strptime(date5,\"%Y-%m-%d\").date()\n",
    "print(std_date)\n"
   ]
  },
  {
   "cell_type": "code",
   "execution_count": null,
   "id": "eb30377e-5acd-4de7-a0c0-4d054f4f1d95",
   "metadata": {
    "id": "eb30377e-5acd-4de7-a0c0-4d054f4f1d95",
    "outputId": "ca26d39b-117a-426a-953a-1f34aff883d3"
   },
   "outputs": [
    {
     "name": "stdout",
     "output_type": "stream",
     "text": [
      "2022-03-04\n"
     ]
    }
   ],
   "source": [
    "std_date = datetime.datetime.strptime(\"2022-03-04\",\"%Y-%m-%d\").date()\n",
    "print(std_date)\n"
   ]
  },
  {
   "cell_type": "code",
   "execution_count": null,
   "id": "bf3aa757-f3fb-409d-9d71-ea9824dcdf60",
   "metadata": {
    "id": "bf3aa757-f3fb-409d-9d71-ea9824dcdf60",
    "outputId": "f56fa7d5-c284-4688-bdc6-f772cbace03b"
   },
   "outputs": [
    {
     "ename": "ValueError",
     "evalue": "time data '2022-13-4' does not match format '%Y-%m-%d'",
     "output_type": "error",
     "traceback": [
      "\u001b[1;31m---------------------------------------------------------------------------\u001b[0m",
      "\u001b[1;31mValueError\u001b[0m                                Traceback (most recent call last)",
      "\u001b[1;32m~\\AppData\\Local\\Temp/ipykernel_10148/1246988123.py\u001b[0m in \u001b[0;36m<module>\u001b[1;34m\u001b[0m\n\u001b[0;32m      2\u001b[0m \u001b[1;33m\u001b[0m\u001b[0m\n\u001b[0;32m      3\u001b[0m \u001b[1;33m\u001b[0m\u001b[0m\n\u001b[1;32m----> 4\u001b[1;33m \u001b[0mstd_date\u001b[0m \u001b[1;33m=\u001b[0m \u001b[0mdatetime\u001b[0m\u001b[1;33m.\u001b[0m\u001b[0mdatetime\u001b[0m\u001b[1;33m.\u001b[0m\u001b[0mstrptime\u001b[0m\u001b[1;33m(\u001b[0m\u001b[0mdate5\u001b[0m\u001b[1;33m,\u001b[0m\u001b[1;34m\"%Y-%m-%d\"\u001b[0m\u001b[1;33m)\u001b[0m\u001b[1;33m.\u001b[0m\u001b[0mdate\u001b[0m\u001b[1;33m(\u001b[0m\u001b[1;33m)\u001b[0m\u001b[1;33m\u001b[0m\u001b[1;33m\u001b[0m\u001b[0m\n\u001b[0m\u001b[0;32m      5\u001b[0m \u001b[0mprint\u001b[0m\u001b[1;33m(\u001b[0m\u001b[0mstd_date\u001b[0m\u001b[1;33m)\u001b[0m\u001b[1;33m\u001b[0m\u001b[1;33m\u001b[0m\u001b[0m\n",
      "\u001b[1;32m~\\AppData\\Local\\Programs\\Python\\Python39\\lib\\_strptime.py\u001b[0m in \u001b[0;36m_strptime_datetime\u001b[1;34m(cls, data_string, format)\u001b[0m\n\u001b[0;32m    566\u001b[0m     \"\"\"Return a class cls instance based on the input string and the\n\u001b[0;32m    567\u001b[0m     format string.\"\"\"\n\u001b[1;32m--> 568\u001b[1;33m     \u001b[0mtt\u001b[0m\u001b[1;33m,\u001b[0m \u001b[0mfraction\u001b[0m\u001b[1;33m,\u001b[0m \u001b[0mgmtoff_fraction\u001b[0m \u001b[1;33m=\u001b[0m \u001b[0m_strptime\u001b[0m\u001b[1;33m(\u001b[0m\u001b[0mdata_string\u001b[0m\u001b[1;33m,\u001b[0m \u001b[0mformat\u001b[0m\u001b[1;33m)\u001b[0m\u001b[1;33m\u001b[0m\u001b[1;33m\u001b[0m\u001b[0m\n\u001b[0m\u001b[0;32m    569\u001b[0m     \u001b[0mtzname\u001b[0m\u001b[1;33m,\u001b[0m \u001b[0mgmtoff\u001b[0m \u001b[1;33m=\u001b[0m \u001b[0mtt\u001b[0m\u001b[1;33m[\u001b[0m\u001b[1;33m-\u001b[0m\u001b[1;36m2\u001b[0m\u001b[1;33m:\u001b[0m\u001b[1;33m]\u001b[0m\u001b[1;33m\u001b[0m\u001b[1;33m\u001b[0m\u001b[0m\n\u001b[0;32m    570\u001b[0m     \u001b[0margs\u001b[0m \u001b[1;33m=\u001b[0m \u001b[0mtt\u001b[0m\u001b[1;33m[\u001b[0m\u001b[1;33m:\u001b[0m\u001b[1;36m6\u001b[0m\u001b[1;33m]\u001b[0m \u001b[1;33m+\u001b[0m \u001b[1;33m(\u001b[0m\u001b[0mfraction\u001b[0m\u001b[1;33m,\u001b[0m\u001b[1;33m)\u001b[0m\u001b[1;33m\u001b[0m\u001b[1;33m\u001b[0m\u001b[0m\n",
      "\u001b[1;32m~\\AppData\\Local\\Programs\\Python\\Python39\\lib\\_strptime.py\u001b[0m in \u001b[0;36m_strptime\u001b[1;34m(data_string, format)\u001b[0m\n\u001b[0;32m    347\u001b[0m     \u001b[0mfound\u001b[0m \u001b[1;33m=\u001b[0m \u001b[0mformat_regex\u001b[0m\u001b[1;33m.\u001b[0m\u001b[0mmatch\u001b[0m\u001b[1;33m(\u001b[0m\u001b[0mdata_string\u001b[0m\u001b[1;33m)\u001b[0m\u001b[1;33m\u001b[0m\u001b[1;33m\u001b[0m\u001b[0m\n\u001b[0;32m    348\u001b[0m     \u001b[1;32mif\u001b[0m \u001b[1;32mnot\u001b[0m \u001b[0mfound\u001b[0m\u001b[1;33m:\u001b[0m\u001b[1;33m\u001b[0m\u001b[1;33m\u001b[0m\u001b[0m\n\u001b[1;32m--> 349\u001b[1;33m         raise ValueError(\"time data %r does not match format %r\" %\n\u001b[0m\u001b[0;32m    350\u001b[0m                          (data_string, format))\n\u001b[0;32m    351\u001b[0m     \u001b[1;32mif\u001b[0m \u001b[0mlen\u001b[0m\u001b[1;33m(\u001b[0m\u001b[0mdata_string\u001b[0m\u001b[1;33m)\u001b[0m \u001b[1;33m!=\u001b[0m \u001b[0mfound\u001b[0m\u001b[1;33m.\u001b[0m\u001b[0mend\u001b[0m\u001b[1;33m(\u001b[0m\u001b[1;33m)\u001b[0m\u001b[1;33m:\u001b[0m\u001b[1;33m\u001b[0m\u001b[1;33m\u001b[0m\u001b[0m\n",
      "\u001b[1;31mValueError\u001b[0m: time data '2022-13-4' does not match format '%Y-%m-%d'"
     ]
    }
   ],
   "source": [
    "date5 = \"2022-13-4\"\n",
    "\n",
    "\n",
    "std_date = datetime.datetime.strptime(date5,\"%Y-%m-%d\").date()\n",
    "print(std_date)\n"
   ]
  },
  {
   "cell_type": "code",
   "execution_count": 2,
   "id": "fd66c280-e832-4f72-8384-73eaf3f6355f",
   "metadata": {
    "id": "fd66c280-e832-4f72-8384-73eaf3f6355f"
   },
   "outputs": [
    {
     "ename": "NameError",
     "evalue": "name 'datetime' is not defined",
     "output_type": "error",
     "traceback": [
      "\u001b[1;31m---------------------------------------------------------------------------\u001b[0m",
      "\u001b[1;31mNameError\u001b[0m                                 Traceback (most recent call last)",
      "\u001b[1;32m~\\AppData\\Local\\Temp/ipykernel_18532/586489349.py\u001b[0m in \u001b[0;36m<module>\u001b[1;34m\u001b[0m\n\u001b[1;32m----> 1\u001b[1;33m \u001b[0mrd\u001b[0m\u001b[1;33m=\u001b[0m\u001b[0mdatetime\u001b[0m\u001b[1;33m.\u001b[0m\u001b[0mdatetime\u001b[0m\u001b[1;33m(\u001b[0m\u001b[1;36m1999\u001b[0m\u001b[1;33m,\u001b[0m\u001b[1;36m2\u001b[0m\u001b[1;33m,\u001b[0m\u001b[1;36m3\u001b[0m\u001b[1;33m)\u001b[0m\u001b[1;33m\u001b[0m\u001b[1;33m\u001b[0m\u001b[0m\n\u001b[0m\u001b[0;32m      2\u001b[0m \u001b[0mprint\u001b[0m\u001b[1;33m(\u001b[0m\u001b[0mrd\u001b[0m\u001b[1;33m)\u001b[0m\u001b[1;33m\u001b[0m\u001b[1;33m\u001b[0m\u001b[0m\n\u001b[0;32m      3\u001b[0m \u001b[1;33m\u001b[0m\u001b[0m\n",
      "\u001b[1;31mNameError\u001b[0m: name 'datetime' is not defined"
     ]
    }
   ],
   "source": [
    "rd=datetime.datetime(1999,2,3)\n",
    "print(rd)\n",
    "\n"
   ]
  },
  {
   "cell_type": "code",
   "execution_count": null,
   "id": "c89e8a66",
   "metadata": {},
   "outputs": [],
   "source": []
  }
 ],
 "metadata": {
  "colab": {
   "name": "datetime_module.ipynb",
   "provenance": []
  },
  "kernelspec": {
   "display_name": "Python 3 (ipykernel)",
   "language": "python",
   "name": "python3"
  },
  "language_info": {
   "codemirror_mode": {
    "name": "ipython",
    "version": 3
   },
   "file_extension": ".py",
   "mimetype": "text/x-python",
   "name": "python",
   "nbconvert_exporter": "python",
   "pygments_lexer": "ipython3",
   "version": "3.9.7"
  }
 },
 "nbformat": 4,
 "nbformat_minor": 5
}
